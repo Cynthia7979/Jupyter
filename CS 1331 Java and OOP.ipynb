{
 "cells": [
  {
   "cell_type": "markdown",
   "id": "731d35fb",
   "metadata": {},
   "source": [
    "# Java Syntax Basics\n",
    "* Every `.java` file includes a single class\n",
    "* The name of the class should be the same as the file name\n",
    "* The `main()` method of the class will be called when running `java <filename>`\n",
    "* File needs to be compiled using `javac <filename>` first\n",
    "* Semicolons\n",
    "\n",
    "Example Hello World file:"
   ]
  },
  {
   "cell_type": "code",
   "execution_count": 1,
   "id": "b93f920f",
   "metadata": {},
   "outputs": [
    {
     "name": "stdout",
     "output_type": "stream",
     "text": [
      "Hello World!\n"
     ]
    }
   ],
   "source": [
    "// Test.java\n",
    "public class Test {\n",
    "    public static void main(String[] args) {\n",
    "        System.out.println(\"Hello World!\");\n",
    "    }\n",
    "}\n",
    "Test.main(new String[0]);"
   ]
  },
  {
   "cell_type": "markdown",
   "id": "1303a122",
   "metadata": {},
   "source": [
    "## Variable Declaration in Java\n",
    "\n",
    "* Syntax: `type` `identifier`\n",
    "* *Must* start with a letter. Can include letters, numbers, underscores\n",
    "* Case sensitive\n",
    "* May only declare once (e.g. JavaScript logic)\n",
    "* Constants\n",
    "    * `UPPER_SNAKE`\n",
    "    * Use `final` keyword before `type`\n",
    "* A lint (?) option may be enabled for the compiler so that unused variables trigger a warning"
   ]
  },
  {
   "cell_type": "code",
   "execution_count": 2,
   "id": "532f95f5",
   "metadata": {},
   "outputs": [
    {
     "name": "stdout",
     "output_type": "stream",
     "text": [
      "Answer\n",
      "42\n"
     ]
    }
   ],
   "source": [
    "Integer number = 42;\n",
    "final String WORD = \"Answer\";\n",
    "System.out.println(WORD);\n",
    "System.out.println(number);"
   ]
  },
  {
   "cell_type": "code",
   "execution_count": 3,
   "id": "b7f9ecb5",
   "metadata": {},
   "outputs": [
    {
     "name": "stdout",
     "output_type": "stream",
     "text": [
      "43\n"
     ]
    }
   ],
   "source": [
    "final Integer IMMUTABLE = 42;\n",
    "IMMUTABLE += 1;\n",
    "System.out.println(IMMUTABLE);  // ?"
   ]
  },
  {
   "cell_type": "markdown",
   "id": "704533b5",
   "metadata": {},
   "source": [
    "## Difference between Java and other Compiling Languages\n",
    "\n",
    "* Java uses **JVM (Java Virtual Machine)** and, instead of running machine code, runs **Java Byte Code**\n",
    "    * **Java Byte Codes** are hexadecimal codes that refer to commands that are interpreted by JVM\n",
    "    * They start with `CAFEBABE`"
   ]
  },
  {
   "cell_type": "markdown",
   "id": "8199225b",
   "metadata": {},
   "source": [
    "## Classes and Primitive Types\n",
    "* Classes may have methods. E.g. \"Hello\".equals(\"hello\")\n",
    "* Primitive types do *not* have methods and requires operators (?) to do comparison\n",
    "\n",
    "### Primitive Types\n",
    "\n",
    "* `char`: Single character\n",
    "    * Literal: Single quotes wrapping a character\n",
    "* `bool`: Boolean values\n",
    "    * Literal: `true` `false`"
   ]
  },
  {
   "cell_type": "code",
   "execution_count": 4,
   "id": "884818bb",
   "metadata": {
    "scrolled": true
   },
   "outputs": [
    {
     "name": "stdout",
     "output_type": "stream",
     "text": [
      "☕\n"
     ]
    }
   ],
   "source": [
    "System.out.println('\\u2615');"
   ]
  },
  {
   "cell_type": "markdown",
   "id": "3d0b9de6",
   "metadata": {},
   "source": [
    "#### Numerical Values\n",
    "* `Integer` is a *wrapper class* for the following types:\n",
    "    * `Byte` 8 bit signed\n",
    "    * `Short` 16 bit signed\n",
    "    * `Int` 32 bit signed\n",
    "        * **Default for integers**\n",
    "    * `Long` 64 bit signed\n",
    "        * Literal: `L` after number\n",
    "* `float` 32 bit IEEE 754\n",
    "    * 6-9 significant digits\n",
    "    * Essentially, half of `long` is used to store the floating point\n",
    "* `double` 64 bit IEEE 754\n",
    "    * 15-17 significant digits\n",
    "    * **Default for floating point numbers**"
   ]
  },
  {
   "cell_type": "code",
   "execution_count": 5,
   "id": "c970dbfa",
   "metadata": {},
   "outputs": [
    {
     "name": "stdout",
     "output_type": "stream",
     "text": [
      "-2147483648\n"
     ]
    }
   ],
   "source": [
    "// Potential pitfall: Integer overflow\n",
    "int i = 2147483647+1;\n",
    "System.out.println(i);"
   ]
  },
  {
   "cell_type": "markdown",
   "id": "ef14a7cd",
   "metadata": {},
   "source": [
    "### Wrapper Classes for Types\n",
    "* `Integer`: Wrapper class for all numeric types\n",
    "* `String`: Wrapper class for a sequence of characters. Double quotes around a sequence of characters."
   ]
  },
  {
   "cell_type": "code",
   "execution_count": 6,
   "id": "4d862dd4",
   "metadata": {},
   "outputs": [
    {
     "data": {
      "text/plain": [
       "true"
      ]
     },
     "execution_count": 6,
     "metadata": {},
     "output_type": "execute_result"
    }
   ],
   "source": [
    "String s = \"hello\";\n",
    "s == \"hello\";  // => true\n",
    "s.equals(\"hello\");  // => true\n"
   ]
  },
  {
   "cell_type": "code",
   "execution_count": 7,
   "id": "2a1ae10f",
   "metadata": {
    "scrolled": true
   },
   "outputs": [
    {
     "name": "stdout",
     "output_type": "stream",
     "text": [
      "true\n",
      "true\n",
      "true\n"
     ]
    },
    {
     "ename": "CompilationException",
     "evalue": "",
     "output_type": "error",
     "traceback": [
      "\u001b[1m\u001b[30m|   \u001b[1m\u001b[30mSystem.out.println(\u001b[0m\u001b[1m\u001b[30m\u001b[41mi.equals\u001b[0m\u001b[1m\u001b[30m(1));\u001b[0m",
      "\u001b[1m\u001b[31m无法取消引用int\u001b[0m",
      ""
     ]
    }
   ],
   "source": [
    "int i = 1;\n",
    "Integer I = 1;\n",
    "System.out.println(I == 1);\n",
    "System.out.println(I.equals(1));\n",
    "System.out.println(i == 1);\n",
    "System.out.println(i.equals(1));"
   ]
  },
  {
   "cell_type": "markdown",
   "id": "51c80d92",
   "metadata": {},
   "source": [
    "## Nested / Inner Classes\n",
    "* A Java file may include *multiple classes*, but only *one public class*\n",
    "* Alternatively, a class may define *multiple classes within itself*, making it possible to access private attributes in that **nested class**.\n",
    "    * **Static nested class:** A nested class declared static\n",
    "    * **Inner class:** A non-static nested class\n",
    "    * **Enclosing class:** The class outside the nested class\n",
    "* This is very useful, since **anonymous inner classes** may be created and instantiated at the same time.\n",
    "\n",
    "```java\n",
    "methodThatRequiresAnObject(\n",
    "    new InterfaceName<InterfaceType>() {\n",
    "        // Any necessary methods here\n",
    "    }\n",
    ")\n",
    "```\n",
    "\n",
    "# Lambda Expressions\n",
    "* Since Java depends on classes to operate, lambda expressions can only be used on **functional interfaces**, or interfaces that defines only *one method*.\n",
    "\n",
    "```java\n",
    "methodThatRequiresAnObjectOfFunctionalInterface(\n",
    "    (DataType argumentName) -> {\n",
    "        //Method body\n",
    "    }\n",
    ")\n",
    "```"
   ]
  },
  {
   "cell_type": "markdown",
   "id": "0a622a6e",
   "metadata": {},
   "source": [
    "## Order of Operator Precedence\n",
    "\n",
    "![table](https://i.stack.imgur.com/O6UXN.png)"
   ]
  },
  {
   "cell_type": "code",
   "execution_count": 8,
   "id": "f3ea82b2",
   "metadata": {},
   "outputs": [
    {
     "name": "stdout",
     "output_type": "stream",
     "text": [
      "1\n",
      "1\n",
      "2\n",
      "3\n",
      "3\n"
     ]
    }
   ],
   "source": [
    "// On the topic of increments / decrements\n",
    "Integer n = 1;\n",
    "System.out.println(n);\n",
    "System.out.println(n++);\n",
    "System.out.println(n);\n",
    "System.out.println(++n);\n",
    "System.out.println(n);"
   ]
  },
  {
   "cell_type": "markdown",
   "id": "00b6f835",
   "metadata": {},
   "source": [
    "## Type Conversions\n",
    "* Java is strongly typed\n",
    "* There are many incompatible types\n",
    "    * Incompatible: Types which conversion would lose information\n",
    "* **Narrowing conversion** means to go from a \"larger\" data type to a \"smaller\" one. This would lose information and isn't allowed.\n",
    "* **Widening conversion** is to go from \"smaller\" data type to a \"larger\" one. This is allowed as no information is lost."
   ]
  },
  {
   "cell_type": "code",
   "execution_count": 9,
   "id": "0c5e98be",
   "metadata": {
    "scrolled": true
   },
   "outputs": [
    {
     "name": "stdout",
     "output_type": "stream",
     "text": [
      "127.0\n"
     ]
    },
    {
     "ename": "CompilationException",
     "evalue": "",
     "output_type": "error",
     "traceback": [
      "\u001b[1m\u001b[30m|   \u001b[1m\u001b[30mbyte narrowing = \u001b[0m\u001b[1m\u001b[30m\u001b[41mtempInt\u001b[0m\u001b[1m\u001b[30m;\u001b[0m",
      "\u001b[1m\u001b[31m不兼容的类型: 从int转换到byte可能会有损失\u001b[0m",
      ""
     ]
    }
   ],
   "source": [
    "byte tempByte = Byte.MAX_VALUE;\n",
    "double widening = tempByte;\n",
    "System.out.println(widening);\n",
    "int tempInt = Byte.MAX_VALUE+1;\n",
    "byte narrowing = tempInt;\n",
    "System.out.println(narrowing);"
   ]
  },
  {
   "cell_type": "markdown",
   "id": "896f34b8",
   "metadata": {},
   "source": [
    "* Conversion may be done in either of two ways\n",
    "    * **Assignment conversion**: Convert by assigning to a variable of a different type.\n",
    "    * **Arithmetic conversion**: *Promote* values to a wider type. Done to not lose any information. E.g., "
   ]
  },
  {
   "cell_type": "code",
   "execution_count": 10,
   "id": "d317bd1e",
   "metadata": {},
   "outputs": [
    {
     "name": "stdout",
     "output_type": "stream",
     "text": [
      "2.0\n"
     ]
    }
   ],
   "source": [
    "System.out.println(2/1.0);  // `2` is *promoted* to a floating point number."
   ]
  },
  {
   "cell_type": "markdown",
   "id": "3e439d5d",
   "metadata": {},
   "source": [
    "## Boolean and Conditionals (AKA Discrete Math)\n",
    "### Boolean operators\n",
    "| ! | \\|\\| | && | ^ |\n",
    "|:-:|:-:|:-:|:-:|\n",
    "| NOT | OR | AND | XOR |\n",
    "\n",
    "### Short-circuiting\n",
    "* If the first condition in an AND statement is `false`, the others won't be evaluated\n",
    "* Same goes for the first condition being `true` in an OR statement\n",
    "\n",
    "### If statements\n",
    "* Without any braces, `else` will match the *closest* `if`\n",
    "    * Makes it possible to write `else if` as a whole\n",
    "* Indentation does not matter because Java thinks Python is dumb\n",
    "* 2 or more statements need to be wrapped in curly braces\n",
    "\n",
    "### Ternary operator\n",
    "* JavaScript behavior\n",
    "\n",
    "### Switch ... case\n",
    "* JavaScript behavior\n"
   ]
  },
  {
   "cell_type": "code",
   "execution_count": 11,
   "id": "a9fdb7fc",
   "metadata": {},
   "outputs": [
    {
     "name": "stdout",
     "output_type": "stream",
     "text": [
      "5\n",
      "7\n",
      "2\n",
      "Signed left shift: 128\n",
      "Signed right shift: 32\n",
      "Unsigned right shift: 2147483616\n"
     ]
    }
   ],
   "source": [
    "// Bitwise operators: Boolean ops, but only one symbol\n",
    "System.out.println(5 & 7);\n",
    "System.out.println(5 | 7);\n",
    "System.out.println(5 ^ 7);\n",
    "\n",
    "// Shift operators:\n",
    "System.out.println(\"Signed left shift: \"+(64 << 1));\n",
    "System.out.println(\"Signed right shift: \"+(64 >> 1));\n",
    "System.out.println(\"Unsigned right shift: \"+(-64 >>> 1));"
   ]
  },
  {
   "cell_type": "markdown",
   "id": "d56a8241",
   "metadata": {},
   "source": [
    "## Variables and Their Values\n",
    "* Java is **pass by value**\n",
    "    * When a variable is passed to a method **as a parameter**, any change of its value *inside* the method does *no* change to its original value\n",
    "* Scope of local variables\n",
    "    * The scope of a local variable is confined to its method / block\n",
    "        * Variables with a smaller scope cannot be created if there is already a variable in a larger scope"
   ]
  },
  {
   "cell_type": "code",
   "execution_count": 12,
   "id": "1f189995",
   "metadata": {
    "scrolled": true
   },
   "outputs": [
    {
     "name": "stdout",
     "output_type": "stream",
     "text": [
      "11\n",
      "10\n"
     ]
    }
   ],
   "source": [
    "int x = 10;\n",
    "public static void useX(int x){  // So the Java kernel made the class for me?\n",
    "    x++;\n",
    "    System.out.println(x);\n",
    "}\n",
    "useX(x);\n",
    "System.out.println(x);"
   ]
  },
  {
   "cell_type": "markdown",
   "id": "a383fe2c",
   "metadata": {},
   "source": [
    "## Strings\n",
    "* Part of `java.lang` package\n",
    "    * Automatically imported for all Java programs"
   ]
  },
  {
   "cell_type": "code",
   "execution_count": 13,
   "id": "1fa7b009",
   "metadata": {},
   "outputs": [],
   "source": [
    "String instance = new String(\"new instance\");\n",
    "String literal = \"literal\";"
   ]
  },
  {
   "cell_type": "markdown",
   "id": "84b9ec71",
   "metadata": {},
   "source": [
    "### String Literals vs. `new` Statements\n",
    "* Objects are implemented using a `heap` in JVM.\n",
    "    * `new String()` creates an object in the heap\n",
    "* Strings *literals* are instantiated in **String Constant Pool**\n",
    "    * A special place in the heap\n",
    "    * `\"\"` points to a location in the Pool\n",
    "    * String is the only data type that has a dedicated pool because it is more complex than the other data types.\n",
    "* String Pool has **no duplicates**, but the heap **may have duplicates**.\n",
    "    * Two identical `new String()` creates **two objects** in the heap.\n",
    "    * Two identical *string literals* points to the **same location** in the String Pool.\n",
    "    * Due to this characteristic, it is the best to use *literals* instead of the `new` statement in order to save memory.\n",
    "* Objects created by `new` Statements may be removed by **garbage collection** after nothing references it anymore"
   ]
  },
  {
   "cell_type": "markdown",
   "id": "be467c31",
   "metadata": {},
   "source": [
    "### Aliasing\n",
    "* When two variables point to the **same location** in the memory, they are called **aliases** of the same location.\n",
    "* The `==` compares the *locations* of variables, and `.equals()` compares their *values*.\n",
    "    * See [Equality](#Equality) for example"
   ]
  },
  {
   "cell_type": "markdown",
   "id": "4af54ccd",
   "metadata": {},
   "source": [
    "### Strings are *immutable*"
   ]
  },
  {
   "cell_type": "code",
   "execution_count": 14,
   "id": "be1dfb73",
   "metadata": {},
   "outputs": [
    {
     "data": {
      "text/plain": [
       "hello!"
      ]
     },
     "execution_count": 14,
     "metadata": {},
     "output_type": "execute_result"
    }
   ],
   "source": [
    "String immutable = \"hello\";\n",
    "// immutable[0] = \"b\";  // Error: Cannot change content of a String\n",
    "immutable += \"!\";  // No error: New String assigned to variable"
   ]
  },
  {
   "cell_type": "markdown",
   "id": "87aea412",
   "metadata": {},
   "source": [
    "### String Operators (Methods)\n",
    "#### Concatenation"
   ]
  },
  {
   "cell_type": "code",
   "execution_count": 15,
   "id": "f3fb9439",
   "metadata": {},
   "outputs": [
    {
     "data": {
      "text/plain": [
       "s1s2"
      ]
     },
     "execution_count": 15,
     "metadata": {},
     "output_type": "execute_result"
    }
   ],
   "source": [
    "String s1 = \"s1\";\n",
    "String s2 = \"s2\";\n",
    "String s12 = s1.concat(s2);\n",
    "s12"
   ]
  },
  {
   "cell_type": "markdown",
   "id": "d9cb0d25",
   "metadata": {},
   "source": [
    "#### Equality"
   ]
  },
  {
   "cell_type": "code",
   "execution_count": 16,
   "id": "487f982c",
   "metadata": {},
   "outputs": [
    {
     "name": "stdout",
     "output_type": "stream",
     "text": [
      "false\n",
      "true\n"
     ]
    }
   ],
   "source": [
    "String s1 = \"42\";\n",
    "String s2 = new String(\"42\");\n",
    "System.out.println(s1 == s2);  // false, because they point to different memory locations\n",
    "System.out.println(s1.equals(s2)); // true, because .equals() evaluates content of objects"
   ]
  },
  {
   "cell_type": "markdown",
   "id": "134ee761",
   "metadata": {},
   "source": [
    "#### Length"
   ]
  },
  {
   "cell_type": "code",
   "execution_count": 17,
   "id": "c9a28b8b",
   "metadata": {},
   "outputs": [
    {
     "data": {
      "text/plain": [
       "2"
      ]
     },
     "execution_count": 17,
     "metadata": {},
     "output_type": "execute_result"
    }
   ],
   "source": [
    "String s1 = \"42\";\n",
    "s1.length();"
   ]
  },
  {
   "cell_type": "markdown",
   "id": "f4f3b324",
   "metadata": {},
   "source": [
    "## System as an instance\n",
    "* `System` as in `System.out.println()` is an object\n",
    "* It has more than `println()` for its methods\n",
    "\n",
    "| Method | Description |\n",
    "| :- | :- |\n",
    "| `out.print()` | Print without a newline character |\n",
    "| `out.println()` | Print *with* a newline character |\n",
    "| `out.printf()` | Print after formatting given String |\n",
    "\n",
    "### Print Formatting\n",
    "* `System.out.printf([locale], format, arguments)`\n",
    "* Formatter syntax:  \n",
    "        %[flags][width][.precision]conversion-character\n",
    "* Line separator: `%n`\n",
    "* Left-aligning: `-[width]`\n",
    "* [Look at docs for details because it makes no sense to memorize it all](https://www.baeldung.com/java-printstream-printf)"
   ]
  },
  {
   "cell_type": "markdown",
   "id": "83a96de5",
   "metadata": {},
   "source": [
    "## Packages\n",
    "* Java's built-in packages:\n",
    "    * `java.lang` (Automatically imported)\n",
    "    * `java.io`\n",
    "    * `java.math`\n",
    "    * `java.text`\n",
    "    * `java.util`\n",
    "        * Includes `Scanner` and `Random` classes\n",
    "    * `java.awt`\n",
    "* Explicitly importing classes\n",
    "    * The class may then be used **without** the package prefix.\n",
    "* \n",
    "```java\n",
    "import java.util.Random\n",
    "```\n",
    "* Wildcard importing\n",
    "```java\n",
    "import java.util.*\n",
    "```\n",
    "* Declaring a package for a class\n",
    "```java\n",
    "package packageName;\n",
    "// Your class here...\n",
    "```\n",
    "### Scanner\n",
    "* Needs to be imported\n",
    "```java\n",
    "import java.util.Scanner;\n",
    "```\n",
    "* Used to receive and parse input from the command line.\n",
    "* Initialization\n",
    "```java\n",
    "Scanner scanner = new Scanner(System.in); // Input stream is specified\n",
    "```\n",
    "* Reading data\n",
    "\n",
    "| Method | Description |\n",
    "| :----- | :---------- |\n",
    "| `nextLine()` | Read the next line as raw, `String` data |\n",
    "| `nextInt() ` | Read and parse the input as an `int` |\n",
    "| `nextDouble()` | Read and parse the input as a `double` |\n",
    "\n",
    "* `useDelimiter()`\n",
    "    * Usage: `Scanner.useDelimiter(delimiter)`\n",
    "    * `delimiter`: String containing a RegEx\n",
    "        * Example; `\"[,\\\\n]\"` checks for either `,` or `\\n`\n",
    "    * Using `useDelimiter`\n",
    "        * `Scanner.hasNext()` checks for any possible remaining inputs (blocks process)\n",
    "        * `next[Type]()` will now only read and parse the part that is before the next deliminator\n",
    "* **Note:** Any `Scanner` instance **must** be `close()`'ed after it's no longer used\n",
    "    * Java does not automatically close and collect this resource\n",
    "* Erroneous inputs that `Scanner` reads, for example, may cause Runtime errors"
   ]
  },
  {
   "cell_type": "code",
   "execution_count": 18,
   "id": "fabbc52e",
   "metadata": {},
   "outputs": [
    {
     "name": "stdout",
     "output_type": "stream",
     "text": [
      "Enter a word:\n",
      "=)\n",
      "You entered ... =)\n"
     ]
    },
    {
     "data": {
      "text/plain": [
       "java.io.PrintStream@5eefb80e"
      ]
     },
     "execution_count": 18,
     "metadata": {},
     "output_type": "execute_result"
    }
   ],
   "source": [
    "// Example\n",
    "import java.util.Scanner;\n",
    "\n",
    "Scanner scanner = new Scanner(System.in);\n",
    "String reply;\n",
    "System.out.println(\"Enter a word:\");\n",
    "reply = scanner.nextLine();\n",
    "System.out.printf(\"You entered ... %s%n\", reply);"
   ]
  },
  {
   "cell_type": "markdown",
   "id": "070f41d8",
   "metadata": {},
   "source": [
    "### Random\n",
    "* [Documentation](https://docs.oracle.com/en/java/javase/11/docs/api/java.base/java/util/Random.html)\n",
    "* Is pseudorandom\n",
    "* Needs an instance to use methods\n",
    "* Methods: `next<Type>(bound)`"
   ]
  },
  {
   "cell_type": "code",
   "execution_count": 19,
   "id": "c6413578",
   "metadata": {},
   "outputs": [
    {
     "name": "stdout",
     "output_type": "stream",
     "text": [
      "-929474736\n",
      "0.13094568\n",
      "1\n",
      "false\n",
      "0.1252122753633429\n",
      "-1239912085813124475\n"
     ]
    }
   ],
   "source": [
    "import java.util.Random;\n",
    "Random random = new Random();\n",
    "System.out.println(random.nextInt());     // Positive or negative\n",
    "System.out.println(random.nextFloat());   // 0 < x < 1\n",
    "System.out.println(random.nextInt(3));    // Positive only\n",
    "System.out.println(random.nextBoolean()); // True or false\n",
    "System.out.println(random.nextDouble());  // Same with nextFloat\n",
    "System.out.println(random.nextLong());    // Same with nextInt but Long"
   ]
  },
  {
   "cell_type": "markdown",
   "id": "5856b3ef",
   "metadata": {},
   "source": [
    "### Math\n",
    "* Automatically imported\n",
    "* Methods\n",
    "| Method | Description |\n",
    "|:-|:-|\n",
    "| `Math.abs(x)` | Absolute varlue of `x` |\n",
    "| `Math.ceil(x)` | Rounds `x` up |\n",
    "| `Math.floor(x)` | Rounds `x` down |\n",
    "| `Math.rint(x)` | Returns a `double` in which the fractional part is `.0` **Note:** This method rounds `0.5` **down** |\n",
    "| `Math.round(x)` | Returns an `int`, rounded in the normal way |\n",
    "| `Math.max([args])`<br/>`Math.min([args])` | Max and min |\n",
    "| `Math.sqrt(x)` | Square root |\n",
    "| `Math.toDegrees(x)`<br/>`Math.toRadians(x)` | Degree-radian conversions |\n",
    "| `Math.cos(x)` etc.<br/>`Math.acos(x)` etc. | Trignometric functions |\n",
    "| `Math.E` | Natural exponent |\n",
    "| `Math.exp(x)` | $e^x$ where `x` is double |\n",
    "| `Math.pow(x, y)` | $x^y$ |\n",
    "| `Math.log(x)` | Natural log (base `e`) of `x` |"
   ]
  },
  {
   "cell_type": "markdown",
   "id": "b2ed77a2",
   "metadata": {},
   "source": [
    "## Enumerations\n",
    "* User-defined class type where all possible values are listed out\n",
    "    * A selection list disguised as a class\n",
    "* Any item in an `enum` has two methods\n",
    "    * `name()` - Name of value\n",
    "    * `ordinal()` - Index of value\n",
    "* `enum` may also have custom attributes, but they need to be initialized and also given by a getter."
   ]
  },
  {
   "cell_type": "code",
   "execution_count": 20,
   "id": "d1b040e2",
   "metadata": {},
   "outputs": [
    {
     "name": "stdout",
     "output_type": "stream",
     "text": [
      "1\n",
      "ME\n",
      "Myself.\n"
     ]
    }
   ],
   "source": [
    "public enum MyEnum {\n",
    "    I (\"Yes, me.\"),\n",
    "    ME (\"I and me and...\"),\n",
    "    MYSELF (\"Myself.\");\n",
    "    \n",
    "    private String info;\n",
    "    \n",
    "    private MyEnum (String info) {\n",
    "        this.info = info;\n",
    "    }\n",
    "    public String getInfo() {\n",
    "        return info;\n",
    "    }\n",
    "}\n",
    "\n",
    "System.out.println(MyEnum.I.ordinal()+1);\n",
    "System.out.println(MyEnum.ME.name());\n",
    "System.out.println(MyEnum.MYSELF.getInfo());"
   ]
  },
  {
   "cell_type": "markdown",
   "id": "e8a0bf45",
   "metadata": {},
   "source": [
    "## Arrays\n",
    "* An *object* that stores a **fixed number** of homogenous values\n",
    "    * **Homogenous:** Values of the same type\n",
    "    * Each value is called an element of the array\n",
    "    * Uses a single identifier for all values\n",
    "* Syntax\n",
    "```java\n",
    "// Initialization\n",
    "datatype[] varName = new datatype[size];\n",
    "// Access length\n",
    "varName.length;\n",
    "```"
   ]
  },
  {
   "cell_type": "code",
   "execution_count": 21,
   "id": "8ba1d764",
   "metadata": {},
   "outputs": [
    {
     "data": {
      "text/plain": [
       "[I@2ac519f8"
      ]
     },
     "execution_count": 21,
     "metadata": {},
     "output_type": "execute_result"
    }
   ],
   "source": [
    "// Initialization example with initial values\n",
    "int[] intArray1 = new int[4];\n",
    "intArray1[0] = 1;\n",
    "intArray1[1] = 2;\n",
    "intArray1[2] = 3;\n",
    "intArray1[3] = 4;  // or\n",
    "\n",
    "int[] intArray2 = new int[] {1,2,3,4};  // or\n",
    "\n",
    "int[] intArray3 = {1,2,3,4};  // or, anonymously\n",
    "\n",
    "new int[] {1,2,3,4};"
   ]
  },
  {
   "cell_type": "markdown",
   "id": "de027c59",
   "metadata": {},
   "source": [
    "* Arrays are of **fixed size** - accessing undefined indices will cause *ArrayIndexOutOfBoundsException*\n",
    "    * The memory (address) is allocated so that exactly the required space will be assigned\n",
    "    * Address of an element: `base address + index * size of type`\n",
    "* Expanding an array: Copy elements into a larger array\n",
    "* Use `System.arraycopy()` to make it faster\n",
    "```java\n",
    "System.arraycopy(Object src, int srcPos, Object dest, int destPos, int length)\n",
    "```"
   ]
  },
  {
   "cell_type": "code",
   "execution_count": 22,
   "id": "f3710301",
   "metadata": {},
   "outputs": [
    {
     "name": "stdout",
     "output_type": "stream",
     "text": [
      "[0, 1, 2, 3, 4, 0, 0, 0, 0, 0]\n"
     ]
    }
   ],
   "source": [
    "int[] source = {1,2,3,4};\n",
    "int[] dest = new int[10];\n",
    "System.arraycopy(source, 0, dest, 1, 4);\n",
    "System.out.println(Arrays.toString(dest));"
   ]
  },
  {
   "cell_type": "markdown",
   "id": "aba43f36",
   "metadata": {},
   "source": [
    "### Arrays as Arguments\n",
    "\n",
    "* Each identifier of an array is a *reference* to where the array is stored\n",
    "* As a result, all arrays are actually **passed by reference**\n",
    "    * Changing the content of an argument that is an array *will* change the actual stored array\n",
    "* In order to receive a variable amount of variables:\n",
    "```java\n",
    "public static void func(int... arr) {}\n",
    "```"
   ]
  },
  {
   "cell_type": "code",
   "execution_count": 23,
   "id": "963e70e6",
   "metadata": {},
   "outputs": [
    {
     "name": "stdout",
     "output_type": "stream",
     "text": [
      "[1, 2, 3, 4]\n"
     ]
    }
   ],
   "source": [
    "public static void func(int... arr) {\n",
    "    System.out.println(Arrays.toString(arr));\n",
    "}\n",
    "func(1,2,3,4);"
   ]
  },
  {
   "cell_type": "markdown",
   "id": "b4cdfbf2",
   "metadata": {},
   "source": [
    "### 2D Arrays\n",
    "* May be used to represent a matrix\n",
    "* With set width and height:\n",
    "```java\n",
    "dataType[][] varName = new dataType[rows][columns]\n",
    "```"
   ]
  },
  {
   "cell_type": "code",
   "execution_count": 24,
   "id": "a9a46315",
   "metadata": {},
   "outputs": [],
   "source": [
    "int[][] intArray2d = new int[3][4];  // or\n",
    "int[][] intArray2d = {\n",
    "    {1,2,3},\n",
    "    {4,5,6},\n",
    "    {7,8,9},\n",
    "    {1,2,3}\n",
    "};"
   ]
  },
  {
   "cell_type": "markdown",
   "id": "9262c1f8",
   "metadata": {},
   "source": [
    "* **Ragged/Jagged Arrays:** 2D arrays with rows of different lengths\n",
    "* Syntax:\n",
    "```java\n",
    "dataType[][] varName = new dataType[rows][];\n",
    "varName[0] = new dataType[columnOfRowOne];\n",
    "...\n",
    "```\n",
    "* Example:\n",
    "```java\n",
    "int[][] jagged = {\n",
    "    {1},\n",
    "    {2,3},\n",
    "    {4,5,6}\n",
    "}\n",
    "```\n",
    "* To increase dimension, simply increase the number of `[]` after data type."
   ]
  },
  {
   "cell_type": "markdown",
   "id": "2b40fa4a",
   "metadata": {},
   "source": [
    "## Iteration\n",
    "### While loops"
   ]
  },
  {
   "cell_type": "code",
   "execution_count": 25,
   "id": "da4781f4",
   "metadata": {},
   "outputs": [
    {
     "name": "stdout",
     "output_type": "stream",
     "text": [
      "2\n",
      "1\n",
      "0\n"
     ]
    }
   ],
   "source": [
    "int x = 3;\n",
    "while (x --> 0) {\n",
    "    System.out.println(x);\n",
    "}"
   ]
  },
  {
   "cell_type": "markdown",
   "id": "4b9bde96",
   "metadata": {},
   "source": [
    "* `continue` and `break` also work\n",
    "\n",
    "### Do ... while loops\n",
    "* While loops, but with a twist"
   ]
  },
  {
   "cell_type": "code",
   "execution_count": 26,
   "id": "dd4a1f1e",
   "metadata": {},
   "outputs": [
    {
     "name": "stdout",
     "output_type": "stream",
     "text": [
      "3\n",
      "2\n",
      "1\n",
      "0\n"
     ]
    }
   ],
   "source": [
    "int x = 3;\n",
    "do {\n",
    "    System.out.println(x);\n",
    "} while (x --> 0);"
   ]
  },
  {
   "cell_type": "markdown",
   "id": "38b4d4d6",
   "metadata": {},
   "source": [
    "### For loops\n",
    "* A more concise while loop (sic)"
   ]
  },
  {
   "cell_type": "code",
   "execution_count": 27,
   "id": "efdcde1c",
   "metadata": {
    "scrolled": true
   },
   "outputs": [
    {
     "name": "stdout",
     "output_type": "stream",
     "text": [
      "3\n",
      "2\n",
      "1\n",
      "-1\n"
     ]
    }
   ],
   "source": [
    "for (int x=3; x>0; x--) {\n",
    "    System.out.println(x);\n",
    "}\n",
    "System.out.println(x);"
   ]
  },
  {
   "cell_type": "markdown",
   "id": "3bfd92e0",
   "metadata": {},
   "source": [
    "### For-each Loop\n",
    "* Arrays may be traversed by a for-each loop\n",
    "```java\n",
    "for (dataType varName: collection) {\n",
    "    // Do something\n",
    "}\n",
    "```"
   ]
  },
  {
   "cell_type": "markdown",
   "id": "103fafff",
   "metadata": {},
   "source": [
    "# Object Oriented Programming Terminology\n",
    "\n",
    "* **Class**: A blueprint of a kind of things\n",
    "* **Object**: An instance of a class\n",
    "    * An object has **states** that can differ between one another.\n",
    "* **Method**: A common segment of code that may be run individually or applied for all instances of a class\n",
    "    * Easier to read and debug\n",
    "    * Ensures reusability\n",
    "* To check if object is an instance of class: `instanceOf()`\n",
    "\n",
    "# Method Declaration in Java\n",
    "* Start with a **method header**\n",
    "    * `[modifier1 ...] <return type> <method name>([parameter1 ...]) {[method body]}`\n",
    "    * The method name, along with any *formal parameters*, are used as the **signature** of a method\n",
    "        * Methods with the same name are possible as long as their signatures are different\n",
    "        * *Return type is not part of the method signature*\n",
    "    * A `main` method must be defined with a header of `public static void main(String[] args)`\n",
    "* **Modifiers**\n",
    "    * `static`\n",
    "        * `static` $\\approx$ Python's `@static` descriptor\n",
    "        * Static methods are used **individually** in a function-like fashion\n",
    "        * Belongs to the class and runs *without the need of an instance*\n",
    "        * Always contains reference to the *same thing* for any instance.\n",
    "        * `main()` is `static` - it is time- and resource- consuming to create an instance for any standalone `main()` methods\n",
    "        * Static methods have no access to instance data\n",
    "    * `instance`\n",
    "        * Corresponds to the common class method\n",
    "        * **Requires** an instance to be created and its states\n",
    "        * Has access to instance data\n",
    "        * More in [this section](#Instance-methods)\n",
    "    * `public` / `private`\n",
    "        * Determines if a method may be accessed from outside the class' own scopes."
   ]
  },
  {
   "cell_type": "markdown",
   "id": "3c83e7f8",
   "metadata": {},
   "source": [
    "## Instance methods\n",
    "* Methods, but without the `static` modifier\n",
    "```java\n",
    "// Inside a class declaration block\n",
    "private dataType propertyName;\n",
    "    ...\n",
    "public returnType methodName(dataType parameterName) {\n",
    "    // Content of instance method\n",
    "}\n",
    "```\n",
    "* When calling another non-static method from within the class, the `this` keyword must be used\n",
    "    * Refers to the current object\n",
    "* Instance methods can directly access instance data, **without** the dot operator.\n",
    "    * It is also possible to access instance data with `this`.\n",
    "        ```java\n",
    "        this.propertyName\n",
    "        ```\n",
    "    * The reason why we do this might be when a parameter's name is the same with an instance field\n",
    "    * The scenario above is called **field shadowing** and is generally bad practice"
   ]
  },
  {
   "cell_type": "code",
   "execution_count": 28,
   "id": "e32ca3e6",
   "metadata": {
    "scrolled": true
   },
   "outputs": [
    {
     "name": "stdout",
     "output_type": "stream",
     "text": [
      "7\n"
     ]
    }
   ],
   "source": [
    "// Example\n",
    "public class MyClass {\n",
    "    public static void main(String[] args) {\n",
    "        String[] a = {\"1\",\"2\",\"3\",\"1\"};\n",
    "        int sum = findSum(stringToIntArray(a));\n",
    "        System.out.println(sum);\n",
    "    }\n",
    "    private static int[] stringToIntArray(String[] arr) {\n",
    "        int[] intArr = new int[arr.length];\n",
    "        for (int i = 0; i < arr.length; i++) {\n",
    "            intArr[i] = Integer.parseInt(arr[i]);\n",
    "        }\n",
    "        return intArr;\n",
    "    }\n",
    "    public static int findSum(int[] numbers) {\n",
    "        int sum = 0;\n",
    "        for (int i = 0; i < numbers.length; i++) {\n",
    "            sum += numbers[i];\n",
    "        }\n",
    "        return sum;\n",
    "    }\n",
    "}\n",
    "\n",
    "MyClass.main(new String[0]);"
   ]
  },
  {
   "cell_type": "markdown",
   "id": "a1b896d6",
   "metadata": {},
   "source": [
    "## Constructors\n",
    "* **Constructors** help initialize *instance data*\n",
    "* Called when the `new` keyword is used\n",
    "* Instance data (aka properties as in Python) are accessed through the **dot operator**\n",
    "```java\n",
    "ClassName instanceName = new ClassName(property1, property2, ...);\n",
    "instanceName.propertyName1;\n",
    "```\n",
    "* Syntax of defining a constructor\n",
    "```java\n",
    "class ClassName {\n",
    "    private dataType propertyName = propertyDefaultValue;\n",
    "    \n",
    "    public ClassName() {\n",
    "        propertyName = propertyDefaultValue;\n",
    "    }\n",
    "    \n",
    "    // Overloading the constructor\n",
    "    public ClassName(dataType propertyValue) {\n",
    "        propertyName = propertyValue;\n",
    "    }\n",
    "}\n",
    "```\n",
    "\n",
    "### No Constructors\n",
    "* If no constructor is defined, a *default* constructor will be used\n",
    "* The default constructor uses properties' values at declaration as their default values\n",
    "* The automatically generated default constructor is necessary because it is responsible of allocating memory.\n",
    "* **Eager Initialization:** A class that only has property declaration but **no** constructor\n",
    "\n",
    "### Private Constructors\n",
    "* It is possible to create `private` constructors\n",
    "* This can be useful when object initialization and methods are not supposed for direct use"
   ]
  },
  {
   "cell_type": "markdown",
   "id": "61de92a2",
   "metadata": {},
   "source": [
    "### Copy Constructors\n",
    "* Constructors return a **reference** to the created object\n",
    "* As a result, `object1 = object2` would cause the two variables to point to the same object\n",
    "* To fix this, we need to use **copy constructors**"
   ]
  },
  {
   "cell_type": "code",
   "execution_count": 29,
   "id": "274a2b38",
   "metadata": {},
   "outputs": [
    {
     "name": "stdout",
     "output_type": "stream",
     "text": [
      "42\n",
      "217\n",
      "217\n",
      "42\n"
     ]
    }
   ],
   "source": [
    "public class Copy {\n",
    "    public int number;\n",
    "    \n",
    "    public Copy() {\n",
    "        this.number = 0;\n",
    "    }\n",
    "    \n",
    "    public Copy(Copy copy) {\n",
    "        this.number = copy.number;\n",
    "    }\n",
    "    \n",
    "    public Copy(int n) {\n",
    "        this.number = n;\n",
    "    }\n",
    "    \n",
    "    public String toString() {\n",
    "        return String.valueOf(this.number);\n",
    "    }\n",
    "}\n",
    "\n",
    "Copy object1 = new Copy(42);\n",
    "System.out.println(object1);\n",
    "Copy object2 = object1;  // Will produce two references to the same object\n",
    "Copy object3 = new Copy(object1);  // Will produce two different objects with the same value\n",
    "object1.number = 217;\n",
    "System.out.println(object1);\n",
    "System.out.println(object2);\n",
    "System.out.println(object3);"
   ]
  },
  {
   "cell_type": "markdown",
   "id": "6daaf4b9",
   "metadata": {},
   "source": [
    "#### Deep Copy\n",
    "* Sometimes a data field in an object contains a *reference*, too\n",
    "    * Most common example is for arrays\n",
    "* In this case we want to copy everything over on a one-by-one basis\n",
    "* For each data field that needs copying, perform certain operation to copy it over."
   ]
  },
  {
   "cell_type": "markdown",
   "id": "01dae9bf",
   "metadata": {},
   "source": [
    "### Constructor Overloading\n",
    "* It is good practice to carry out **constructor chaining**\n",
    "    * **Constructor chaining:** Call an overloaded constructor from within the class\n",
    "    * Example:\n",
    "\n",
    "```java\n",
    "    public ClassName() {\n",
    "        this(propertyDefaultValue);  // Use this() to call a constructor\n",
    "    }\n",
    "    \n",
    "    public ClassName(dataType propertyValue) {\n",
    "        propertyName = propertyValue;\n",
    "    }\n",
    "```"
   ]
  },
  {
   "attachments": {
    "image_2023-02-08_144517313.png": {
     "image/png": "[encoded data removed]"
    }
   },
   "cell_type": "markdown",
   "id": "6bc504e1",
   "metadata": {},
   "source": [
    "## Unified Modeling Language (UML) Class Diagram\n",
    "* A standard way of diagramming a class\n",
    "![image_2023-02-08_144517313.png](attachment:image_2023-02-08_144517313.png)\n",
    "* Lists out classes, their data fields (and their types), constructors, methods, and the relationship between different classes.\n",
    "* Trivial methods like getters and setters are not includes in an UML"
   ]
  },
  {
   "cell_type": "markdown",
   "id": "165d7c23",
   "metadata": {},
   "source": [
    "# Encapsulation\n",
    "* Objects have their dedicated states and methods, and implementation details are *hidden*\n",
    "* In order to achieve this:\n",
    "    * **All instance data** should be `private` and not accessed by any external means other than a setter/getter\n",
    "    * Getter/setters provide a means for external code to access private values\n",
    "    * They can provide data sanitation, etc.\n",
    "* There isn't any fixed syntax for a getter/setter. Simply make it clear that it is responsible for which data field.\n",
    "    * E.g. `get<FieldName>` and `set<FieldName>`"
   ]
  },
  {
   "cell_type": "markdown",
   "id": "3f6141f9",
   "metadata": {},
   "source": [
    "# Immutable Objects and Classes\n",
    "* An object such that its content cannot be changed\n",
    "* Example: `String` is immutable\n",
    "* How to implement?\n",
    "    * All properties (data fields) are `private`\n",
    "    * No mutator methods for data fields\n",
    "        * Aka, no setter methods\n",
    "    * No accessor method (aka, getter) can return a mutable *reference* to a data field"
   ]
  },
  {
   "cell_type": "markdown",
   "id": "d0bf1275",
   "metadata": {},
   "source": [
    "# Autoboxing and Autounboxing\n",
    "* **Autoboxing:** Placing a primitive type value into a wrapper class variable\n",
    "    * Can be done implicitly by\n",
    "```java\n",
    "int myInt = 42;\n",
    "Integer myInteger = myInt;\n",
    "```\n",
    "* **Autounboxing:** Placing a value of a suitable wrapper class back into a primitive type variable\n",
    "    * Need to account for NPE - initializing `Integer` as `null` may cause the assigned `int` to be a null pointer\n",
    "```java\n",
    "Integer myInteger = 42;\n",
    "int myInt = myInteger;\n",
    "```"
   ]
  },
  {
   "cell_type": "markdown",
   "id": "632ddbc4",
   "metadata": {},
   "source": [
    "# Exception Handling\n",
    "* Exceptions always happen at **runtime**\n",
    "* They can be caught using `try...catch` statement. Otherwise they will terminate program immediately after `thrown`\n",
    "\n",
    "## Exception Types\n",
    "* All exceptions are children of `Throwable`\n",
    "    * This is a *class*, not an interface\n",
    "    * Java please make up your mind\n",
    "* They either belong to `Exception` or `Error`\n",
    "    * **`Error`:** System errors thrown by the JVM\n",
    "        * Examples: `LinkageError`, `VirtualMachineError`\n",
    "    * **`Exception`:** Exceptions caused by the program or external circumstances\n",
    "* `RuntimeException` is a special child of `Exception` class\n",
    "    * Describes *programming errors* such as bad casting, out-of-bounds array, numeric errors, etc.\n",
    "* Children of `Exception` that are not a `RuntimeException` are called **checked exceptions**.\n",
    "    * They are always checked during compilation\n",
    "    * The compiler requires that checked exceptions be either fixed or handled for the program to run at all.\n",
    "    * The only way for a method to call another method that potentially throws a checked exception, is to declare that method itself to throw potential exceptions.\n",
    "    \n",
    "## Information in Exceptions\n",
    "* The `Throwable` base class provides the following methods:\n",
    "    * `getMessage(): String` Returns the message that describes the exception object\n",
    "    * `toString(): String` Returns \"\\<ClassName\\>: \\<getMessage\\>\"\n",
    "    * `printStackTrace(): void` Prints what's usually printed when an unchecked exception terminates the program\n",
    "    * `getStackTrace(): StackTraceElement[]` Returns an array of stack trace elements representing the stack trace pertaining to this exception object.\n",
    "    \n",
    "## Null and NullPointerException (NPE)\n",
    "* Calling an instance method with an object that equals `null` will trigger an NPE\n",
    "* It is important to check if a variable is `null` before carrying out any operations on that\n",
    "\n",
    "## Throwing Exceptions ~~at the wall~~\n",
    "* Since all exceptions are objects, there are two ways to initialize an exception for throwing:\n",
    "```java\n",
    "ExceptionType exceptionVar = new ExceptionType();\n",
    "throw exceptionVar;\n",
    "// or:\n",
    "throw new ExceptionType();\n",
    "```\n",
    "* For a method to throw exceptions, it must **declare** the types that it throws\n",
    "```java\n",
    "public static methodName()\n",
    "    throws Exception1, Exception2, Exception3 {\n",
    "    throw new ExceptionType(args);\n",
    "}\n",
    "```\n",
    "* **Note:** A *subclass* is not allowed to declare exceptions if its *superclass* did not declare any\n",
    "\n",
    "## try ... catch Statement\n",
    "```java\n",
    "try {\n",
    "    // Some code here\n",
    "} catch (ExceptionType exceptionVar) {\n",
    "    // ExceptionType exceptionVar optional but encouraged\n",
    "    // Exception handling\n",
    "} finally {  // Optional\n",
    "    // What to do after doing anything\n",
    "}\n",
    "```\n",
    "* `catch` catches exception objects of any child (or itself) of the given superclass.\n",
    "* There can be any number of `catch` chained after one another\n",
    "* `finally` is useful because it can do things *before* an unhandled exception unexpectedly terminates the program.\n",
    "\n",
    "## Chained Exceptions\n",
    "* When initializing an exception object,\n",
    "```java\n",
    "new Exception(\"Message\", ex);\n",
    "```\n",
    "* The second parameter can get passed with another exception\n",
    "* In stacktrace, this will show as \"Exception1 ... Caused by: Exception2 ...\"s\n",
    "* This overload of the constructor, along with the more common `Exception(String)`, are both available to be used as `super() `when writing custom exception classes."
   ]
  },
  {
   "cell_type": "markdown",
   "id": "2e288064",
   "metadata": {},
   "source": [
    "# File IO\n",
    "* All in `java.io.*`\n",
    "* `File` class: Abstract representation of files and pathnames\n",
    "    * `new File(\"path\\to\\file\")`\n",
    "    * A file object has methods that can determine what kind of path it is\n",
    "        * `exists()`\n",
    "        * `canRead()`, `canWrite()`\n",
    "        * `isDirectory()`, `isFile()`, `isAbsolute()`, `isHidden()\n",
    "        * `getAbsolutePath()`, `getCanonicalPath()`,  `getName()`, `getPath()`, `getParent()`\n",
    "        * `lastModified()`\n",
    "        * `length()`\n",
    "        * `listFile()`\n",
    "        * `delete()`\n",
    "        * `renameTo(File)`\n",
    "        * `mkdir()`, `mkdirs()`\n",
    "* Writing data\n",
    "    * `File` => `PrintWriter`\n",
    "        * `new PrintWriter(File)`\n",
    "        * `println()` writes a string as a line in the file if file exists\n",
    "        * All other `print..` functions are the same as `System.out`\n",
    "    * `FileWriter` => `PrintWriter`\n",
    "        * Similar but instead of `File`, pass a `FileWriter` on construction\n",
    "        * `new FileWriter(\"path/to/file\")`\n",
    "    * `PrintWriter` alone\n",
    "        * Pass the path as a string directly to `PrintWriter`\n",
    "        * `new PrintWriter(\"path/to/file\")`\n",
    "    * The `flush()` method can be used to push output to the disk without closing\n",
    "    * Otherwise, update is only done after calling `close()`\n",
    "* Reading data from a file\n",
    "    * `Scanner`:  `new Scanner(File)`\n",
    "    * Alternatively without a scanner: `new FileReader(File)`\n",
    "        * Subclass of `InputStreamReader`\n",
    "            * `getEncoding()`, `read()`, `read(char[] cbuf, int offset, int length)`, `ready()`\n",
    "        * Has to be closed after usage\n",
    "            * `close()`\n",
    "* I/O with `Byte` streams\n",
    "    * `FileInputStream` and `FileOutputStream`\n",
    "    * Reads file in 8-bit bytes\n",
    "* I/O with **buffered streams**\n",
    "    * Uses a *buffered* array that acts like a cache\n",
    "    * Takes up a default buffer of 8192 chars that reads/writes at once\n",
    "* Crawling data from the web\n",
    "```java\n",
    "URL url = new URL(\"https://example.com\");\n",
    "Scanner input = new Scanner(url.openStream());\n",
    "```"
   ]
  },
  {
   "cell_type": "markdown",
   "id": "822f1a10",
   "metadata": {},
   "source": [
    "# Inheritance\n",
    "* Making **child classes (subclasses)** from existing classes\n",
    "    * Child classes **cannot** access private data fields in parent class\n",
    "    * But they **can** access any public methods and data fields that exist in parent class\n",
    "    * ... and overload them\n",
    "* Keyword: `extends`\n",
    "* Done by creating a new `.java` file which includes \n",
    "```java\n",
    "class SubClassName extends ParentClass\n",
    "```\n",
    "* **`super`** keyword\n",
    "    * Used for a child method to access a method or data fields that belong to the parent\n",
    "    * In a child constructor, a parameter-less `super()` is inserted if not explicitly called\n",
    "        * However it must stay on the first line of the constructor\n",
    "        * When parent class requires parameters, this would not work anymore"
   ]
  },
  {
   "cell_type": "code",
   "execution_count": 30,
   "id": "c21853ba",
   "metadata": {},
   "outputs": [
    {
     "name": "stdout",
     "output_type": "stream",
     "text": [
      "Hello Parent Class!\n",
      "Child getNumber: 0\n",
      "42\n",
      "Hello Child Class!\n",
      "Child getNumber: 1\n",
      "Parent getNumber: 42\n"
     ]
    }
   ],
   "source": [
    "public class Parent {\n",
    "    private int parentNumber;\n",
    "    \n",
    "    Parent(int number) {\n",
    "        this.parentNumber = number;\n",
    "        System.out.println(\"Hello Parent Class!\");\n",
    "        System.out.println(this.getNumber());  // Interesting, this actually accesses Child's getNumber()\n",
    "        System.out.println(this.parentNumber);\n",
    "    }\n",
    "    \n",
    "    public String getNumber() {\n",
    "        return String.format(\"Parent getNumber: %d\", this.parentNumber);\n",
    "    }\n",
    "}\n",
    "\n",
    "public class Child extends Parent {\n",
    "    private int childNumber;\n",
    "    \n",
    "    Child(int number) {\n",
    "        super(42);\n",
    "        this.childNumber = number;\n",
    "        System.out.println(\"Hello Child Class!\");\n",
    "        System.out.println(this.getNumber());\n",
    "        System.out.println(super.getNumber());\n",
    "    }\n",
    "    \n",
    "    public String getNumber() {\n",
    "        return String.format(\"Child getNumber: %d\", this.childNumber);\n",
    "    }\n",
    "}\n",
    "\n",
    "Child child = new Child(1);"
   ]
  },
  {
   "attachments": {
    "image_2023-02-20_131326476.png": {
     "image/png": "[encoded data removed]"
    }
   },
   "cell_type": "markdown",
   "id": "3210089d",
   "metadata": {},
   "source": [
    "## Scope of data fields/methods in inheritance relation\n",
    "![image_2023-02-20_131326476.png](attachment:image_2023-02-20_131326476.png)\n",
    "\n",
    "## Multiple Inheritance\n",
    "* **Multiple inheritance:** One child may have many parents\n",
    "* Java **does not** support multiple inheritance\n",
    "* Why?\n",
    "    * \"Diamond problem\" or Hybrid Inheritance\n",
    "    * If a subclass **D** is allowed to inherit from two subclasses - **B** and **C** - of one parent class **A**, it is undefined behavior which implementation of **B** and **C** should **D** inherit.\n",
    "* Multiple inheritence is not the same with **multileval inheritance** - it is good practice and implements an inheritance chain that supports abstraction."
   ]
  },
  {
   "cell_type": "markdown",
   "id": "7b3b71ed",
   "metadata": {},
   "source": [
    "## Overriding Methods\n",
    "* Not to be confused with *overloading*\n",
    "* A child can override parent method. The new method has the **same signature** but (potentially) different method implementation.\n",
    "* Over*writes* the original method. Does not provide two different implementations.\n",
    "* Optionally marked by `@Override` annotation before method header\n",
    "* This is how `toString()` is re-implemented for custom classes"
   ]
  },
  {
   "cell_type": "code",
   "execution_count": 31,
   "id": "8c423297",
   "metadata": {},
   "outputs": [
    {
     "name": "stdout",
     "output_type": "stream",
     "text": [
      "42\n",
      "42!\n"
     ]
    }
   ],
   "source": [
    "public class Parent {\n",
    "    public int x;\n",
    "    \n",
    "    Parent() {\n",
    "        x = 42;\n",
    "    }\n",
    "    \n",
    "    Parent(int newX) {\n",
    "        x = newX;\n",
    "    }\n",
    "    \n",
    "    public void printX() {\n",
    "        System.out.println(x);\n",
    "    }\n",
    "}\n",
    "\n",
    "public class Child extends Parent {\n",
    "    @Override\n",
    "    public void printX() {\n",
    "        System.out.printf(\"%d!%n\", x);\n",
    "    }\n",
    "}\n",
    "\n",
    "Parent parent = new Parent();\n",
    "parent.printX();\n",
    "\n",
    "Child child = new Child();\n",
    "child.printX();"
   ]
  },
  {
   "cell_type": "markdown",
   "id": "2c98d131",
   "metadata": {},
   "source": [
    "## Object Class\n",
    "* The base class of all other classes\n",
    "    * [Documentation](https://docs.oracle.com/en/java/javase/11/docs/api/java.base/java/lang/Object.html)\n",
    "* Includes several basic methods\n",
    "    * `equals()`: By default, returns `this == obj`\n",
    "        * It checks the *reference equality* of objects\n",
    "        * When two objects are \"equal\" but not in the \"same\" memory location, this will return false.\n",
    "    * `toString()`: By default, returns `getClass().getName() + '@' + Integer.toHexString(hashCode())`\n",
    "    * `hashCode()`: Supports hash-based data structures like `HashMap`. Typically returns the object's **memory location**\n",
    "    * `clone()`: Returns a shallow copy of the object (if the object is `Cloneable`)\n",
    "\n",
    "### Overriding equals()\n",
    "* The implementation must sustain the following requirements:\n",
    "    * **Reflexive:** For any non-null `x`, `x.equals(x)` is `true`.\n",
    "    * **Symmetric:** For any non-null `x` and `y`,  \n",
    "    `x.equals(y)` $\\leftrightarrow$ `y.equals(x)`\n",
    "    * **Transitive:** For any non-null `x`, `y`, and `z`,  \n",
    "    `x.equals(y)` $\\land$ `y.equals(z)` $\\to$ `x.equals(z)`\n",
    "    * **Consistent:** Multiple invocations of any `x.equals(y)` must consistently return the same boolean value.\n",
    "    * For any non-null `x`, `x.equals(null)` must return `false`.\n",
    "* It should also make sure that the object being compared to is of the same class (or a compatible class)\n",
    "    * We use `.getClass()` to check the class of an object\n",
    "```java\n",
    "this.getClass() == other.getClass()\n",
    "```\n",
    "    * A worse off version is hardcoding the current class name via `instanceof`\n",
    "```java\n",
    "other instanceof ClassName\n",
    "```\n",
    "    * This fails to be reflexive. If A is compared to an Object of parent class and the Object does not check for class, Object might return true while A returns false.\n",
    "\n",
    "### Overriding hashCode()\n",
    "* Returns an `int`\n",
    "    * The value may be negative or zero\n",
    "* Must return a hash code that is **consistent** for both the **same object** and **equal objects**\n",
    "* However, two **unequal** objects *may* also give the *identical* hash code\n",
    "* *Note:* If `equals()` has been overridden, it is good practice to override `hashCode()` too.\n",
    "* Typically, overridden `hashCode` is implemented by combining the `hashCode` of all data fields of interest."
   ]
  },
  {
   "cell_type": "markdown",
   "id": "993a782b",
   "metadata": {},
   "source": [
    "## Abstract Classes\n",
    "* Abstract classes **may not** create instances\n",
    "    * As opposed to \"concrete\" classes\n",
    "* Contains abstract methods that its children may implement\n",
    "* Marked by keyword `abstract`\n",
    "* **Any** class may be `abstract`, no matter if it is a child or not\n",
    "* Methods may be `abstract`, too\n",
    "    * Declares the name, return value, and parameters\n",
    "    * No body"
   ]
  },
  {
   "cell_type": "code",
   "execution_count": 40,
   "id": "59873cbb",
   "metadata": {},
   "outputs": [
    {
     "ename": "CompilationException",
     "evalue": "",
     "output_type": "error",
     "traceback": [
      "\u001b[1m\u001b[30m|   \u001b[1m\u001b[30mMyClass var1 = \u001b[0m\u001b[1m\u001b[30m\u001b[41mnew MyClass()\u001b[0m\u001b[1m\u001b[30m;\u001b[0m",
      "\u001b[1m\u001b[31mMyClass是抽象的; 无法实例化\u001b[0m",
      ""
     ]
    }
   ],
   "source": [
    "public abstract class MyClass {\n",
    "    protected int number;\n",
    "    public abstract void setNumber(int number);\n",
    "    public int getNumber() {\n",
    "        return number;\n",
    "    }\n",
    "}\n",
    "\n",
    "MyClass var1 = new MyClass();"
   ]
  },
  {
   "cell_type": "markdown",
   "id": "afbaa0b2",
   "metadata": {},
   "source": [
    "## Final Classes and Methods\n",
    "* Clases marked as `final` may no longer be extended\n",
    "* Methods marked as `final` may not be overridden"
   ]
  },
  {
   "cell_type": "code",
   "execution_count": 55,
   "id": "c3fc5731",
   "metadata": {},
   "outputs": [
    {
     "ename": "CompilationException",
     "evalue": "",
     "output_type": "error",
     "traceback": [
      "\u001b[1m\u001b[30m|   \u001b[1m\u001b[30m    \u001b[0m\u001b[1m\u001b[30m\u001b[41mpublic int getNumber() {\u001b[0m",
      "\u001b[1m\u001b[30m|   \u001b[1m\u001b[30m\u001b[41m        return 42;\u001b[0m",
      "\u001b[1m\u001b[30m|   \u001b[1m\u001b[30m\u001b[41m    }\u001b[0m",
      "\u001b[1m\u001b[31mChildClass中的getNumber()无法覆盖ParentClass中的getNumber()\u001b[0m",
      "\u001b[1m\u001b[31m  被覆盖的方法为final\u001b[0m",
      ""
     ]
    }
   ],
   "source": [
    "public final class ParentClass {\n",
    "    protected int number;\n",
    "    \n",
    "    ParentClass(int number) {\n",
    "        this.setNumber(number);\n",
    "    }\n",
    "    \n",
    "    public final void setNumber(int number) {\n",
    "        this.number = number;\n",
    "    }\n",
    "    \n",
    "    public final int getNumber() {\n",
    "        return number;\n",
    "    }\n",
    "}\n",
    "\n",
    "public class ChildClass extends ParentClass {\n",
    "    ChildClass(int number) {\n",
    "        super(number);\n",
    "    }\n",
    "    \n",
    "    public int getNumber() {\n",
    "        return 42;\n",
    "    }\n",
    "}\n",
    "\n",
    "// How"
   ]
  },
  {
   "cell_type": "markdown",
   "id": "c73c3a17",
   "metadata": {},
   "source": [
    "## Static and Dynamic Variable Types\n",
    "* **Static Type:** Type that the variable is *declared* to be at *compile time*\n",
    "* **Dynamic Type:** Type of the *assigned* object at *runtime*\n",
    "* This works when the *assigned* object is a child of the *declared* class.\n",
    "\n",
    "## Casting and Class Hierarchy\n",
    "* **Casting** with custom classes work the same way as e.g. `int` and `float` does\n",
    "* **Up Casting** from a *child* to a *base* always works\n",
    "```java\n",
    "Child child = new Child();\n",
    "Parent parent = (Parent)child;\n",
    "```\n",
    "    * However, explicitly doing so is not necessary as `Child` instance already holds (inherits) all `Parent` information"
   ]
  },
  {
   "cell_type": "code",
   "execution_count": 28,
   "id": "9961f32a",
   "metadata": {},
   "outputs": [
    {
     "name": "stdout",
     "output_type": "stream",
     "text": [
      "43\n"
     ]
    }
   ],
   "source": [
    "public class Parent {\n",
    "    public int x = 42;\n",
    "    \n",
    "    public void sayX() {\n",
    "        System.out.printf(\"I am parent and my x is %d.%n\", this.x);\n",
    "    }\n",
    "}\n",
    "\n",
    "public class Child extends Parent {\n",
    "    public int y;\n",
    "    public Child(int n) {\n",
    "        System.out.println(this.x + n);\n",
    "        this.y = this.x + n;\n",
    "    }\n",
    "    \n",
    "    public void sayX() {\n",
    "        System.out.printf(\"I am a child and my x is %d.%n\", this.x);\n",
    "    }\n",
    "}\n",
    "\n",
    "Child c1 = new Child(1);\n",
    "Parent p1 = c1;"
   ]
  },
  {
   "cell_type": "markdown",
   "id": "63698fb0",
   "metadata": {},
   "source": [
    "* **Down Casting** from a *parent* to a *child* always compiles, but sometimes results in a **runtime exception**"
   ]
  },
  {
   "cell_type": "code",
   "execution_count": 30,
   "id": "e47ebe6e",
   "metadata": {
    "scrolled": true
   },
   "outputs": [
    {
     "name": "stdout",
     "output_type": "stream",
     "text": [
      "43\n"
     ]
    },
    {
     "ename": "EvalException",
     "evalue": "class REPL.$JShell$12C$Parent cannot be cast to class REPL.$JShell$13J$Child (REPL.$JShell$12C$Parent and REPL.$JShell$13J$Child are in unnamed module of loader jdk.jshell.execution.DefaultLoaderDelegate$RemoteClassLoader @459e9125)",
     "output_type": "error",
     "traceback": [
      "\u001b[1m\u001b[31m---------------------------------------------------------------------------\u001b[0m",
      "\u001b[1m\u001b[31mjava.lang.ClassCastException: class REPL.$JShell$12C$Parent cannot be cast to class REPL.$JShell$13J$Child (REPL.$JShell$12C$Parent and REPL.$JShell$13J$Child are in unnamed module of loader jdk.jshell.execution.DefaultLoaderDelegate$RemoteClassLoader @459e9125)\u001b[0m",
      "\u001b[1m\u001b[31m\tat .(#46:1)\u001b[0m"
     ]
    }
   ],
   "source": [
    "Parent p2 = new Parent();\n",
    "\n",
    "// Works because p2 technically still have information about y\n",
    "Child c2 = (Child)p1;\n",
    "System.out.println(c2.y);\n",
    "\n",
    "// Runtime exception because p3 does not have y\n",
    "Child c3 = (Child)p2;"
   ]
  },
  {
   "cell_type": "markdown",
   "id": "53f258a6",
   "metadata": {},
   "source": [
    "* **Side Casting** between *siblings* **NEVER** compiles."
   ]
  },
  {
   "cell_type": "markdown",
   "id": "8b59e223",
   "metadata": {},
   "source": [
    "# Polymorphism\n",
    "* \"Many forms\"\n",
    "* Means that a variable of a supertype can refer to an object of a subtype\n",
    "```java\n",
    "Child child = new Parent();\n",
    "```\n",
    "* Allows us to deal with related members in a *general* way\n",
    "\n",
    "## Dynamic Binding\n",
    "* Usually, the method that a method call refers to is decided at compile time\n",
    "* However through polymorphism, we might not know what object a variable holds until runtime\n",
    "* This means that Java has to wait until runtime for JVM to bind the call to an appropriate method body.\n",
    "* This sometimes fails to work and is determined by whether a method is implemented through the inheritance chain, so it needs to be solved on a case-by-case-basis."
   ]
  },
  {
   "cell_type": "code",
   "execution_count": 31,
   "id": "e95c1c7e",
   "metadata": {},
   "outputs": [
    {
     "name": "stdout",
     "output_type": "stream",
     "text": [
      "I am a child and my x is 42.\n",
      "I am a child and my x is 42.\n"
     ]
    }
   ],
   "source": [
    "p1.sayX();\n",
    "c1.sayX();"
   ]
  },
  {
   "cell_type": "markdown",
   "id": "2f59c99c",
   "metadata": {},
   "source": [
    "# Interfaces\n",
    "* **Interface:** A *class-like* construct for defining common operations for objects\n",
    "* Defines a collection of *abstract* methods and constants\n",
    "    * Methods and constants **do not** need visibility modifiers as those are left for the classes to decide\n",
    "* Common practice to end name with \"-able\" (E.g., `Iterable`, `Comparable`)\n",
    "* Keyword: `interface`\n",
    "\n",
    "```java\n",
    "public interface Interfaceable\n",
    "```\n",
    "\n",
    "## Implementing Interfaces\n",
    "* Class can **implement** an interface by implementing *all* methods in this interface.\n",
    "* Keyword: `implements`\n",
    "```java\n",
    "public class InterClass implements Interfaceable\n",
    "```\n",
    "* A class may implement **any number** of interfaces\n",
    "    * This makes interfaces a good extension to classical inheritance relations, since it allows subclasses of different base classes to adopt the same \"characteristics\".\n",
    "\n",
    "## Default Methods\n",
    "* A mean for interfaces to be *backward-compatible*\n",
    "* Provides a \"dropback\" method implementation for classes that did not implement this method\n",
    "* Keyword: `default`\n",
    "```java\n",
    "default void hi() {\n",
    "    System.out.println(\"hi!\");\n",
    "}\n",
    "```\n",
    "* If two interfaces provided the **same** default method, and if the implementing class did not implement that method, then implementing class must **clarify** which method to use.\n",
    "    * We do this by overriding that method in the implementing class, and calling the preferred default method with `super`.\n",
    "\n",
    "## The Comparable Interface\n",
    "* This interface declares the method `compareTo()`\n",
    "    * A.compareTo(B) returns *positive* value when A > B, *negative* when A < B, and *0* when A = B\n",
    "* The method does NOT need to be consistent with `equals()`, although some data structures depend on them being consistent to work"
   ]
  },
  {
   "cell_type": "code",
   "execution_count": 10,
   "id": "71094c96",
   "metadata": {},
   "outputs": [
    {
     "name": "stdout",
     "output_type": "stream",
     "text": [
      "This is InterA speaking. Thank you.\n"
     ]
    }
   ],
   "source": [
    "public interface InterA {\n",
    "    default void myMethod() {\n",
    "        System.out.println(\"This is InterA speaking. Thank you.\");\n",
    "    }\n",
    "}\n",
    "\n",
    "public interface InterB {\n",
    "    default void myMethod() {\n",
    "        System.out.println(\"This is InterB speaking.\");\n",
    "    }\n",
    "}\n",
    "\n",
    "public class MyImpleClass implements InterA, InterB {\n",
    "    public void myMethod() {\n",
    "        InterA.super.myMethod();\n",
    "        // InterB.super.myMethod();\n",
    "    }\n",
    "}\n",
    "\n",
    "MyImpleClass a = new MyImpleClass();\n",
    "a.myMethod();"
   ]
  },
  {
   "cell_type": "markdown",
   "id": "f62ccf32",
   "metadata": {},
   "source": [
    "## Static Methods in Interfaces\n",
    "* Static methods can be called directly from interfaces (without the `super` keyword)\n",
    "* This works in the same way as normal `static` methods in classes"
   ]
  },
  {
   "cell_type": "markdown",
   "id": "db9a468a",
   "metadata": {},
   "source": [
    "# Abstract Data Types (ADT)\n",
    "* A data type whose creation and update are constrained to specific, well-defined operations.\n",
    "    * Can be implemented using a *class* but doesn't have to be\n",
    "    * An *interface* is also an ADT\n",
    "    * A *List* is an ADT\n",
    "* Abstract means that:\n",
    "    1. It may not be instantiated\n",
    "    2. The underlying implementation is hidden in a black box"
   ]
  },
  {
   "cell_type": "markdown",
   "id": "18124074",
   "metadata": {},
   "source": [
    "# The Collections Framework\n",
    "* A unified architecture for representing and manipulating a group of elements\n",
    "* The most important ADT is the `Collection` *interface*.\n",
    "\n",
    "## Collection Interface\n",
    "* This ADT requires the following methods to be implemented:\n",
    "    * `boolean contains(Object)`\n",
    "    * `boolean containsAll(Collection<?>)`\n",
    "    * `boolean equals(Object)`\n",
    "    * `int hashCode()`\n",
    "    * `boolean isEmpty()`\n",
    "    * `Iterator<E> iterator()` \n",
    "        * Note that all Collections implement the `iterable` Interface\n",
    "    * `int size()`\n",
    "    * `Object[] toArray()`\n",
    "    * `<T> T[] toArray(T[])`\n",
    "        * The type of the argument specifies the *runtime type* (dynamic type) of the returned array.\n",
    "* These methods *may* be unimplemented, which will throw an `UnsupportedOperationException`.\n",
    "    * `boolean add(E)`\n",
    "    * `boolean addAll(Collection<? extends E>)`\n",
    "    * `boolean remove(Object o)`\n",
    "    * `boolean removeAll(Collection<?>`\n",
    "    * `void clear()`\n",
    "\n",
    "## Lists\n",
    "* `ArrayList`, `LinkedList`, `Stack`, and some more ADTs\n",
    "* Defines the following abstract methods\n",
    "    * .get\n",
    "    * .set\n",
    "    * .add\n",
    "        * .add(int index, Object o)\n",
    "        * .add(Object o)\n",
    "    * .addAll\n",
    "    * .remove\n",
    "        * .remove(int index)\n",
    "        * .remove(Object o)\n",
    "    * .size\n",
    "    * .isEmpty\n",
    "    * and many more\n",
    "\n",
    "### ArrayLists\n",
    "* Has **mutatable** size!\n",
    "* Operations\n",
    "    * Initialization\n",
    "        * It is good practice to code to interface (vs. to an implementation) - aka use `List` instead of `ArrayList` which is a class. \n",
    "```java\n",
    "import java.util.Arrays;\n",
    "import java.util.ArrayList;\n",
    "import java.util.List;\n",
    "List<DataType> newArrayList = new ArrayList<>(Arrays.asList(...elements));  // List is an interface\n",
    "```\n",
    "    * Accessing elements and length\n",
    "```java\n",
    "newArrayList.get(index);\n",
    "newArrayList.size();\n",
    "```\n",
    "    * Adding and removing elements\n",
    "```java\n",
    "newArrayList.add(newElement);  // Adds elements to the end of list\n",
    "newArrayList.remove(index);  // Removes element and shortens length by one\n",
    "```\n",
    "    * `ArrayList` does basically everything a Python List does\n",
    "* Currently, `ArrayList` is implemented by defining a fixed-size array. Once the length of the current array is exceeded, a new one is made with *double* the length and all elements are copied over.\n",
    "    * However, this makes `.add(int index, Object o)` and `.remove` inefficient as sometimes an `O(n)` operation needs to be done.\n",
    "\n",
    "### LinkedLists\n",
    "* ALso has mutable size\n",
    "* Implemented differently from `ArrayList`\n",
    "    * Holds a number of `Nodes`, each holds a reference to the next `Node` in the list.\n",
    "    * The *final* `Node`, called the `tail`, references `null` as its next `Node`.\n",
    "    * The *first* `Node` is references by `head`. By passing this reference, we can access and store the entire `LinkedList`.\n",
    "* Compared to `ArrayList`, `LinkedList` is more efficient at adding/inserting/removing elements\n",
    "    * Adding elements to the end is done by keeping a reference to the `tail` as well as the `head`.\n",
    "    * If the `LinkedList` is very large, inserting to the middle of the list will also be inefficient\n",
    "* However, it is less efficient at *retrieving* elements at a given index\n",
    "* With the current definition, a `LinkedList` cannot be traversed from back to front\n",
    "    * Keeping a pointer to the *previous* `Node` can fix this problem\n",
    "    * This is called a `DoubleLinkedList`.\n",
    "\n",
    "## Maps\n",
    "* Key-Value pairs\n",
    "    * Duplicate key is **prohibited**\n",
    "    * One key may only map to at most one value\n",
    "    * Some implementations disallow `null` values\n",
    "* Defined by the interface `Map<K, V>`\n",
    "    * Different to Python dictionaries, Java's `Map` allows **mutable** Objects as keys. However, this may produce undocumented behavior.\n",
    "* All maps implement the following methods:\n",
    "    * `boolean containsKey(Object key)`\n",
    "    * `boolean containsValue(Object value)`\n",
    "    * `Set<Map.Entry<K, V>> entrySet()`\n",
    "    * `Set<K> keySet()`\n",
    "    * `Collection<V> values()`\n",
    "    * `V get(Object key)`\n",
    "    * `V getOrDefault(Object key, V defaultValue)`\n",
    "    * and some more...\n",
    "* *Modifiable* Maps also provide the following methods:\n",
    "    * `V put(K, V)`, `void putAll(Map<? extends K, ? extends V>)`, and `V putIfAbsent(K, V)`\n",
    "    * `boolean remove(Object key, Object value)` / `V remove (Object key)`\n",
    "    * `V replace(K, V)` / `boolean replace(K, V oldValue, V newValue)`\n",
    "    * and some more...\n",
    "* The most widely used implementation is `HashMap`, which does not guarentee element order. It uses the `hashCode()` of given Objects to determine what the object is.\n",
    "    * Others like `TreeMap` do.\n",
    "\n",
    "## Sets\n",
    "* Differs from the list in that sets *do not allow __duplicate elements__* and *have no __ordering__*\n",
    "* Are substantially faster than the other operations\n",
    "* Have multiple different implementations just like lists\n",
    "     * **`ArraySet`:** Uses fix-sized arrays to store data, incrementing by 2x every time it is exceeded (just like ArrayLists)\n",
    "     * **`HashSet`:** Uses a hash table (`HashMap`) to implement a set. \n",
    "         * **Constant** time complexity for add, contains, and remove.\n",
    "         * Faster than an `ArraySet` (linear) for large number of elements, but slower for less.\n",
    "     * **`TreeSet`:** Uses a Red-Black tree (`TreeMap`) to implement a set\n",
    "        * Ordered based on natual ordering of the elements OR a comparator given at creation\n",
    "\n",
    "## Queues\n",
    "* First-in, first-out structure\n",
    "    * New elements are appended to the end of the queue and removed from the beginning\n",
    "* Linked lists are usually used as queues\n",
    "\n",
    "## Stacks\n",
    "* Last-in, first-out structure\n",
    "    * New elements are appended AND removed to/from the top (beginning) of the stack.\n",
    "* Also use linked lists?\n",
    "\n",
    "## When Implementing a Collection...\n",
    "* When implementing, it is important to note that an array with a generic type should be created as this:\n",
    "    \n",
    "```java\n",
    "public class ArraySet<E> {\n",
    "    private E[] items;\n",
    "    private int initialCapacity = 4;\n",
    "    public ArraySet() {\n",
    "        this.items = (E[]) new Object[this.initialCapacity]; // This works\n",
    "        // this.items = new E[this.initialCapacity];  // This is not allowed - generic types are resolved COMPILE-TIME\n",
    "    }\n",
    "}\n",
    "```\n",
    "\n",
    "* One other approach is\n",
    "    \n",
    "```java\n",
    "// Assume that everything is the same in the last code block\n",
    "public ArraySet(Class<E> clazz, int capacity) {\n",
    "    this.initialCapacity = capacity;\n",
    "    this.items = (E[]) Array.newInstance(clazz, this.initialCapacity);\n",
    "    // Array#newInstance initializes an array of Object's.\n",
    "}\n",
    "```\n",
    "\n",
    "* An iterator also needs to be made in order for any for-each loops to work\n",
    "\n",
    "```java\n",
    "public class ArraySet<E> implements Iterable<E> {\n",
    "    // Essential code here...\n",
    "    @Override\n",
    "    public Iterator<E> iterator() {\n",
    "        return new ArraySetIterator();\n",
    "    }\n",
    "    \n",
    "    private class ArraySetIterator implements Iterator<E> {\n",
    "        private int index = 0;\n",
    "        // Implement: hasNext, next, and remove\n",
    "        // This class will have access to ArraySet attributes\n",
    "        public boolean hasNext() {\n",
    "            return this.items.length > this.index;\n",
    "        }\n",
    "        public E next() {\n",
    "            if (!this.hasNext()) {\n",
    "                // Handle it\n",
    "            }\n",
    "            return this.items[index++];\n",
    "        }\n",
    "        public void remove(E item) {\n",
    "            // Remove the item from this.items\n",
    "        }\n",
    "    }\n",
    "}\n",
    "```"
   ]
  },
  {
   "cell_type": "markdown",
   "id": "200f113f",
   "metadata": {},
   "source": [
    "## Generics\n",
    "* Refers to the class assigned for `List` in angular brackets\n",
    "* Helps identify problems during *compile time*\n",
    "    * It is possible for `List` to be used with `Object` so that no certain data type is specified\n",
    "```java\n",
    "List<Object> myArrayList;\n",
    "```\n",
    "    * However, that makes it possible to accept Lists of different data types\n",
    "        * When a list of an unwanted data type is accidentally assigned, it may cause weird errors during runtime\n",
    "    * This also leads to a problem: Although `Object` is the superclass of all classes, it is not a superclass of `Collection`s, so this doesn't work for `Collection` like `Lists`\n",
    "    * By specifying the generics, we can work with different data types **safely** and the error will be compile time.\n",
    "* Generics are like parameters for data types\n",
    "    * An interface may use given generic at anywhere it wants and allow return types, variable types, etc. to be somewhat mutable.\n",
    "```java\n",
    "public interface HelloGenerics<T, G> {  // Generics can accept multiple types\n",
    "​ ​ ​ ​ public <T> returnSelf(<G> myParameter);\n",
    "}\n",
    "```\n",
    "* Generics bounding\n",
    "    * **Upper bound:** Specify superclass for the given type\n",
    "```java\n",
    "public interface HelloUpperBound<T extends Number> {}\n",
    "```\n",
    "    * **Lower bound:** Specify a type and all its superclasses\n",
    "```java\n",
    "public interface HelloLowerBound<T super Number> {}\n",
    "```\n",
    "* We may also use generics for **methods**\n",
    "```java\n",
    "public static <T> List<T> arrayToList(T[] array) {}\n",
    "```\n",
    "    * First `<T>`: Declares which generics are present in method\n",
    "    * Second `List<T>`: Return type of the method\n",
    "    * Third `T[]`: Type of the given array\n",
    "    * Note that the letter doesn't have to be `T`. It can be any letter or symbol like `?`\n",
    "* If the interface or class or method we are implementing regards itself as a collection, it is conventional to use `<E>` for \"element\".\n",
    "* [More about generics](https://www.baeldung.com/java-generics)\n",
    "\n",
    "### Comparable as a generic interface\n",
    "* As of JDK 1.5, the interface `Comparable` utilizes generics\n",
    "```java\n",
    "Comparable<DataType> myComparable = new DataType();\n",
    "myComparable.compareTo(new OtherDataType());  // Compilation error\n",
    "```\n",
    "* Prior to this, the second line triggers a runtime error instead, since `compareTo` is defined to accept any `Object`."
   ]
  },
  {
   "cell_type": "markdown",
   "id": "e764341d",
   "metadata": {},
   "source": [
    "# Algorithms and Complexity\n",
    "* Aka, **computational complexity**\n",
    "* Space complexity may be mediated by adding more memory, so it is time efficiency that algorithm / program design needs to take care of.\n",
    "\n",
    "## Methods to Measure Efficiency\n",
    "* Generally when it comes to timing a program, there are three options:\n",
    "    * Using a \"stopwatch\" program to record how much time our program used to run\n",
    "        * Is a method, but may be influenced by environmental factors\n",
    "    * Measure the exact number of operations that the program performed\n",
    "        * Very hard and not ideal\n",
    "    * Establish an \"order of complexity\" of the algorithm that classifies the **rate of growth** of time as the input size increases\n",
    "        * **Asymptotics**\n",
    "\n",
    "## Asymptotics Intro, Again\n",
    "* Let `f(n)` be the function that sorts data of size `n`\n",
    "* **Big-O Notation:** The upper bound (worst case) on running time of an algorithm\n",
    "    * Big-O ignores coefficients and assumes only the fastest growing term from the time growth function.\n",
    "        * I take discrete, I get this\n",
    "* Asymptotics is **machine-independent**, meaning that no factors apart from the algorithm design may affect the result of analysis\n",
    "* There are many types of complexities (that have a name):\n",
    "    * Constant time operation - `O(1)`\n",
    "    * ~~Good~~ Linear time operation - `O(n)`\n",
    "    * ~~Oh No~~ Factorial time operation - `O(n!)`"
   ]
  },
  {
   "cell_type": "markdown",
   "id": "61bf4904",
   "metadata": {},
   "source": [
    "## Iterators and Iterables\n",
    "* An **`Iterable`** in Java is an object that can provide an **`Iterator`**.\n",
    "    * The `Iterator` iterates over elements in the `Iterable`\n",
    "* Iterable is an *interface*. A class may choose to *implement* `Iterable<T>` for any type T.\n",
    "    * Implementing this allows for-in loops to work on that object\n",
    "\n",
    "## Searching and Sorting\n",
    "### Searching\n",
    "* **Linear Search:** Searches elements one-by-one\n",
    "    * `O(n)`\n",
    "* **Binary Search:** Works on sorted data. Reduces current working data by half every time\n",
    "    * `O(nlogn)`\n",
    "    * Deterines which half of the data that the target is in, divides into subsets, and repeat\n",
    "\n",
    "### Sorting\n",
    "* **Selection Sort:** Find the smallest/largest element in the rest of the list and swap it to the sublist at the beginning of the list\n",
    "    * `O(n^2)` best and worst\n",
    "        * The rest of the list always needs to be iterated completely in order to determine if an element is the largest or smallest\n",
    "        * It can be improved for the best case if we \"know\" which elements corresponds to which index\n",
    "* **Bubble Sort:** Check a pair of values at a time. If they are in the wrong order, swap them. Do this for the entire list until no swaps are made in an interation. The smallest (largest) value will be in the front.\n",
    "    * Worst: `O(n^2)` / Best: `O(n)`\n",
    "* **Insertion Sort:** Make the first element a *sublist*. For each of the remaining element, insert them into the appropriate position in the sublist.\n",
    "    * Worst: `O(n^2)` / Best: `O(n)`\n",
    "    * Works better for smaller `n`\n",
    "* **Merge Sort:** Divide the array into two halves. Repeat for both halves until it cannot be divided anymore. Recursively merge the sublists together in a sorted order.\n",
    "    * (Divide and Conquer)\n",
    "    * `O(nlog(n))` best and worst"
   ]
  },
  {
   "cell_type": "markdown",
   "id": "15956f41",
   "metadata": {},
   "source": [
    "# Recursion\n",
    "* **Recursive call**: A call made by a method to the same method itself\n",
    "    * Formally, *a call made to the same method as the resident*\n",
    "* Each recursive call will push a new method \"copy\" (method activation) to the top of the stack\n",
    "    * Takes memory\n",
    "* Rules of Recursion\n",
    "    * A *trivial* **base case** must be established\n",
    "        * This is where recursions end\n",
    "    * Must have a **recurrence relation** - progress must be made to move towards the *base case*\n",
    "* Example: The Tower of Hanoi\n",
    "    * There are three empty positions on the ground: A, B, and C. A stack of N disks, top-down from the smallest (1) to the largest (N), are placed at position A. Move all disks from A to B without breaking the following rules:\n",
    "        1. Only one disk can be moved at a time, and it must be the top disk on the tower\n",
    "        2. No disk can be on top of a smaller disk at any time\n",
    "    * This problem can be decomposed into three problems\n",
    "        0. Define disks 1 to (N-1) as \"top disks\"\n",
    "        1. Move the top disks from A to C, recursively, so that they stack on top of each other\n",
    "        2. Move the last disk (N) from A to B (one action)\n",
    "        3. Move the top disks from C to B, recursively"
   ]
  },
  {
   "cell_type": "markdown",
   "id": "5fa1bf96",
   "metadata": {},
   "source": [
    "# JavaFX\n",
    "* A recent Java framework that provides GUI development support\n",
    "* Another older candidate is called Swing\n",
    "\n",
    "## Basic Terminologies\n",
    "* **Scene Graph:** Collection of nodes in a graph or tree structure\n",
    "\n",
    "## Application Structure\n",
    "* **Application:** The Java class that runs the program\n",
    "    * Extends from `javafx.application.Application`\n",
    "* **Stage:** A window\n",
    "    * A Stage may be displayed using `Stage#show()`\n",
    "* **Scene:** The container of UIs within a *Stage*.\n",
    "    * *Scenes* can be loaded from file using e.g. `FXMLLoader`\n",
    "* **Pane:** An area within a scene for putting GUI objects\n",
    "* **Node:** An element on the screen\n",
    "    * Shapes & UI Controls\n",
    "* **Controller:** A class that defines the behavior of different elements in the application, e.g. onClick\n",
    "    * Similar to the relationship between JS and HTML\n",
    "    * Elements are connected between one another using `fx:id` just like with JavaScript\n",
    "* CSS is used to style the application\n",
    "\n",
    "## Design Patterns for UI Applications\n",
    "\n",
    "### Model-View-Controller (MVC) Pattern\n",
    "* The system is structured into 3 logical components that interact with one another\n",
    "    1. **Model:** Manages system *data* and the associated operations on the data\n",
    "        * Notifies changes and sends state query to *View*\n",
    "    2. **View:** Defines & manages how the data is *presented* to the user\n",
    "        * Sends user events to *Controller*\n",
    "    3. **Controller:** Manages *user interaction*.\n",
    "        * Notifies *Model* of state changes\n",
    "        * Notifies *View* of user selections\n",
    "\n",
    "### Singleton Pattern\n",
    "* Using only **one** class to build the entire program\n",
    "* NOT thread safe\n",
    "* To make it thread safe, an *eager initialization* must be used\n",
    "    * **Eager initialization:** To create an instance early during runtime, and write a method to access that one instance. The constructor should be private and the instance should be stored as a private class variable.\n",
    "\n",
    "## Layout\n",
    "* **[Pane](https://docs.oracle.com/javase/8/javafx/api/javafx/scene/layout/Pane.html):** Stores nodes as a whole and arranges them to display on the scene\n",
    "    * `getChildren()` List of nodes in a `Pane`\n",
    "    * `add(node)` Adds a node to a `Pane`\n",
    "    * `addAll(...nodes)` Similar to Collection behavior\n",
    "* Types of Panes\n",
    "    * **Pane:** The base class\n",
    "    * **StackPane:** Places nodes *on top of* each other, aligned at the center of the pane\n",
    "    * **FlowPane:** Places nodes *row-by-row* horizontally or *column-by-column* vertically.\n",
    "    * **GridPane:** Places nodes in *cells of a 2D grid*\n",
    "    * **BorderPane:** Places nodes in the *top, right, bottom, right, center* regions\n",
    "    * **AnchorPane:** Anchors nodes on one side of the pane\n",
    "    * **HBox:** Places nodes in a single *row*\n",
    "    * **VBox:** Places nodes in a single *column*\n",
    "* **Insets:** Spaces components within a pane\n",
    "\n",
    "## Event-Driven Programming\n",
    "* Depends on the following logic flow:\n",
    "    1. User interacts with an UI element\n",
    "    2. Element fires an event\n",
    "    3. Event handler processes event\n",
    "* In JavaFX, event handling is done by implementing the **`EventHandler<T extends Event>`** interface\n",
    "\n",
    "### Event as an Object\n",
    "* `javafx.events` defines an `Event` base class\n",
    "* Superclasses include:\n",
    "    * ActionEvent\n",
    "    * InputEvent\n",
    "        * MouseEvent\n",
    "        * KeyEvent\n",
    "    * WindowEvent\n",
    "* Using `getSource()` on an event object retrieves the source that fired the event.\n",
    "* **Event delegation:** A different object - an EventHandler - is required to fire an event fired by an element.\n",
    "\n",
    "### EventHandler Interface\n",
    "* Defines a single method, `void handle(T event)`\n",
    "    * This is called a **functional interface**\n",
    "        * This allows for [lambda expressions](#Lambda-Expressions)!\n",
    "* Must be registered with an **event source object** with `source.setOnAction(handler)`\n",
    "    * This is different for different actions\n",
    "    * Mouse pressed: `setOnMousePressed`\n",
    "    * Mouse released: `setOnMouseReleased`\n",
    "    * Mouse clicked: `setOnMouseClicked`\n",
    "    * Mouse entered: `setOnMouseEntered`\n",
    "    * Mouse exited: `setOnMouseExited`\n",
    "    * Mouse moved: `setOnMouseMoved`\n",
    "    * Mouse dragged: `setOnMouseDragged`\n",
    "    * Key pressed: `setOnKeyPressed`\n",
    "    * Key released: `setOnKeyReleased`\n",
    "    * Key typed (clicked): `setOnKeyTyped`\n",
    "\n",
    "### Mouse Events\n",
    "* Actions that trigger a mouse event handler passes down a `MouseEvent`\n",
    "* Common methods include:\n",
    "    * getX / getY / getSceneX / getSceneY\n",
    "    * isShiftDown\n",
    "    * isControlDown\n",
    "\n",
    "### Key Events\n",
    "* A `KeyEvent` is fired any time the user interacts with a physical key.\n",
    "* Each `KeyEvent` has an associated **keycode**, which is an `enum`.\n",
    "    * Navigation keys: HOME, END, PAGE_UP, PAGE_DOWN\n",
    "    * Arrow keys: UP, DOWN, LEFT, RIGHT\n",
    "    * Functional keys: ESCAPE, TAB, CONTROL, SHIFT, BACK_SPACE, CAPS, NUM_LOCK, ENTER\n",
    "    * Function keys: F1 - F12\n",
    "    * Alphabet: A - Z\n",
    "    * Digits: 0 - 9\n",
    "    * Other: UNDEFINED\n",
    "* Common instance methods\n",
    "    * getCharacter - Gets the character that the user has typed, if any\n",
    "    * getCode - Gets the keycode as an enum\n",
    "    * getText - Keycode.toString()\n",
    "    * isShiftDown / isControlDown / isAltDown\n",
    "\n",
    "## UI Controls\n",
    "\n",
    "### Labels\n",
    "* Basic properties of labels are defined within the **Labeled** class\n",
    "* A predefined label class is `javafx.scene.control.Label`, having three constructors:\n",
    "    * `Label()`\n",
    "    * `Label(String text)`\n",
    "    * `Label(String text, Node graphic)`\n",
    "        * Displays the text alongside the graphic\n",
    "\n",
    "### Buttons\n",
    "* Basic properties defined in **ButtonBase** which extends **Labeled**\n",
    "* Predefined class: `javafx.scene.control.Button` extending `ButtonBase`\n",
    "    * `Button()`\n",
    "    * `Button(String text)`\n",
    "    * `Button(String text, Node graphic)`\n",
    "* The onClick action of a button is set with the `setOnAction(EventHandler handler)` method\n",
    "    * Defined by `ButtonBase` - also available in CheckBox, etc.\n",
    "\n",
    "### Checkboxes\n",
    "* Inherits from `ButtonBase` and `Labeled` and provides `selected` property by itself\n",
    "* `javafx.scene.control.CheckBox`\n",
    "    * `CheckBox()`\n",
    "    * `CheckBox(String text)`\n",
    "* Uses `isSelected()` to check if selected\n",
    "\n",
    "### Radios\n",
    "* Extends from `ToggleButton` which defines:\n",
    "    * `selected`\n",
    "    * `toggleGroup`\n",
    "    * Constructors (can be instantiated with text and/or graphic)\n",
    "* `RadioButton` may only be instantiated with a text.\n",
    "    * Another difference is that it is rendered not like a button, but a circle.\n",
    "    * However, `setGraphic` and other methods makes it possible to customize a radiobutton post-construction like everything else.\n",
    "    * To group togglable buttons, create a `ToggleGroup` and call `setToggleGroup` on each of the buttons.\n",
    "\n",
    "### Text Inputs\n",
    "* Extends from `TextInputControl`\n",
    "    * `text`\n",
    "    * `editable`\n",
    "* Several choices\n",
    "    * **`TextField`:** One-line basic text field\n",
    "        * `alignment` - Alignment of the text\n",
    "        * `prefColumnCount` - How wide the displayed text are\n",
    "        * `onAction` - Moving cursor or pressing Enter in the field fires an ActionEvent\n",
    "        * 0- and 1-argument constructors\n",
    "    * **`PasswordField`:** Input obfuscation\n",
    "    * **`TextArea`:** Multiple lines of text\n",
    "        * Scrolling may be done by itself or by `ScrollPane`\n",
    "\n",
    "### Choice Lists (Combo Box)\n",
    "* Inherits from `ComboBoxBase<T>`\n",
    "    * Specifies the type of data displayed in this box\n",
    "* A Combo Box is a drop-down list with multiple possible item selections.\n",
    "* The selections are given through an `ObservableList<T>` which may be instantiated through `FXCollctions.observableArrayList(T[] arrayOfElements)`\n",
    "\n",
    "### ListView\n",
    "* Almost the same as a combo box, but allows the user to have multiple selections\n",
    "* Is a standalone class `ListView<T>`\n",
    "* Number of selections may be set using `setSelectionMode` with an item in the enumeration `SelectionMode`: `SINGLE` or `MULTIPLE`\n",
    "\n",
    "### Scroll Bars\n",
    "* Allows the user to choose from a range of (numerical) values\n",
    "* A standalone class `ScrollBar`\n",
    "* **`Slider`:** A scroll bar minus the left/right increment arrows and plus the numerical value display\n",
    "\n",
    "### File I/O\n",
    "* **`FileChooser`:** Allows the user to select a `File` object from the disk\n",
    "* `DirectoryChooser`: Same but for directories\n",
    "* `ExtensionFilter`: Limits extension of file that can be chosen in a FileChooser instance.\n",
    "\n",
    "## Media\n",
    "* `javafx.scene.media.Media`: Contains a Media\n",
    "    * This class retrieves the media from a URL source\n",
    "* `MediaPlayer`: Plays a Media\n",
    "* `MediaView`: Retrieves the current properties of a MediaPlayer\n",
    "\n",
    "## Animation\n",
    "* Yes, you can keyframe animations in JavaFX."
   ]
  },
  {
   "cell_type": "markdown",
   "id": "7147b18a",
   "metadata": {},
   "source": [
    "# All unrelated but actually useful sidenotes\n",
    "## Parameters vs. Arguments\n",
    "* **Parameter:** A variable declared in the signature of a method. Also known as \"Formal parameters\"\n",
    "* **Argument:** The actual value that is passed to a parameter. Also known as \"Actual parameters\"\n",
    "\n",
    "## Modifier Etiquette\n",
    "* Without any modifiers, Java defaults to `protected`, which exposes data to code inside the package, but not outside\n",
    "    * This behavior is called \"package private\"\n",
    "    * Although there is a default, it's still necessary to **explicitly** declare visibility\n",
    "* It is allowed to change the order of modifiers, e.g. `public static final int`\n",
    "    * However, it is conventional to keep it in this order (specifically, visibility modifier firstmost)\n",
    "\n",
    "## Printing Values\n",
    "* Usually when printing a value, the value's corresponding memory location will be printed\n",
    "    * This behavior is defined in the generic `Object` class\n",
    "* In order to see the value as a string, we need to invoke the corresponding `toString()` method\n",
    "    * When defining a custom class, defining `toString` behavior **overrides** the original method.\n",
    "    * Although not required, it is good practice to add the `@override` descriptor above the method.\n",
    "\n",
    "## Calling static methods with an object\n",
    "* Objects **do** have access to `static` methods\n",
    "    * This means that `objectName.staticMethod()` is equivalent to `ClassName.staticMethod()`\n",
    "* However, this is *bad* programming practice and should be avoided"
   ]
  },
  {
   "cell_type": "markdown",
   "id": "b847690d",
   "metadata": {},
   "source": [
    "# Playground"
   ]
  },
  {
   "cell_type": "code",
   "execution_count": 32,
   "id": "e59dd25f",
   "metadata": {},
   "outputs": [
    {
     "name": "stdout",
     "output_type": "stream",
     "text": [
      "225\n",
      "2.25\n"
     ]
    }
   ],
   "source": [
    "double dollars = 2.25232;\n",
    "Integer dollarsInt = (int)(dollars * 100);\n",
    "System.out.println(dollarsInt);\n",
    "double dollarsTruncate = dollarsInt / 100.0;\n",
    "System.out.println(dollarsTruncate);"
   ]
  },
  {
   "cell_type": "code",
   "execution_count": 33,
   "id": "2b75872b",
   "metadata": {},
   "outputs": [
    {
     "name": "stdout",
     "output_type": "stream",
     "text": [
      "Hello printf!       <--\n",
      "-->       Hello printf!\n"
     ]
    },
    {
     "data": {
      "text/plain": [
       "java.io.PrintStream@5eefb80e"
      ]
     },
     "execution_count": 33,
     "metadata": {},
     "output_type": "execute_result"
    }
   ],
   "source": [
    "System.out.printf(\"%-20s%s%n\", \"Hello printf!\", \"<--\");  // Additional space paddings are added\n",
    "System.out.printf(\"%s%20s%n\", \"-->\", \"Hello printf!\");  // Space on the left of string"
   ]
  },
  {
   "cell_type": "code",
   "execution_count": 34,
   "id": "32d70f5e",
   "metadata": {},
   "outputs": [
    {
     "data": {
      "text/plain": [
       "Yes, me."
      ]
     },
     "execution_count": 34,
     "metadata": {},
     "output_type": "execute_result"
    }
   ],
   "source": [
    "public enum MyEnum {\n",
    "    I (\"Yes, me.\"),\n",
    "    ME (\"I and me and...\"),\n",
    "    MYSELF (\"Myself.\");\n",
    "    \n",
    "    protected String info;\n",
    "    \n",
    "    private MyEnum (String info) {\n",
    "        this.info = info;\n",
    "    }\n",
    "    \n",
    "    public String getInfo() {\n",
    "        return info;\n",
    "    }\n",
    "}\n",
    "\n",
    "MyEnum.I.ordinal();\n",
    "MyEnum.I.getInfo();"
   ]
  }
 ],
 "metadata": {
  "kernelspec": {
   "display_name": "Java",
   "language": "java",
   "name": "java"
  },
  "language_info": {
   "codemirror_mode": "java",
   "file_extension": ".jshell",
   "mimetype": "text/x-java-source",
   "name": "Java",
   "pygments_lexer": "java",
   "version": "11.0.17+8"
  }
 },
 "nbformat": 4,
 "nbformat_minor": 5
}
