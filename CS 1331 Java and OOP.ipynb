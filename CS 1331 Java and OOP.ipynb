{
 "cells": [
  {
   "cell_type": "markdown",
   "id": "731d35fb",
   "metadata": {},
   "source": [
    "# Java Syntax Basics\n",
    "* Every `.java` file includes a single class\n",
    "* The name of the class should be the same as the file name\n",
    "* The `main()` method of the class will be called when running `java <filename>`\n",
    "* File needs to be compiled using `javac <filename>` first\n",
    "* Semicolons\n",
    "\n",
    "Example Hello World file:"
   ]
  },
  {
   "cell_type": "code",
   "execution_count": 5,
   "id": "b93f920f",
   "metadata": {},
   "outputs": [
    {
     "name": "stdout",
     "output_type": "stream",
     "text": [
      "Hello World!\n"
     ]
    }
   ],
   "source": [
    "// Test.java\n",
    "public class Test {\n",
    "    public static void main(String[] args) {\n",
    "        System.out.println(\"Hello World!\");\n",
    "    }\n",
    "}\n",
    "System.out.println(\"Hello World!\");"
   ]
  },
  {
   "cell_type": "markdown",
   "id": "704533b5",
   "metadata": {},
   "source": [
    "## Variable Declaration in Java\n",
    "\n",
    "* Syntax: `type` `identifier`\n",
    "* *Must* start with a letter. Can include letters, numbers, underscores\n",
    "* Case sensitive\n",
    "* May only declare once (e.g. JavaScript logic)\n",
    "* Constants\n",
    "    * `UPPER_SNAKE`\n",
    "    * Use `final` keyword before `type`\n",
    "* A lint (?) option may be enabled for the compiler so that unused variables trigger a warning\n",
    "\n",
    "## Difference between Java and other Compiling Languages\n",
    "\n",
    "* Java uses **JVM (Java Virtual Machine)** and, instead of running machine code, runs **Java Byte Code**\n",
    "    * **Java Byte Codes** are hexadecimal codes that refer to commands that are interpreted by JVM\n",
    "    * They start with `CAFEBABE`\n",
    "\n",
    "# Basics of OOP\n",
    "\n",
    "* **Class**: A blueprint of a kind of things\n",
    "* **Object**: An instance of a class\n",
    "    * An object has **states** that can differ between one another."
   ]
  },
  {
   "cell_type": "code",
   "execution_count": 17,
   "id": "532f95f5",
   "metadata": {},
   "outputs": [
    {
     "name": "stdout",
     "output_type": "stream",
     "text": [
      "Answer\n",
      "42\n"
     ]
    }
   ],
   "source": [
    "Integer number = 42;\n",
    "final String WORD = \"Answer\";\n",
    "System.out.println(WORD);\n",
    "System.out.println(number);"
   ]
  },
  {
   "cell_type": "code",
   "execution_count": 27,
   "id": "b7f9ecb5",
   "metadata": {},
   "outputs": [
    {
     "name": "stdout",
     "output_type": "stream",
     "text": [
      "43\n"
     ]
    }
   ],
   "source": [
    "final Integer IMMUTABLE = 42;\n",
    "IMMUTABLE += 1;\n",
    "System.out.println(IMMUTABLE);  // ?"
   ]
  },
  {
   "cell_type": "markdown",
   "id": "8199225b",
   "metadata": {},
   "source": [
    "# Classes and Primitive Types\n",
    "* Classes may have methods. E.g. \"Hello\".equals(\"hello\")\n",
    "* Primitive types do *not* have methods and requires operators (?) to do comparison\n",
    "\n",
    "## Primitive Types\n",
    "\n",
    "* `char`: Single character\n",
    "    * Literal: Single quotes wrapping a character\n",
    "* `bool`: Boolean values\n",
    "    * Literal: `true` `false`"
   ]
  },
  {
   "cell_type": "code",
   "execution_count": 3,
   "id": "884818bb",
   "metadata": {
    "scrolled": true
   },
   "outputs": [
    {
     "name": "stdout",
     "output_type": "stream",
     "text": [
      "☕\n"
     ]
    }
   ],
   "source": [
    "System.out.println('\\u2615');"
   ]
  },
  {
   "cell_type": "markdown",
   "id": "3d0b9de6",
   "metadata": {},
   "source": [
    "### Numerical Values\n",
    "* `Integer` is a *wrapper class* for the following types:\n",
    "    * `Byte` 8 bit signed\n",
    "    * `Short` 16 bit signed\n",
    "    * `Int` 32 bit signed\n",
    "        * **Default for integers**\n",
    "    * `Long` 64 bit signed\n",
    "        * Literal: `L` after number\n",
    "* `float` 32 bit IEEE 754\n",
    "    * 6-9 significant digits\n",
    "    * Essentially, half of `long` is used to store the floating point\n",
    "* `double` 64 bit IEEE 754\n",
    "    * 15-17 significant digits\n",
    "    * **Default for floating point numbers**"
   ]
  },
  {
   "cell_type": "code",
   "execution_count": 32,
   "id": "c970dbfa",
   "metadata": {},
   "outputs": [
    {
     "name": "stdout",
     "output_type": "stream",
     "text": [
      "-2147483648\n"
     ]
    }
   ],
   "source": [
    "// Potential pitfall: Integer overflow\n",
    "int i = 2147483647+1;\n",
    "System.out.println(i);"
   ]
  },
  {
   "cell_type": "markdown",
   "id": "ef14a7cd",
   "metadata": {},
   "source": [
    "## Wrapper Classes for Types\n",
    "* `Integer`: Wrapper class for all numeric types\n",
    "* `String`: Wrapper class for a sequence of characters. Double quotes around a sequence of characters."
   ]
  },
  {
   "cell_type": "code",
   "execution_count": 1,
   "id": "4d862dd4",
   "metadata": {},
   "outputs": [
    {
     "data": {
      "text/plain": [
       "true"
      ]
     },
     "execution_count": 1,
     "metadata": {},
     "output_type": "execute_result"
    }
   ],
   "source": [
    "String s = \"hello\";\n",
    "s == \"hello\";  // => true\n",
    "s.equals(\"hello\");  // => true\n"
   ]
  },
  {
   "cell_type": "code",
   "execution_count": 31,
   "id": "2a1ae10f",
   "metadata": {},
   "outputs": [
    {
     "name": "stdout",
     "output_type": "stream",
     "text": [
      "true\n",
      "true\n",
      "true\n"
     ]
    },
    {
     "ename": "CompilationException",
     "evalue": "",
     "output_type": "error",
     "traceback": [
      "\u001b[1m\u001b[30m|   \u001b[1m\u001b[30mSystem.out.println(\u001b[0m\u001b[1m\u001b[30m\u001b[41mi.equals\u001b[0m\u001b[1m\u001b[30m(1));\u001b[0m",
      "\u001b[1m\u001b[31m无法取消引用int\u001b[0m",
      ""
     ]
    }
   ],
   "source": [
    "int i = 1;\n",
    "Integer I = 1;\n",
    "System.out.println(I == 1);\n",
    "System.out.println(I.equals(1));\n",
    "System.out.println(i == 1);\n",
    "System.out.println(i.equals(1));"
   ]
  },
  {
   "cell_type": "markdown",
   "id": "0a622a6e",
   "metadata": {},
   "source": [
    "# Order of Operator Precedence\n",
    "\n",
    "![table](https://i.stack.imgur.com/O6UXN.png)"
   ]
  },
  {
   "cell_type": "code",
   "execution_count": 4,
   "id": "f3ea82b2",
   "metadata": {},
   "outputs": [
    {
     "name": "stdout",
     "output_type": "stream",
     "text": [
      "1\n",
      "1\n",
      "2\n",
      "3\n",
      "3\n"
     ]
    }
   ],
   "source": [
    "// On the topic of increments / decrements\n",
    "Integer n = 1;\n",
    "System.out.println(n);\n",
    "System.out.println(n++);\n",
    "System.out.println(n);\n",
    "System.out.println(++n);\n",
    "System.out.println(n);"
   ]
  },
  {
   "cell_type": "markdown",
   "id": "00b6f835",
   "metadata": {},
   "source": [
    "# Type Conversions\n",
    "* Java is strongly typed\n",
    "* There are many incompatible types\n",
    "    * Incompatible: Types which conversion would lose information\n",
    "* **Narrowing conversion** means to go from a \"larger\" data type to a \"smaller\" one. This would lose information and isn't allowed.\n",
    "* **Widening conversion** is to go from \"smaller\" data type to a \"larger\" one. This is allowed as no information is lost."
   ]
  },
  {
   "cell_type": "code",
   "execution_count": 15,
   "id": "0c5e98be",
   "metadata": {
    "scrolled": true
   },
   "outputs": [
    {
     "name": "stdout",
     "output_type": "stream",
     "text": [
      "127.0\n"
     ]
    },
    {
     "ename": "CompilationException",
     "evalue": "",
     "output_type": "error",
     "traceback": [
      "\u001b[1m\u001b[30m|   \u001b[1m\u001b[30mbyte narrowing = \u001b[0m\u001b[1m\u001b[30m\u001b[41mtempInt\u001b[0m\u001b[1m\u001b[30m;\u001b[0m",
      "\u001b[1m\u001b[31m不兼容的类型: 从int转换到byte可能会有损失\u001b[0m",
      ""
     ]
    }
   ],
   "source": [
    "byte tempByte = Byte.MAX_VALUE;\n",
    "double widening = tempByte;\n",
    "System.out.println(widening);\n",
    "int tempInt = Byte.MAX_VALUE+1;\n",
    "byte narrowing = tempInt;\n",
    "System.out.println(narrowing);"
   ]
  },
  {
   "cell_type": "markdown",
   "id": "896f34b8",
   "metadata": {},
   "source": [
    "* Conversion may be done in either of two ways\n",
    "    * **Assignment conversion**: Convert by assigning to a variable of a different type.\n",
    "    * **Arithmetic conversion**: *Promote* values to a wider type. Done to not lose any information. E.g., "
   ]
  },
  {
   "cell_type": "code",
   "execution_count": 23,
   "id": "d317bd1e",
   "metadata": {},
   "outputs": [
    {
     "name": "stdout",
     "output_type": "stream",
     "text": [
      "2.0\n"
     ]
    }
   ],
   "source": [
    "System.out.println(2/1.0);  // `2` is *promoted* to a floating point number."
   ]
  },
  {
   "cell_type": "markdown",
   "id": "3e439d5d",
   "metadata": {},
   "source": [
    "# Boolean and Conditionals (AKA Discrete Math)\n",
    "## Boolean operators\n",
    "| ! | \\|\\| | && | ^ |\n",
    "|:-:|:-:|:-:|:-:|\n",
    "| NOT | OR | AND | XOR |\n",
    "\n",
    "## Short-circuiting\n",
    "* If the first condition in an AND statement is `false`, the others won't be evaluated\n",
    "* Same goes for the first condition being `true` in an OR statement\n",
    "\n",
    "## If statements\n",
    "* Without any braces, `else` will match the *closest* `if`\n",
    "    * Makes it possible to write `else if` as a whole\n",
    "* Indentation does not matter because Java thinks Python is dumb\n",
    "* 2 or more statements need to be wrapped in curly braces\n",
    "\n",
    "## Ternary operator\n",
    "* JavaScript behavior\n",
    "\n",
    "## Switch ... case\n",
    "* JavaScript behavior\n"
   ]
  },
  {
   "cell_type": "code",
   "execution_count": 12,
   "id": "a9fdb7fc",
   "metadata": {},
   "outputs": [
    {
     "name": "stdout",
     "output_type": "stream",
     "text": [
      "5\n",
      "7\n",
      "2\n",
      "Signed left shift: 128\n",
      "Signed right shift: 32\n",
      "Unsigned right shift: 2147483616\n"
     ]
    }
   ],
   "source": [
    "// Bitwise operators: Boolean ops, but only one symbol\n",
    "System.out.println(5 & 7);\n",
    "System.out.println(5 | 7);\n",
    "System.out.println(5 ^ 7);\n",
    "\n",
    "// Shift operators:\n",
    "System.out.println(\"Signed left shift: \"+(64 << 1));\n",
    "System.out.println(\"Signed right shift: \"+(64 >> 1));\n",
    "System.out.println(\"Unsigned right shift: \"+(-64 >>> 1));"
   ]
  },
  {
   "cell_type": "markdown",
   "id": "2b40fa4a",
   "metadata": {},
   "source": [
    "# Iteration\n",
    "## While loops"
   ]
  },
  {
   "cell_type": "code",
   "execution_count": 16,
   "id": "da4781f4",
   "metadata": {},
   "outputs": [
    {
     "name": "stdout",
     "output_type": "stream",
     "text": [
      "2\n",
      "1\n",
      "0\n"
     ]
    }
   ],
   "source": [
    "int x = 3;\n",
    "while (x --> 0) {\n",
    "    System.out.println(x);\n",
    "}"
   ]
  },
  {
   "cell_type": "markdown",
   "id": "4b9bde96",
   "metadata": {},
   "source": [
    "* `continue` and `break` also work\n",
    "\n",
    "## Do ... while loops\n",
    "* While loops, but with a twist"
   ]
  },
  {
   "cell_type": "code",
   "execution_count": 17,
   "id": "dd4a1f1e",
   "metadata": {},
   "outputs": [
    {
     "name": "stdout",
     "output_type": "stream",
     "text": [
      "3\n",
      "2\n",
      "1\n",
      "0\n"
     ]
    }
   ],
   "source": [
    "int x = 3;\n",
    "do {\n",
    "    System.out.println(x);\n",
    "} while (x --> 0);"
   ]
  },
  {
   "cell_type": "markdown",
   "id": "38b4d4d6",
   "metadata": {},
   "source": [
    "## For loops\n",
    "* A more concise while loop (sic)"
   ]
  },
  {
   "cell_type": "code",
   "execution_count": 26,
   "id": "efdcde1c",
   "metadata": {},
   "outputs": [
    {
     "name": "stdout",
     "output_type": "stream",
     "text": [
      "3\n",
      "2\n",
      "1\n",
      "3\n"
     ]
    }
   ],
   "source": [
    "for (int x=3; x>0; x--) {\n",
    "    System.out.println(x);\n",
    "}\n",
    "System.out.println(x);"
   ]
  },
  {
   "cell_type": "markdown",
   "id": "a383fe2c",
   "metadata": {},
   "source": [
    "# Strings"
   ]
  },
  {
   "cell_type": "code",
   "execution_count": 1,
   "id": "1fa7b009",
   "metadata": {},
   "outputs": [],
   "source": [
    "String instance = new String(\"new instance\");\n",
    "String literal = \"literal\";"
   ]
  },
  {
   "cell_type": "markdown",
   "id": "84b9ec71",
   "metadata": {},
   "source": [
    "## Literals vs. `new` Statements\n",
    "* Objects are implemented using a `heap` in JVM.\n",
    "    * `new String()` creates an object in the heap\n",
    "* Strings *literals* are instantiated in **String Constant Pool**\n",
    "    * `\"\"` points to a location in the Pool\n",
    "* String Pool has **no duplicates**, but the heap **may have duplicates**.\n",
    "    * Two identical `new String()` creates **two objects** in the heap.\n",
    "    * Two identical *string literals* points to the **same location** in the String Pool.\n",
    "    * Due to this characteristic, it is the best to use *literals* instead of the `new` statement in order to save memory.\n",
    "* Objects created by `new` Statements may be removed by **garbage collection** after nothing references it anymore"
   ]
  },
  {
   "cell_type": "markdown",
   "id": "4af54ccd",
   "metadata": {},
   "source": [
    "## Strings are *immutable*"
   ]
  },
  {
   "cell_type": "code",
   "execution_count": 14,
   "id": "be1dfb73",
   "metadata": {},
   "outputs": [
    {
     "data": {
      "text/plain": [
       "hello!"
      ]
     },
     "execution_count": 14,
     "metadata": {},
     "output_type": "execute_result"
    }
   ],
   "source": [
    "String immutable = \"hello\";\n",
    "// immutable[0] = \"b\";  // Error: Cannot change content of a String\n",
    "immutable += \"!\";  // No error: New String assigned to variable"
   ]
  },
  {
   "cell_type": "markdown",
   "id": "87aea412",
   "metadata": {},
   "source": [
    "## String Operators (Methods)\n",
    "### Concatenation"
   ]
  },
  {
   "cell_type": "code",
   "execution_count": 3,
   "id": "f3fb9439",
   "metadata": {},
   "outputs": [
    {
     "data": {
      "text/plain": [
       "s1s2"
      ]
     },
     "execution_count": 3,
     "metadata": {},
     "output_type": "execute_result"
    }
   ],
   "source": [
    "String s1 = \"s1\";\n",
    "String s2 = \"s2\";\n",
    "String s12 = s1.concat(s2);\n",
    "s12"
   ]
  },
  {
   "cell_type": "markdown",
   "id": "d9cb0d25",
   "metadata": {},
   "source": [
    "### Equality"
   ]
  },
  {
   "cell_type": "code",
   "execution_count": 8,
   "id": "487f982c",
   "metadata": {},
   "outputs": [
    {
     "name": "stdout",
     "output_type": "stream",
     "text": [
      "false\n",
      "true\n"
     ]
    }
   ],
   "source": [
    "String s1 = \"42\";\n",
    "String s2 = new String(\"42\");\n",
    "System.out.println(s1 == s2);  // false, because they point to different memory locations\n",
    "System.out.println(s1.equals(s2)); // true, because .equals() evaluates content of objects"
   ]
  },
  {
   "cell_type": "markdown",
   "id": "134ee761",
   "metadata": {},
   "source": [
    "### Length"
   ]
  },
  {
   "cell_type": "code",
   "execution_count": 9,
   "id": "c9a28b8b",
   "metadata": {},
   "outputs": [
    {
     "data": {
      "text/plain": [
       "2"
      ]
     },
     "execution_count": 9,
     "metadata": {},
     "output_type": "execute_result"
    }
   ],
   "source": [
    "String s1 = \"42\";\n",
    "s1.length();"
   ]
  },
  {
   "cell_type": "markdown",
   "id": "f4f3b324",
   "metadata": {},
   "source": [
    "# System as an instance\n",
    "* `System` as in `System.out.println()` is an object\n",
    "* It has more than `println()` for its methods\n",
    "\n",
    "| Method | Description |\n",
    "| :- | :- |\n",
    "| `.out.print()` | Print without a newline character |\n",
    "| `.out.println()` | Print *with* a newline character |\n",
    "| `.out.printf()` | Print after formatting given String |\n",
    "\n",
    "## `System.out.printf()`\n",
    "* Formatter syntax:  \n",
    "        %[flags][width][.precision]conversion-character\n",
    "* Line separator: `%n`\n",
    "* [Look at docs for details because it makes no sense to memorize it all](https://www.baeldung.com/java-printstream-printf)"
   ]
  },
  {
   "cell_type": "markdown",
   "id": "b847690d",
   "metadata": {},
   "source": [
    "# Playground"
   ]
  },
  {
   "cell_type": "code",
   "execution_count": 4,
   "id": "e59dd25f",
   "metadata": {},
   "outputs": [
    {
     "name": "stdout",
     "output_type": "stream",
     "text": [
      "225\n",
      "2.25\n"
     ]
    }
   ],
   "source": [
    "double dollars = 2.25232;\n",
    "Integer dollarsInt = (int)(dollars * 100);\n",
    "System.out.println(dollarsInt);\n",
    "double dollarsTruncate = dollarsInt / 100.0;\n",
    "System.out.println(dollarsTruncate);"
   ]
  }
 ],
 "metadata": {
  "kernelspec": {
   "display_name": "Java",
   "language": "java",
   "name": "java"
  },
  "language_info": {
   "codemirror_mode": "java",
   "file_extension": ".jshell",
   "mimetype": "text/x-java-source",
   "name": "Java",
   "pygments_lexer": "java",
   "version": "11.0.17+8"
  }
 },
 "nbformat": 4,
 "nbformat_minor": 5
}
