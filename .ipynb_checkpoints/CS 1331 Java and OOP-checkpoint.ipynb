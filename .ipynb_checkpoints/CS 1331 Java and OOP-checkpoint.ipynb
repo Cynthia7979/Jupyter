{
 "cells": [
  {
   "cell_type": "markdown",
   "id": "731d35fb",
   "metadata": {},
   "source": [
    "# Java Syntax Basics\n",
    "* Every `.java` file includes a single class\n",
    "* The name of the class should be the same as the file name\n",
    "* The `main()` method of the class will be called when running `java <filename>`\n",
    "* File needs to be compiled using `javac <filename>` first\n",
    "* Semicolons\n",
    "\n",
    "Example Hello World file:"
   ]
  },
  {
   "cell_type": "code",
   "execution_count": 26,
   "id": "b93f920f",
   "metadata": {},
   "outputs": [
    {
     "name": "stdout",
     "output_type": "stream",
     "text": [
      "Hello World!\n"
     ]
    }
   ],
   "source": [
    "// Test.java\n",
    "public class Test {\n",
    "    public static void main(String[] args) {\n",
    "        System.out.println(\"Hello World!\");\n",
    "    }\n",
    "}\n",
    "Test.main(new String[0]);"
   ]
  },
  {
   "cell_type": "markdown",
   "id": "1303a122",
   "metadata": {},
   "source": [
    "## Variable Declaration in Java\n",
    "\n",
    "* Syntax: `type` `identifier`\n",
    "* *Must* start with a letter. Can include letters, numbers, underscores\n",
    "* Case sensitive\n",
    "* May only declare once (e.g. JavaScript logic)\n",
    "* Constants\n",
    "    * `UPPER_SNAKE`\n",
    "    * Use `final` keyword before `type`\n",
    "* A lint (?) option may be enabled for the compiler so that unused variables trigger a warning"
   ]
  },
  {
   "cell_type": "code",
   "execution_count": 2,
   "id": "532f95f5",
   "metadata": {},
   "outputs": [
    {
     "name": "stdout",
     "output_type": "stream",
     "text": [
      "Answer\n",
      "42\n"
     ]
    }
   ],
   "source": [
    "Integer number = 42;\n",
    "final String WORD = \"Answer\";\n",
    "System.out.println(WORD);\n",
    "System.out.println(number);"
   ]
  },
  {
   "cell_type": "code",
   "execution_count": 3,
   "id": "b7f9ecb5",
   "metadata": {},
   "outputs": [
    {
     "name": "stdout",
     "output_type": "stream",
     "text": [
      "43\n"
     ]
    }
   ],
   "source": [
    "final Integer IMMUTABLE = 42;\n",
    "IMMUTABLE += 1;\n",
    "System.out.println(IMMUTABLE);  // ?"
   ]
  },
  {
   "cell_type": "markdown",
   "id": "704533b5",
   "metadata": {},
   "source": [
    "## Difference between Java and other Compiling Languages\n",
    "\n",
    "* Java uses **JVM (Java Virtual Machine)** and, instead of running machine code, runs **Java Byte Code**\n",
    "    * **Java Byte Codes** are hexadecimal codes that refer to commands that are interpreted by JVM\n",
    "    * They start with `CAFEBABE`"
   ]
  },
  {
   "cell_type": "markdown",
   "id": "8199225b",
   "metadata": {},
   "source": [
    "# Classes and Primitive Types\n",
    "* Classes may have methods. E.g. \"Hello\".equals(\"hello\")\n",
    "* Primitive types do *not* have methods and requires operators (?) to do comparison\n",
    "\n",
    "## Primitive Types\n",
    "\n",
    "* `char`: Single character\n",
    "    * Literal: Single quotes wrapping a character\n",
    "* `bool`: Boolean values\n",
    "    * Literal: `true` `false`"
   ]
  },
  {
   "cell_type": "code",
   "execution_count": 4,
   "id": "884818bb",
   "metadata": {
    "scrolled": true
   },
   "outputs": [
    {
     "name": "stdout",
     "output_type": "stream",
     "text": [
      "☕\n"
     ]
    }
   ],
   "source": [
    "System.out.println('\\u2615');"
   ]
  },
  {
   "cell_type": "markdown",
   "id": "3d0b9de6",
   "metadata": {},
   "source": [
    "### Numerical Values\n",
    "* `Integer` is a *wrapper class* for the following types:\n",
    "    * `Byte` 8 bit signed\n",
    "    * `Short` 16 bit signed\n",
    "    * `Int` 32 bit signed\n",
    "        * **Default for integers**\n",
    "    * `Long` 64 bit signed\n",
    "        * Literal: `L` after number\n",
    "* `float` 32 bit IEEE 754\n",
    "    * 6-9 significant digits\n",
    "    * Essentially, half of `long` is used to store the floating point\n",
    "* `double` 64 bit IEEE 754\n",
    "    * 15-17 significant digits\n",
    "    * **Default for floating point numbers**"
   ]
  },
  {
   "cell_type": "code",
   "execution_count": 5,
   "id": "c970dbfa",
   "metadata": {},
   "outputs": [
    {
     "name": "stdout",
     "output_type": "stream",
     "text": [
      "-2147483648\n"
     ]
    }
   ],
   "source": [
    "// Potential pitfall: Integer overflow\n",
    "int i = 2147483647+1;\n",
    "System.out.println(i);"
   ]
  },
  {
   "cell_type": "markdown",
   "id": "ef14a7cd",
   "metadata": {},
   "source": [
    "## Wrapper Classes for Types\n",
    "* `Integer`: Wrapper class for all numeric types\n",
    "* `String`: Wrapper class for a sequence of characters. Double quotes around a sequence of characters."
   ]
  },
  {
   "cell_type": "code",
   "execution_count": 6,
   "id": "4d862dd4",
   "metadata": {},
   "outputs": [
    {
     "data": {
      "text/plain": [
       "true"
      ]
     },
     "execution_count": 6,
     "metadata": {},
     "output_type": "execute_result"
    }
   ],
   "source": [
    "String s = \"hello\";\n",
    "s == \"hello\";  // => true\n",
    "s.equals(\"hello\");  // => true\n"
   ]
  },
  {
   "cell_type": "code",
   "execution_count": 7,
   "id": "2a1ae10f",
   "metadata": {},
   "outputs": [
    {
     "name": "stdout",
     "output_type": "stream",
     "text": [
      "true\n",
      "true\n",
      "true\n"
     ]
    },
    {
     "ename": "CompilationException",
     "evalue": "",
     "output_type": "error",
     "traceback": [
      "\u001b[1m\u001b[30m|   \u001b[1m\u001b[30mSystem.out.println(\u001b[0m\u001b[1m\u001b[30m\u001b[41mi.equals\u001b[0m\u001b[1m\u001b[30m(1));\u001b[0m",
      "\u001b[1m\u001b[31m无法取消引用int\u001b[0m",
      ""
     ]
    }
   ],
   "source": [
    "int i = 1;\n",
    "Integer I = 1;\n",
    "System.out.println(I == 1);\n",
    "System.out.println(I.equals(1));\n",
    "System.out.println(i == 1);\n",
    "System.out.println(i.equals(1));"
   ]
  },
  {
   "cell_type": "markdown",
   "id": "0a622a6e",
   "metadata": {},
   "source": [
    "# Order of Operator Precedence\n",
    "\n",
    "![table](https://i.stack.imgur.com/O6UXN.png)"
   ]
  },
  {
   "cell_type": "code",
   "execution_count": 8,
   "id": "f3ea82b2",
   "metadata": {},
   "outputs": [
    {
     "name": "stdout",
     "output_type": "stream",
     "text": [
      "1\n",
      "1\n",
      "2\n",
      "3\n",
      "3\n"
     ]
    }
   ],
   "source": [
    "// On the topic of increments / decrements\n",
    "Integer n = 1;\n",
    "System.out.println(n);\n",
    "System.out.println(n++);\n",
    "System.out.println(n);\n",
    "System.out.println(++n);\n",
    "System.out.println(n);"
   ]
  },
  {
   "cell_type": "markdown",
   "id": "00b6f835",
   "metadata": {},
   "source": [
    "# Type Conversions\n",
    "* Java is strongly typed\n",
    "* There are many incompatible types\n",
    "    * Incompatible: Types which conversion would lose information\n",
    "* **Narrowing conversion** means to go from a \"larger\" data type to a \"smaller\" one. This would lose information and isn't allowed.\n",
    "* **Widening conversion** is to go from \"smaller\" data type to a \"larger\" one. This is allowed as no information is lost."
   ]
  },
  {
   "cell_type": "code",
   "execution_count": 9,
   "id": "0c5e98be",
   "metadata": {
    "scrolled": true
   },
   "outputs": [
    {
     "name": "stdout",
     "output_type": "stream",
     "text": [
      "127.0\n"
     ]
    },
    {
     "ename": "CompilationException",
     "evalue": "",
     "output_type": "error",
     "traceback": [
      "\u001b[1m\u001b[30m|   \u001b[1m\u001b[30mbyte narrowing = \u001b[0m\u001b[1m\u001b[30m\u001b[41mtempInt\u001b[0m\u001b[1m\u001b[30m;\u001b[0m",
      "\u001b[1m\u001b[31m不兼容的类型: 从int转换到byte可能会有损失\u001b[0m",
      ""
     ]
    }
   ],
   "source": [
    "byte tempByte = Byte.MAX_VALUE;\n",
    "double widening = tempByte;\n",
    "System.out.println(widening);\n",
    "int tempInt = Byte.MAX_VALUE+1;\n",
    "byte narrowing = tempInt;\n",
    "System.out.println(narrowing);"
   ]
  },
  {
   "cell_type": "markdown",
   "id": "896f34b8",
   "metadata": {},
   "source": [
    "* Conversion may be done in either of two ways\n",
    "    * **Assignment conversion**: Convert by assigning to a variable of a different type.\n",
    "    * **Arithmetic conversion**: *Promote* values to a wider type. Done to not lose any information. E.g., "
   ]
  },
  {
   "cell_type": "code",
   "execution_count": 10,
   "id": "d317bd1e",
   "metadata": {},
   "outputs": [
    {
     "name": "stdout",
     "output_type": "stream",
     "text": [
      "2.0\n"
     ]
    }
   ],
   "source": [
    "System.out.println(2/1.0);  // `2` is *promoted* to a floating point number."
   ]
  },
  {
   "cell_type": "markdown",
   "id": "3e439d5d",
   "metadata": {},
   "source": [
    "# Boolean and Conditionals (AKA Discrete Math)\n",
    "## Boolean operators\n",
    "| ! | \\|\\| | && | ^ |\n",
    "|:-:|:-:|:-:|:-:|\n",
    "| NOT | OR | AND | XOR |\n",
    "\n",
    "## Short-circuiting\n",
    "* If the first condition in an AND statement is `false`, the others won't be evaluated\n",
    "* Same goes for the first condition being `true` in an OR statement\n",
    "\n",
    "## If statements\n",
    "* Without any braces, `else` will match the *closest* `if`\n",
    "    * Makes it possible to write `else if` as a whole\n",
    "* Indentation does not matter because Java thinks Python is dumb\n",
    "* 2 or more statements need to be wrapped in curly braces\n",
    "\n",
    "## Ternary operator\n",
    "* JavaScript behavior\n",
    "\n",
    "## Switch ... case\n",
    "* JavaScript behavior\n"
   ]
  },
  {
   "cell_type": "code",
   "execution_count": 11,
   "id": "a9fdb7fc",
   "metadata": {},
   "outputs": [
    {
     "name": "stdout",
     "output_type": "stream",
     "text": [
      "5\n",
      "7\n",
      "2\n",
      "Signed left shift: 128\n",
      "Signed right shift: 32\n",
      "Unsigned right shift: 2147483616\n"
     ]
    }
   ],
   "source": [
    "// Bitwise operators: Boolean ops, but only one symbol\n",
    "System.out.println(5 & 7);\n",
    "System.out.println(5 | 7);\n",
    "System.out.println(5 ^ 7);\n",
    "\n",
    "// Shift operators:\n",
    "System.out.println(\"Signed left shift: \"+(64 << 1));\n",
    "System.out.println(\"Signed right shift: \"+(64 >> 1));\n",
    "System.out.println(\"Unsigned right shift: \"+(-64 >>> 1));"
   ]
  },
  {
   "cell_type": "markdown",
   "id": "2b40fa4a",
   "metadata": {},
   "source": [
    "# Iteration\n",
    "## While loops"
   ]
  },
  {
   "cell_type": "code",
   "execution_count": 12,
   "id": "da4781f4",
   "metadata": {},
   "outputs": [
    {
     "name": "stdout",
     "output_type": "stream",
     "text": [
      "2\n",
      "1\n",
      "0\n"
     ]
    }
   ],
   "source": [
    "int x = 3;\n",
    "while (x --> 0) {\n",
    "    System.out.println(x);\n",
    "}"
   ]
  },
  {
   "cell_type": "markdown",
   "id": "4b9bde96",
   "metadata": {},
   "source": [
    "* `continue` and `break` also work\n",
    "\n",
    "## Do ... while loops\n",
    "* While loops, but with a twist"
   ]
  },
  {
   "cell_type": "code",
   "execution_count": 13,
   "id": "dd4a1f1e",
   "metadata": {},
   "outputs": [
    {
     "name": "stdout",
     "output_type": "stream",
     "text": [
      "3\n",
      "2\n",
      "1\n",
      "0\n"
     ]
    }
   ],
   "source": [
    "int x = 3;\n",
    "do {\n",
    "    System.out.println(x);\n",
    "} while (x --> 0);"
   ]
  },
  {
   "cell_type": "markdown",
   "id": "38b4d4d6",
   "metadata": {},
   "source": [
    "## For loops\n",
    "* A more concise while loop (sic)"
   ]
  },
  {
   "cell_type": "code",
   "execution_count": 14,
   "id": "efdcde1c",
   "metadata": {},
   "outputs": [
    {
     "name": "stdout",
     "output_type": "stream",
     "text": [
      "3\n",
      "2\n",
      "1\n",
      "-1\n"
     ]
    }
   ],
   "source": [
    "for (int x=3; x>0; x--) {\n",
    "    System.out.println(x);\n",
    "}\n",
    "System.out.println(x);"
   ]
  },
  {
   "cell_type": "markdown",
   "id": "103fafff",
   "metadata": {},
   "source": [
    "# Basics of OOP\n",
    "\n",
    "* **Class**: A blueprint of a kind of things\n",
    "* **Object**: An instance of a class\n",
    "    * An object has **states** that can differ between one another.\n",
    "* **Method**: A common segment of code that may be run individually or applied for all instances of a class\n",
    "    * Easier to read and debug\n",
    "    * Ensures reusability\n",
    "\n",
    "## Defining a method\n",
    "* Start with a **method header**\n",
    "    * `[modifier1 ...] <return type> <method name>([parameter1 ...]) {[method body]}`\n",
    "    * The method name, along with any *formal parameters*, are used as the **signature** of a method\n",
    "        * Methods with the same name are possible as long as their signatures are different\n",
    "        * *Return type is not part of the method signature*\n",
    "    * A `main` method must be defined with a header of `public static void main(String[] args)`\n",
    "* **Modifiers**\n",
    "    * `static`\n",
    "        * `static` $\\approx$ Python's `@static` descriptor\n",
    "        * Static methods are used individually in a function-like fashion\n",
    "        * Belongs to the class and runs without the need of an instance\n",
    "        * `main()` is `static` - it is time- and resource- consuming to create an instance for any standalone `main()` methods\n",
    "    * `instance`\n",
    "        * Corresponds to the common class method\n",
    "        * **Requires** an instance to be created and its states"
   ]
  },
  {
   "cell_type": "code",
   "execution_count": 21,
   "id": "e32ca3e6",
   "metadata": {
    "scrolled": true
   },
   "outputs": [
    {
     "name": "stdout",
     "output_type": "stream",
     "text": [
      "7\n"
     ]
    }
   ],
   "source": [
    "// Example\n",
    "public class MyClass {\n",
    "    public static void main(String[] args) {\n",
    "        String[] a = {\"1\",\"2\",\"3\",\"1\"};\n",
    "        int sum = findSum(stringToIntArray(a));\n",
    "        System.out.println(sum);\n",
    "    }\n",
    "    private static int[] stringToIntArray(String[] arr) {\n",
    "        int[] intArr = new int[arr.length];\n",
    "        for (int i = 0; i < arr.length; i++) {\n",
    "            intArr[i] = Integer.parseInt(arr[i]);\n",
    "        }\n",
    "        return intArr;\n",
    "    }\n",
    "    public static int findSum(int[] numbers) {\n",
    "        int sum = 0;\n",
    "        for (int i = 0; i < numbers.length; i++) {\n",
    "            sum += numbers[i];\n",
    "        }\n",
    "        return sum;\n",
    "    }\n",
    "}\n",
    "\n",
    "MyClass.main(new String[0]);"
   ]
  },
  {
   "cell_type": "markdown",
   "id": "d56a8241",
   "metadata": {},
   "source": [
    "# Variables and Their Values\n",
    "* Java is **pass by value**\n",
    "    * When a variable is passed to a method **as a parameter**, any change of its value *inside* the method does *no* change to its original value\n",
    "* Scope of local variables\n",
    "    * The scope of a local variable is confined to its method / block\n",
    "        * Variables with a smaller scope cannot be created if there is already a variable in a larger scope"
   ]
  },
  {
   "cell_type": "code",
   "execution_count": 22,
   "id": "1f189995",
   "metadata": {
    "scrolled": true
   },
   "outputs": [
    {
     "name": "stdout",
     "output_type": "stream",
     "text": [
      "11\n",
      "10\n"
     ]
    }
   ],
   "source": [
    "int x = 10;\n",
    "public static void useX(int x){  // So the Java kernel made the class for me?\n",
    "    x++;\n",
    "    System.out.println(x);\n",
    "}\n",
    "useX(x);\n",
    "System.out.println(x);"
   ]
  },
  {
   "cell_type": "markdown",
   "id": "a383fe2c",
   "metadata": {},
   "source": [
    "# Strings\n",
    "* Part of `java.lang` package\n",
    "    * Automatically imported for all Java programs"
   ]
  },
  {
   "cell_type": "code",
   "execution_count": 15,
   "id": "1fa7b009",
   "metadata": {},
   "outputs": [],
   "source": [
    "String instance = new String(\"new instance\");\n",
    "String literal = \"literal\";"
   ]
  },
  {
   "cell_type": "markdown",
   "id": "84b9ec71",
   "metadata": {},
   "source": [
    "## Literals vs. `new` Statements\n",
    "* Objects are implemented using a `heap` in JVM.\n",
    "    * `new String()` creates an object in the heap\n",
    "* Strings *literals* are instantiated in **String Constant Pool**\n",
    "    * A special place in the heap\n",
    "    * `\"\"` points to a location in the Pool\n",
    "    * String is the only data type that has a dedicated pool because it is more complex than the other data types.\n",
    "* String Pool has **no duplicates**, but the heap **may have duplicates**.\n",
    "    * Two identical `new String()` creates **two objects** in the heap.\n",
    "    * Two identical *string literals* points to the **same location** in the String Pool.\n",
    "    * Due to this characteristic, it is the best to use *literals* instead of the `new` statement in order to save memory.\n",
    "* Objects created by `new` Statements may be removed by **garbage collection** after nothing references it anymore"
   ]
  },
  {
   "cell_type": "markdown",
   "id": "be467c31",
   "metadata": {},
   "source": [
    "## Aliasing\n",
    "* When two variables point to the **same location** in the memory, they are called **aliases** of the same location.\n",
    "* The `==` compares the *locations* of variables, and `.equals()` compares their *values*.\n",
    "    * See [Equality](#Equality) for example"
   ]
  },
  {
   "cell_type": "markdown",
   "id": "4af54ccd",
   "metadata": {},
   "source": [
    "## Strings are *immutable*"
   ]
  },
  {
   "cell_type": "code",
   "execution_count": 16,
   "id": "be1dfb73",
   "metadata": {},
   "outputs": [
    {
     "data": {
      "text/plain": [
       "hello!"
      ]
     },
     "execution_count": 16,
     "metadata": {},
     "output_type": "execute_result"
    }
   ],
   "source": [
    "String immutable = \"hello\";\n",
    "// immutable[0] = \"b\";  // Error: Cannot change content of a String\n",
    "immutable += \"!\";  // No error: New String assigned to variable"
   ]
  },
  {
   "cell_type": "markdown",
   "id": "87aea412",
   "metadata": {},
   "source": [
    "## String Operators (Methods)\n",
    "### Concatenation"
   ]
  },
  {
   "cell_type": "code",
   "execution_count": 17,
   "id": "f3fb9439",
   "metadata": {},
   "outputs": [
    {
     "data": {
      "text/plain": [
       "s1s2"
      ]
     },
     "execution_count": 17,
     "metadata": {},
     "output_type": "execute_result"
    }
   ],
   "source": [
    "String s1 = \"s1\";\n",
    "String s2 = \"s2\";\n",
    "String s12 = s1.concat(s2);\n",
    "s12"
   ]
  },
  {
   "cell_type": "markdown",
   "id": "d9cb0d25",
   "metadata": {},
   "source": [
    "### Equality"
   ]
  },
  {
   "cell_type": "code",
   "execution_count": 18,
   "id": "487f982c",
   "metadata": {},
   "outputs": [
    {
     "name": "stdout",
     "output_type": "stream",
     "text": [
      "false\n",
      "true\n"
     ]
    }
   ],
   "source": [
    "String s1 = \"42\";\n",
    "String s2 = new String(\"42\");\n",
    "System.out.println(s1 == s2);  // false, because they point to different memory locations\n",
    "System.out.println(s1.equals(s2)); // true, because .equals() evaluates content of objects"
   ]
  },
  {
   "cell_type": "markdown",
   "id": "134ee761",
   "metadata": {},
   "source": [
    "### Length"
   ]
  },
  {
   "cell_type": "code",
   "execution_count": 19,
   "id": "c9a28b8b",
   "metadata": {},
   "outputs": [
    {
     "data": {
      "text/plain": [
       "2"
      ]
     },
     "execution_count": 19,
     "metadata": {},
     "output_type": "execute_result"
    }
   ],
   "source": [
    "String s1 = \"42\";\n",
    "s1.length();"
   ]
  },
  {
   "cell_type": "markdown",
   "id": "f4f3b324",
   "metadata": {},
   "source": [
    "# System as an instance\n",
    "* `System` as in `System.out.println()` is an object\n",
    "* It has more than `println()` for its methods\n",
    "\n",
    "| Method | Description |\n",
    "| :- | :- |\n",
    "| `out.print()` | Print without a newline character |\n",
    "| `out.println()` | Print *with* a newline character |\n",
    "| `out.printf()` | Print after formatting given String |\n",
    "\n",
    "## Print Formatting\n",
    "* `System.out.printf([locale], format, arguments)`\n",
    "* Formatter syntax:  \n",
    "        %[flags][width][.precision]conversion-character\n",
    "* Line separator: `%n`\n",
    "* Left-aligning: `-[width]`\n",
    "* [Look at docs for details because it makes no sense to memorize it all](https://www.baeldung.com/java-printstream-printf)"
   ]
  },
  {
   "cell_type": "markdown",
   "id": "83a96de5",
   "metadata": {},
   "source": [
    "# Packages\n",
    "* Java's built-in packages:\n",
    "    * `java.lang` (Automatically imported)\n",
    "    * `java.io`\n",
    "    * `java.math`\n",
    "    * `java.text`\n",
    "    * `java.util`\n",
    "        * Includes `Scanner` and `Random` classes\n",
    "    * `java.awt`\n",
    "* Explicitly importing classes\n",
    "    * The class may then be used **without** the package prefix.\n",
    "* \n",
    "```java\n",
    "import java.util.Random\n",
    "```\n",
    "* Wildcard importing\n",
    "```java\n",
    "import java.util.*\n",
    "```\n",
    "* Declaring a package for a class\n",
    "```java\n",
    "package packageName;\n",
    "// Your class here...\n",
    "```\n",
    "## Scanner\n",
    "* Needs to be imported\n",
    "```java\n",
    "import java.util.Scanner;\n",
    "```\n",
    "* Used to receive and parse input from the command line.\n",
    "* Initialization\n",
    "```java\n",
    "Scanner scanner = new Scanner(System.in); // Input stream is specified\n",
    "```\n",
    "* Reading data\n",
    "\n",
    "| Method | Description |\n",
    "| :----- | :---------- |\n",
    "| `nextLine()` | Read the next line as raw, `String` data |\n",
    "| `nextInt() ` | Read and parse the input as an `int` |\n",
    "| `nextDouble()` | Read and parse the input as a `double` |\n",
    "\n",
    "* `useDelimiter()`\n",
    "    * Usage: `Scanner.useDelimiter(delimiter)`\n",
    "    * `delimiter`: String containing a RegEx\n",
    "        * Example; `\"[,\\\\n]\"` checks for either `,` or `\\n`\n",
    "    * Using `useDelimiter`\n",
    "        * `Scanner.hasNext()` checks for any possible remaining inputs (blocks process)\n",
    "        * `next[Type]()` will now only read and parse the part that is before the next deliminator\n",
    "* **Note:** Any `Scanner` instance **must** be `close()`'ed after it's no longer used\n",
    "    * Java does not automatically close and collect this resource\n",
    "* Erroneous inputs that `Scanner` reads, for example, may cause Runtime errors"
   ]
  },
  {
   "cell_type": "code",
   "execution_count": 20,
   "id": "fabbc52e",
   "metadata": {},
   "outputs": [
    {
     "name": "stdout",
     "output_type": "stream",
     "text": [
      "Enter a word:\n",
      "=)\n",
      "You entered ... =)\n"
     ]
    },
    {
     "data": {
      "text/plain": [
       "java.io.PrintStream@15828b67"
      ]
     },
     "execution_count": 20,
     "metadata": {},
     "output_type": "execute_result"
    }
   ],
   "source": [
    "// Example\n",
    "import java.util.Scanner;\n",
    "\n",
    "Scanner scanner = new Scanner(System.in);\n",
    "String reply;\n",
    "System.out.println(\"Enter a word:\");\n",
    "reply = scanner.nextLine();\n",
    "System.out.printf(\"You entered ... %s%n\", reply);"
   ]
  },
  {
   "cell_type": "markdown",
   "id": "070f41d8",
   "metadata": {},
   "source": [
    "## Random\n",
    "* [Documentation](https://docs.oracle.com/en/java/javase/11/docs/api/java.base/java/util/Random.html)\n",
    "* Is pseudorandom\n",
    "* Needs an instance to use methods\n",
    "* Methods: `next<Type>(bound)`"
   ]
  },
  {
   "cell_type": "code",
   "execution_count": 37,
   "id": "c6413578",
   "metadata": {},
   "outputs": [
    {
     "name": "stdout",
     "output_type": "stream",
     "text": [
      "-520706606\n",
      "0.055794775\n",
      "0\n",
      "false\n",
      "0.6336323798058241\n",
      "-362105934547151984\n"
     ]
    }
   ],
   "source": [
    "import java.util.Random;\n",
    "Random random = new Random();\n",
    "System.out.println(random.nextInt());     // Positive or negative\n",
    "System.out.println(random.nextFloat());   // 0 < x < 1\n",
    "System.out.println(random.nextInt(3));    // Positive only\n",
    "System.out.println(random.nextBoolean()); // True or false\n",
    "System.out.println(random.nextDouble());  // Same with nextFloat\n",
    "System.out.println(random.nextLong());    // Same with nextInt but Long"
   ]
  },
  {
   "cell_type": "markdown",
   "id": "5856b3ef",
   "metadata": {},
   "source": [
    "## Math\n",
    "* Automatically imported\n",
    "* Methods\n",
    "| Method | Description |\n",
    "|:-|:-|\n",
    "| `Math.abs(x)` | Absolute varlue of `x` |\n",
    "| `Math.ceil(x)` | Rounds `x` up |\n",
    "| `Math.floor(x)` | Rounds `x` down |\n",
    "| `Math.rint(x)` | Returns a `double` in which the fractional part is `.0` **Note:** This method rounds `0.5` **down** |\n",
    "| `Math.round(x)` | Returns an `int`, rounded in the normal way |\n",
    "| `Math.max([args])`<br/>`Math.min([args])` | Max and min |\n",
    "| `Math.sqrt(x)` | Square root |\n",
    "| `Math.toDegrees(x)`<br/>`Math.toRadians(x)` | Degree-radian conversions |\n",
    "| `Math.cos(x)` etc.<br/>`Math.acos(x)` etc. | Trignometric functions |\n",
    "| `Math.E` | Natural exponent |\n",
    "| `Math.exp(x)` | $e^x$ where `x` is double |\n",
    "| `Math.pow(x, y)` | $x^y$ |\n",
    "| `Math.log(x)` | Natural log (base `e`) of `x` |"
   ]
  },
  {
   "cell_type": "markdown",
   "id": "b2ed77a2",
   "metadata": {},
   "source": [
    "# Enumerations\n",
    "* User-defined class type where all possible values are listed out\n",
    "    * A selection list disguised as a class\n",
    "* Any item in an `enum` has two methods\n",
    "    * `name()` - Name of value\n",
    "    * `ordinal()` - Index of value\n",
    "* `enum` may also have custom attributes, but they need to be initialized and also given by a getter."
   ]
  },
  {
   "cell_type": "code",
   "execution_count": 11,
   "id": "d1b040e2",
   "metadata": {},
   "outputs": [
    {
     "name": "stdout",
     "output_type": "stream",
     "text": [
      "1\n",
      "ME\n",
      "Myself.\n"
     ]
    }
   ],
   "source": [
    "public enum MyEnum {\n",
    "    I (\"Yes, me.\"),\n",
    "    ME (\"I and me and...\"),\n",
    "    MYSELF (\"Myself.\");\n",
    "    \n",
    "    private String info;\n",
    "    \n",
    "    private MyEnum (String info) {\n",
    "        this.info = info;\n",
    "    }\n",
    "    public String getInfo() {\n",
    "        return info;\n",
    "    }\n",
    "}\n",
    "\n",
    "System.out.println(MyEnum.I.ordinal()+1);\n",
    "System.out.println(MyEnum.ME.name());\n",
    "System.out.println(MyEnum.MYSELF.getInfo());"
   ]
  },
  {
   "cell_type": "markdown",
   "id": "4efbb7e0",
   "metadata": {},
   "source": [
    "# Arrays\n",
    "* An *object* that stores a **fixed number** of homogenous values\n",
    "    * **Homogenous:** Values of the same type\n",
    "    * Each value is called an element of the array\n",
    "    * Uses a single identifier for all values\n",
    "* Syntax\n",
    "```java\n",
    "// Initialization\n",
    "datatype[] varName = new datatype[size];\n",
    "// Access length\n",
    "varName.length;\n",
    "```"
   ]
  },
  {
   "cell_type": "code",
   "execution_count": 5,
   "id": "b894984b",
   "metadata": {},
   "outputs": [
    {
     "data": {
      "text/plain": [
       "[I@4802e9a4"
      ]
     },
     "execution_count": 5,
     "metadata": {},
     "output_type": "execute_result"
    }
   ],
   "source": [
    "// Initialization example with initial values\n",
    "int[] intArray1 = new int[4];\n",
    "intArray1[0] = 1;\n",
    "intArray1[1] = 2;\n",
    "intArray1[2] = 3;\n",
    "intArray1[3] = 4;  // or\n",
    "\n",
    "int[] intArray2 = new int[] {1,2,3,4};  // or\n",
    "\n",
    "int[] intArray3 = {1,2,3,4};  // or, anonymously\n",
    "\n",
    "new int[] {1,2,3,4};"
   ]
  },
  {
   "cell_type": "markdown",
   "id": "a5f0796c",
   "metadata": {},
   "source": [
    "* Arrays are of **fixed size** - accessing undefined indices will cause *ArrayIndexOutOfBoundsException*\n",
    "    * The memory (address) is allocated so that exactly the required space will be assigned\n",
    "    * Address of an element: `base address + index * size of type`\n",
    "* Each identifier of an array is a *reference* to where the array is stored\n",
    "* As a result, all arrays are actually **passed by reference**\n",
    "    * Changing the content of an argument that is an array *will* change the actual stored array\n",
    "* Arrays may be traversed by a for-each loop\n",
    "```java\n",
    "for (dataType element: a) {\n",
    "    // Do something\n",
    "}\n",
    "```"
   ]
  },
  {
   "cell_type": "markdown",
   "id": "b847690d",
   "metadata": {},
   "source": [
    "# Playground"
   ]
  },
  {
   "cell_type": "code",
   "execution_count": 23,
   "id": "e59dd25f",
   "metadata": {},
   "outputs": [
    {
     "name": "stdout",
     "output_type": "stream",
     "text": [
      "225\n",
      "2.25\n"
     ]
    }
   ],
   "source": [
    "double dollars = 2.25232;\n",
    "Integer dollarsInt = (int)(dollars * 100);\n",
    "System.out.println(dollarsInt);\n",
    "double dollarsTruncate = dollarsInt / 100.0;\n",
    "System.out.println(dollarsTruncate);"
   ]
  },
  {
   "cell_type": "code",
   "execution_count": 24,
   "id": "2b75872b",
   "metadata": {},
   "outputs": [
    {
     "name": "stdout",
     "output_type": "stream",
     "text": [
      "Hello printf!       <--\n",
      "-->       Hello printf!\n"
     ]
    },
    {
     "data": {
      "text/plain": [
       "java.io.PrintStream@15828b67"
      ]
     },
     "execution_count": 24,
     "metadata": {},
     "output_type": "execute_result"
    }
   ],
   "source": [
    "System.out.printf(\"%-20s%s%n\", \"Hello printf!\", \"<--\");  // Additional space paddings are added\n",
    "System.out.printf(\"%s%20s%n\", \"-->\", \"Hello printf!\");  // Space on the left of string"
   ]
  }
 ],
 "metadata": {
  "kernelspec": {
   "display_name": "Java",
   "language": "java",
   "name": "java"
  },
  "language_info": {
   "codemirror_mode": "java",
   "file_extension": ".jshell",
   "mimetype": "text/x-java-source",
   "name": "Java",
   "pygments_lexer": "java",
   "version": "11.0.17+8"
  }
 },
 "nbformat": 4,
 "nbformat_minor": 5
}
