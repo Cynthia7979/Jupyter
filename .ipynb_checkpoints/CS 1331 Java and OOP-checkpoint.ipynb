{
 "cells": [
  {
   "cell_type": "markdown",
   "id": "731d35fb",
   "metadata": {},
   "source": [
    "# Java Syntax Basics\n",
    "* Every `.java` file includes a single class\n",
    "* The name of the class should be the same as the file name\n",
    "* The `main()` method of the class will be called when running `java <filename>`\n",
    "* File needs to be compiled using `javac <filename>` first\n",
    "* Semicolons\n",
    "\n",
    "Example Hello World file:"
   ]
  },
  {
   "cell_type": "code",
   "execution_count": 5,
   "id": "b93f920f",
   "metadata": {},
   "outputs": [
    {
     "name": "stdout",
     "output_type": "stream",
     "text": [
      "Hello World!\n"
     ]
    }
   ],
   "source": [
    "// Test.java\n",
    "public class Test {\n",
    "    public static void main(String[] args) {\n",
    "        System.out.println(\"Hello World!\");\n",
    "    }\n",
    "}\n",
    "System.out.println(\"Hello World!\");"
   ]
  },
  {
   "cell_type": "markdown",
   "id": "704533b5",
   "metadata": {},
   "source": [
    "# Difference between Java and other Compiling Languages\n",
    "\n",
    "* Java uses **JVM (Java Virtual Machine)** and, instead of running machine code, runs **Java Byte Code**\n",
    "    * **Java Byte Codes** are hexadecimal codes that refer to commands that are interpreted by JVM\n",
    "    * They start with `CAFEBABE`\n",
    "\n",
    "# Basics of OOP\n",
    "\n",
    "* **Class**: A blueprint of a kind of things\n",
    "* **Object**: An instance of a class\n",
    "    * An object has **states** that can differ between one another.\n",
    "\n",
    "# Variable Declaration in Java\n",
    "\n",
    "* Syntax: `type` `identifier`\n",
    "* *Must* start with a letter. Can include letters, numbers, underscores\n",
    "* Case sensitive\n",
    "* May only declare once (e.g. JavaScript logic)\n",
    "* Constants\n",
    "    * `UPPER_SNAKE`\n",
    "    * Use `final` keyword before `type`\n",
    "* A lint (?) option may be enabled for the compiler so that unused variables trigger a warning\n"
   ]
  },
  {
   "cell_type": "code",
   "execution_count": 17,
   "id": "532f95f5",
   "metadata": {},
   "outputs": [
    {
     "name": "stdout",
     "output_type": "stream",
     "text": [
      "Answer\n",
      "42\n"
     ]
    }
   ],
   "source": [
    "Integer number = 42;\n",
    "final String WORD = \"Answer\";\n",
    "System.out.println(WORD);\n",
    "System.out.println(number);"
   ]
  },
  {
   "cell_type": "code",
   "execution_count": 27,
   "id": "b7f9ecb5",
   "metadata": {},
   "outputs": [
    {
     "name": "stdout",
     "output_type": "stream",
     "text": [
      "43\n"
     ]
    }
   ],
   "source": [
    "final Integer IMMUTABLE = 42;\n",
    "IMMUTABLE += 1;\n",
    "System.out.println(IMMUTABLE);  // ?"
   ]
  },
  {
   "cell_type": "markdown",
   "id": "8199225b",
   "metadata": {},
   "source": [
    "# Classes and Primitive Types\n",
    "* Classes may have methods. E.g. \"Hello\".equals(\"hello\")\n",
    "* Primitive types do *not* have methods and requires operators (?) to do comparison\n",
    "\n",
    "## Primitive Types\n",
    "\n",
    "* `char`: Single character\n",
    "    * Literal: Single quotes wrapping a character\n",
    "* `bool`: Boolean values\n",
    "    * Literal: `true` `false`"
   ]
  },
  {
   "cell_type": "code",
   "execution_count": 3,
   "id": "884818bb",
   "metadata": {
    "scrolled": true
   },
   "outputs": [
    {
     "name": "stdout",
     "output_type": "stream",
     "text": [
      "☕\n"
     ]
    }
   ],
   "source": [
    "System.out.println('\\u2615');"
   ]
  },
  {
   "cell_type": "markdown",
   "id": "3d0b9de6",
   "metadata": {},
   "source": [
    "### Numerical Values\n",
    "* `Integer` is a *wrapper class* for the following types:\n",
    "    * `Byte` 8 bit signed\n",
    "    * `Short` 16 bit signed\n",
    "    * `Int` 32 bit signed\n",
    "    * `Long` 64 bit signed\n",
    "        * Literal: `L` after number\n",
    "* `float` 32 bit IEEE 754\n",
    "    * 6-9 significant digits\n",
    "    * Essentially, half of `long` is used to store the floating point\n",
    "* `double` 64 bit IEEE 754\n",
    "    * 15-17 significant digits"
   ]
  },
  {
   "cell_type": "code",
   "execution_count": 32,
   "id": "c970dbfa",
   "metadata": {},
   "outputs": [
    {
     "name": "stdout",
     "output_type": "stream",
     "text": [
      "-2147483648\n"
     ]
    }
   ],
   "source": [
    "// Potential pitfall: Integer overflow\n",
    "int i = 2147483647+1;\n",
    "System.out.println(i);"
   ]
  },
  {
   "cell_type": "markdown",
   "id": "ef14a7cd",
   "metadata": {},
   "source": [
    "## Wrapper Classes for Types\n",
    "* `Integer`: Wrapper class for all numeric types\n",
    "* `String`: Wrapper class for a sequence of characters. Double quotes around a sequence of characters."
   ]
  },
  {
   "cell_type": "code",
   "execution_count": 1,
   "id": "4d862dd4",
   "metadata": {},
   "outputs": [
    {
     "data": {
      "text/plain": [
       "true"
      ]
     },
     "execution_count": 1,
     "metadata": {},
     "output_type": "execute_result"
    }
   ],
   "source": [
    "String s = \"hello\";\n",
    "s == \"hello\";  // => true\n",
    "s.equals(\"hello\");  // => true\n"
   ]
  },
  {
   "cell_type": "code",
   "execution_count": 31,
   "id": "2a1ae10f",
   "metadata": {},
   "outputs": [
    {
     "name": "stdout",
     "output_type": "stream",
     "text": [
      "true\n",
      "true\n",
      "true\n"
     ]
    },
    {
     "ename": "CompilationException",
     "evalue": "",
     "output_type": "error",
     "traceback": [
      "\u001b[1m\u001b[30m|   \u001b[1m\u001b[30mSystem.out.println(\u001b[0m\u001b[1m\u001b[30m\u001b[41mi.equals\u001b[0m\u001b[1m\u001b[30m(1));\u001b[0m",
      "\u001b[1m\u001b[31m无法取消引用int\u001b[0m",
      ""
     ]
    }
   ],
   "source": [
    "int i = 1;\n",
    "Integer I = 1;\n",
    "System.out.println(I == 1);\n",
    "System.out.println(I.equals(1));\n",
    "System.out.println(i == 1);\n",
    "System.out.println(i.equals(1));"
   ]
  },
  {
   "cell_type": "markdown",
   "id": "0a622a6e",
   "metadata": {},
   "source": [
    "# Order of Operator Precedence\n",
    "\n",
    "![table](https://i.stack.imgur.com/O6UXN.png)"
   ]
  },
  {
   "cell_type": "code",
   "execution_count": 4,
   "id": "f3ea82b2",
   "metadata": {},
   "outputs": [
    {
     "name": "stdout",
     "output_type": "stream",
     "text": [
      "1\n",
      "1\n",
      "2\n",
      "3\n",
      "3\n"
     ]
    }
   ],
   "source": [
    "// On the topic of increments / decrements\n",
    "\n",
    "Integer n = 1;\n",
    "System.out.println(n);\n",
    "System.out.println(n++);\n",
    "System.out.println(n);\n",
    "System.out.println(++n);\n",
    "System.out.println(n);"
   ]
  },
  {
   "cell_type": "markdown",
   "id": "00b6f835",
   "metadata": {},
   "source": [
    "# Type Conversions\n",
    "* Java is strongly typed\n",
    "* There are many incompatible types\n",
    "    * Incompatible: Types which conversion would lose information\n",
    "* **Narrowing conversion** means to go from a \"larger\" data type to a \"smaller\" one. This would lose information and isn't allowed.\n",
    "* **Widening conversion** is to go from \"smaller\" data type to a \"larger\" one. This is allowed as no information is lost."
   ]
  },
  {
   "cell_type": "code",
   "execution_count": 15,
   "id": "0c5e98be",
   "metadata": {
    "scrolled": true
   },
   "outputs": [
    {
     "name": "stdout",
     "output_type": "stream",
     "text": [
      "127.0\n"
     ]
    },
    {
     "ename": "CompilationException",
     "evalue": "",
     "output_type": "error",
     "traceback": [
      "\u001b[1m\u001b[30m|   \u001b[1m\u001b[30mbyte narrowing = \u001b[0m\u001b[1m\u001b[30m\u001b[41mtempInt\u001b[0m\u001b[1m\u001b[30m;\u001b[0m",
      "\u001b[1m\u001b[31m不兼容的类型: 从int转换到byte可能会有损失\u001b[0m",
      ""
     ]
    }
   ],
   "source": [
    "byte tempByte = Byte.MAX_VALUE;\n",
    "double widening = tempByte;\n",
    "System.out.println(widening);\n",
    "int tempInt = Byte.MAX_VALUE+1;\n",
    "byte narrowing = tempInt;\n",
    "System.out.println(narrowing);"
   ]
  },
  {
   "cell_type": "markdown",
   "id": "896f34b8",
   "metadata": {},
   "source": [
    "* Conversion may be done in either of two ways\n",
    "    * **Assignment conversion**: Convert by assigning to a variable of a different type.\n",
    "    * **Arithmetic conversion**: *Promote* values to a wider type. Done to not lose any information. E.g., "
   ]
  },
  {
   "cell_type": "code",
   "execution_count": 23,
   "id": "d317bd1e",
   "metadata": {},
   "outputs": [
    {
     "name": "stdout",
     "output_type": "stream",
     "text": [
      "2.0\n"
     ]
    }
   ],
   "source": [
    "System.out.println(2/1.0);  // `2` is *promoted* to a floating point number."
   ]
  }
 ],
 "metadata": {
  "kernelspec": {
   "display_name": "Java",
   "language": "java",
   "name": "java"
  },
  "language_info": {
   "codemirror_mode": "java",
   "file_extension": ".jshell",
   "mimetype": "text/x-java-source",
   "name": "Java",
   "pygments_lexer": "java",
   "version": "11.0.17+8"
  }
 },
 "nbformat": 4,
 "nbformat_minor": 5
}
