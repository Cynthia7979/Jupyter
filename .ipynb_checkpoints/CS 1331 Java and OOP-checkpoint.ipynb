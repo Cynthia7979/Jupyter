{
 "cells": [
  {
   "cell_type": "markdown",
   "id": "731d35fb",
   "metadata": {},
   "source": [
    "# Java Syntax Basics\n",
    "* Every `.java` file includes a single class\n",
    "* The name of the class should be the same as the file name\n",
    "* The `main()` method of the class will be called when running `java <filename>`\n",
    "* File needs to be compiled using `javac <filename>` first\n",
    "* Semicolons\n",
    "\n",
    "Example Hello World file:"
   ]
  },
  {
   "cell_type": "code",
   "execution_count": 5,
   "id": "b93f920f",
   "metadata": {},
   "outputs": [
    {
     "name": "stdout",
     "output_type": "stream",
     "text": [
      "Hello World!\n"
     ]
    }
   ],
   "source": [
    "// Test.java\n",
    "public class Test {\n",
    "    public static void main(String[] args) {\n",
    "        System.out.println(\"Hello World!\");\n",
    "    }\n",
    "}\n",
    "System.out.println(\"Hello World!\");"
   ]
  },
  {
   "cell_type": "markdown",
   "id": "704533b5",
   "metadata": {},
   "source": [
    "# Difference between Java and other Compiling Languages\n",
    "\n",
    "* Java uses **JVM (Java Virtual Machine)** and, instead of running machine code, runs **Java Byte Code**\n",
    "    * **Java Byte Codes** are hexadecimal codes that refer to commands that are interpreted by JVM\n",
    "    * They start with `CAFEBABE`\n",
    "\n",
    "# Basics of OOP\n",
    "\n",
    "* **Class**: A blueprint of a kind of things\n",
    "* **Object**: An instance of a class\n",
    "    * An object has **states** that can differ between one another.\n",
    "\n",
    "# Variable Declaration in Java\n",
    "\n",
    "* Syntax: `type` `identifier`\n",
    "* *Must* start with a letter. Can include letters, numbers, underscores\n",
    "* Case sensitive\n",
    "* May only declare once (e.g. JavaScript logic)\n",
    "* Constants\n",
    "    * `UPPER_SNAKE`\n",
    "    * Use `final` keyword before `type`\n"
   ]
  },
  {
   "cell_type": "code",
   "execution_count": 17,
   "id": "532f95f5",
   "metadata": {},
   "outputs": [
    {
     "name": "stdout",
     "output_type": "stream",
     "text": [
      "Answer\n",
      "42\n"
     ]
    }
   ],
   "source": [
    "Integer number = 42;\n",
    "final String WORD = \"Answer\";\n",
    "System.out.println(WORD);\n",
    "System.out.println(number);"
   ]
  },
  {
   "cell_type": "code",
   "execution_count": 18,
   "id": "b7f9ecb5",
   "metadata": {},
   "outputs": [
    {
     "name": "stdout",
     "output_type": "stream",
     "text": [
      "See?\n"
     ]
    }
   ],
   "source": [
    "final String IMMUTABLE = \"This variable is immutable\";\n",
    "IMMUTABLE = \"See?\";\n",
    "System.out.println(IMMUTABLE);  // ?"
   ]
  },
  {
   "cell_type": "markdown",
   "id": "3d0b9de6",
   "metadata": {},
   "source": [
    "# Numeric Values\n",
    "* `Integer` is a *wrapper class* for the following types:\n",
    "    * `Byte` 8 bit signed\n",
    "    * `Short` 16 bit signed\n",
    "    * `Int` 32 bit signed\n",
    "    * `Long` 64 bit signed\n",
    "* `float` 32 bit IEEE 754\n",
    "    * 6-9 significant digits\n",
    "    * Essentially, half of `long` is used to store the floating point\n",
    "* `double` 64 bit IEEE 754\n",
    "    * 15-17 significant digits"
   ]
  },
  {
   "cell_type": "code",
   "execution_count": 15,
   "id": "0c5e98be",
   "metadata": {},
   "outputs": [
    {
     "name": "stdout",
     "output_type": "stream",
     "text": [
      "127\n"
     ]
    },
    {
     "ename": "CompilationException",
     "evalue": "",
     "output_type": "error",
     "traceback": [
      "\u001b[1m\u001b[30m|   \u001b[1m\u001b[30mbyte bad = \u001b[0m\u001b[1m\u001b[30m\u001b[41mByte.MAX_VALUE+1\u001b[0m\u001b[1m\u001b[30m;\u001b[0m",
      "\u001b[1m\u001b[31m不兼容的类型: 从int转换到byte可能会有损失\u001b[0m",
      ""
     ]
    }
   ],
   "source": [
    "byte good = Byte.MAX_VALUE;\n",
    "System.out.println(good);\n",
    "byte bad = Byte.MAX_VALUE+1;\n",
    "System.out.println(bad);"
   ]
  },
  {
   "cell_type": "markdown",
   "id": "76f3f26d",
   "metadata": {},
   "source": [
    "# Characters and Strings\n",
    "* `char`: Generic type for a character\n",
    "* `String`: Wrapper class for a sequence of characters\n",
    "\n",
    "# Literals\n",
    "* **Long**: Add case-insensitive `L` at end of number\n",
    "    * Variable type must be `long` (or `Integer`)\n",
    "    * `L` is not necessary\n",
    "* **Single character**: Single quote wrapping one character\n",
    "* **String**: *Double* quote wrapping a sequence of characters`\n",
    "* **Booleans**: `true` and `false`"
   ]
  },
  {
   "cell_type": "code",
   "execution_count": 28,
   "id": "4d862dd4",
   "metadata": {},
   "outputs": [
    {
     "name": "stdout",
     "output_type": "stream",
     "text": [
      "☕\n"
     ]
    },
    {
     "data": {
      "text/plain": [
       "true"
      ]
     },
     "execution_count": 28,
     "metadata": {},
     "output_type": "execute_result"
    }
   ],
   "source": [
    "System.out.println('\\u2615');\n",
    "\n",
    "String s = \"hello\";\n",
    "s == \"hello\";  // => true\n",
    "s.equals(\"hello\");  // => true\n"
   ]
  },
  {
   "cell_type": "markdown",
   "id": "ef14a7cd",
   "metadata": {},
   "source": [
    "## A note on classes and generic types\n",
    "* Classes may have methods. E.g. \"Hello\".equals(\"hello\")\n",
    "* Generic types do *not* have methods and requires operators (?) to do comparison"
   ]
  },
  {
   "cell_type": "code",
   "execution_count": 31,
   "id": "2a1ae10f",
   "metadata": {},
   "outputs": [
    {
     "name": "stdout",
     "output_type": "stream",
     "text": [
      "true\n",
      "true\n",
      "true\n"
     ]
    },
    {
     "ename": "CompilationException",
     "evalue": "",
     "output_type": "error",
     "traceback": [
      "\u001b[1m\u001b[30m|   \u001b[1m\u001b[30mSystem.out.println(\u001b[0m\u001b[1m\u001b[30m\u001b[41mi.equals\u001b[0m\u001b[1m\u001b[30m(1));\u001b[0m",
      "\u001b[1m\u001b[31m无法取消引用int\u001b[0m",
      ""
     ]
    }
   ],
   "source": [
    "int i = 1;\n",
    "Integer I = 1;\n",
    "System.out.println(I == 1);\n",
    "System.out.println(I.equals(1));\n",
    "System.out.println(i == 1);\n",
    "System.out.println(i.equals(1));"
   ]
  }
 ],
 "metadata": {
  "kernelspec": {
   "display_name": "Java",
   "language": "java",
   "name": "java"
  },
  "language_info": {
   "codemirror_mode": "java",
   "file_extension": ".jshell",
   "mimetype": "text/x-java-source",
   "name": "Java",
   "pygments_lexer": "java",
   "version": "11.0.17+8"
  }
 },
 "nbformat": 4,
 "nbformat_minor": 5
}
