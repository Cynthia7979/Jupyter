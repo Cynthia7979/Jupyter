{
 "cells": [
  {
   "cell_type": "markdown",
   "id": "731d35fb",
   "metadata": {},
   "source": [
    "# Java Syntax Basics\n",
    "* Every `.java` file includes a single class\n",
    "* The name of the class should be the same as the file name\n",
    "* The `main()` method of the class will be called when running `java <filename>`\n",
    "* File needs to be compiled using `javac <filename>` first\n",
    "* Semicolons\n",
    "\n",
    "Example Hello World file:"
   ]
  },
  {
   "cell_type": "code",
   "execution_count": 5,
   "id": "b93f920f",
   "metadata": {},
   "outputs": [
    {
     "name": "stdout",
     "output_type": "stream",
     "text": [
      "Hello World!\n"
     ]
    }
   ],
   "source": [
    "// Test.java\n",
    "public class Test {\n",
    "    public static void main(String[] args) {\n",
    "        System.out.println(\"Hello World!\");\n",
    "    }\n",
    "}\n",
    "System.out.println(\"Hello World!\");"
   ]
  },
  {
   "cell_type": "markdown",
   "id": "704533b5",
   "metadata": {},
   "source": [
    "# Difference between Java and other Compiling Languages\n",
    "\n",
    "* Java uses **JVM (Java Virtual Machine)** and, instead of running machine code, runs **Java Byte Code**\n",
    "    * **Java Byte Codes** are hexadecimal codes that refer to commands that are interpreted by JVM\n",
    "    * They start with `CAFEBABE`\n",
    "    \n"
   ]
  }
 ],
 "metadata": {
  "kernelspec": {
   "display_name": "Java",
   "language": "java",
   "name": "java"
  },
  "language_info": {
   "codemirror_mode": "java",
   "file_extension": ".jshell",
   "mimetype": "text/x-java-source",
   "name": "Java",
   "pygments_lexer": "java",
   "version": "11.0.17+8"
  }
 },
 "nbformat": 4,
 "nbformat_minor": 5
}
