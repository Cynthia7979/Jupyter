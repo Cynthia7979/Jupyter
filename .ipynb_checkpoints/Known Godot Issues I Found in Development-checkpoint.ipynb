{
 "cells": [
  {
   "cell_type": "markdown",
   "metadata": {},
   "source": [
    "# Known Godot Issues I Found in Development\n",
    "\n",
    "## Updating a `Path2D` Will Not Update Its Children `PathFollow2D`\n",
    "\n",
    "**Reference:** [Changing the position of a Path2D does not properly update the position of PathFollow2D nodes](https://github.com/godotengine/godot/issues/20386), [Path2D does not allow for variation in offset of code-instantiated PathFollow2D instance](https://github.com/godotengine/godot/issues/35213)\n",
    "\n",
    "After transforming a `Path2D`, what's expected to happen is that its children `PathFollow2D` nodes are transformed with it and may move along the transformed curve immediately.\n",
    "\n",
    "However, this will not happen since, for some reason, `PathFollow2D` still uses the pre-transformation path for reference.\n",
    "\n",
    "In a [recent project](https://github.com/Cynthia7979/godot-projects/commit/88804a3604e5e333844c129a743a8856ddb3278e) I have tried several workarounds:\n",
    "\n",
    "* Manually calling `force_update_transformation()` on both `Path2D` and `PathFollow2D`\n",
    "* Duplicating a node from `PathFollow2D`, assign it as a child of `Path2D`, and then change its offset to the desired value\n",
    "* Creating both `Path2D` and `PathFollow2D` nodes anew, with the `Curve2D` already transformed to the desired state\n",
    "\n",
    "However, none of them worked. Fortunately the curve I was using for the path was very simple and I was able to re-implement it in my own code. It's noteworthy that [one of the issues](https://github.com/godotengine/godot/issues/20386) referred to an open [pull request](https://github.com/godotengine/godot/pull/43399) waiting for conflict solution. It seems to have solved the bug, but haven't been updated for a long time (since 2021)."
   ]
  }
 ],
 "metadata": {
  "kernelspec": {
   "display_name": "Python 3",
   "language": "python",
   "name": "python3"
  },
  "language_info": {
   "codemirror_mode": {
    "name": "ipython",
    "version": 3
   },
   "file_extension": ".py",
   "mimetype": "text/x-python",
   "name": "python",
   "nbconvert_exporter": "python",
   "pygments_lexer": "ipython3",
   "version": "3.7.3"
  }
 },
 "nbformat": 4,
 "nbformat_minor": 2
}
