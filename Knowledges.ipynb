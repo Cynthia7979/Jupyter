{
 "cells": [
  {
   "cell_type": "markdown",
   "metadata": {},
   "source": [
    "# Converting to Binary\n",
    "将字符转换为二进制"
   ]
  },
  {
   "cell_type": "code",
   "execution_count": 1,
   "metadata": {},
   "outputs": [
    {
     "name": "stdout",
     "output_type": "stream",
     "text": [
      "1100001\n",
      "1001000110010111011001101100110111110000010101111101111111001011011001100100100001\n",
      "1001000 1100101 1101100 1101100 1101111 100000 1010111 1101111 1110010 1101100 1100100 100001\n",
      "101\n"
     ]
    }
   ],
   "source": [
    "s = 'a'\n",
    "ss = 'Hello World!'\n",
    "num = 5\n",
    "print(bin(ord(s))[2:])\n",
    "print(''.join([bin(ord(x))[2:] for x in ss]))\n",
    "print(' '.join([bin(ord(x))[2:] for x in ss]))\n",
    "print(bin(num)[2:])"
   ]
  },
  {
   "cell_type": "markdown",
   "metadata": {},
   "source": [
    "# Ground Dividing\n",
    "向下取整除法\n",
    "\n",
    "**注意！**`//`用来向下取整，`%`才是用来取余数的！（被坑死了）"
   ]
  },
  {
   "cell_type": "code",
   "execution_count": 2,
   "metadata": {},
   "outputs": [
    {
     "name": "stdout",
     "output_type": "stream",
     "text": [
      "0.5\n",
      "0\n"
     ]
    }
   ],
   "source": [
    "print(1/2)\n",
    "print(1//2)"
   ]
  },
  {
   "cell_type": "markdown",
   "metadata": {},
   "source": [
    "# 时间复杂度&空间复杂度\n",
    "Time Complexity & Space Complexity\n",
    "\n",
    "[参考](https://www.jianshu.com/p/589a49ad2360)\n",
    "\n",
    "[参考](https://segmentfault.com/a/1190000003074973)\n",
    "\n",
    "[参考](https://zhuanlan.zhihu.com/p/50479555)\n",
    "\n",
    "## 时间复杂度\n",
    "\n",
    "时间复杂度用大O符号`O()`表示。其中，n叫做“问题规模”，表示一个算法中要执行的语句的数量。\n",
    "\n",
    "\n",
    "\n",
    "大O符号是一个“渐进函数”。它只表示在给定情况下，算法所需时间改变的规律，而不计算准确时间。\n",
    "\n",
    "### 常用的时间复杂度：\n",
    "- $O(1)$\n",
    "    - 常数阶\n",
    "    - 不管数据有多少，都只执行一个动作。\n",
    "    - 最快的一类算法\n",
    "    - 问题规模为n，时间复杂度为a（a为常数，a>0）\n",
    "    - 例子："
   ]
  },
  {
   "cell_type": "code",
   "execution_count": 3,
   "metadata": {},
   "outputs": [
    {
     "name": "stdout",
     "output_type": "stream",
     "text": [
      "[1,2,3]\n",
      "1\n",
      "0\n",
      "1\n",
      "2\n",
      "3\n",
      "4\n",
      "5\n",
      "6\n",
      "7\n",
      "8\n",
      "9\n",
      "10\n",
      "11\n"
     ]
    }
   ],
   "source": [
    "data = list(input())\n",
    "print(1)\n",
    "for i in range(12):\n",
    "    print(i)\n",
    "# a = 13"
   ]
  },
  {
   "cell_type": "markdown",
   "metadata": {},
   "source": [
    "- $O(n)$\n",
    "    - 线性阶\n",
    "    - 时间以线性函数改变\n",
    "    - 第二快的算法\n",
    "    - 问题规模为n，时间复杂度为an+b（a,b为常数，a>0，b>0）\n",
    "    - 例子："
   ]
  },
  {
   "cell_type": "code",
   "execution_count": 4,
   "metadata": {
    "scrolled": true
   },
   "outputs": [
    {
     "name": "stdout",
     "output_type": "stream",
     "text": [
      "123\n",
      "1\n",
      "1\n",
      "2\n",
      "2\n",
      "3\n",
      "3\n"
     ]
    }
   ],
   "source": [
    "data = list(input())\n",
    "for i in data:\n",
    "    print(i)\n",
    "    print(i)\n",
    "# a = 2n"
   ]
  },
  {
   "cell_type": "markdown",
   "metadata": {},
   "source": [
    "- $O(log(n))$\n",
    "    - 对数阶"
   ]
  },
  {
   "cell_type": "markdown",
   "metadata": {},
   "source": [
    "- $O(nlog(n))$\n",
    "    - 线性对数阶"
   ]
  },
  {
   "cell_type": "markdown",
   "metadata": {},
   "source": [
    "- $O(n^2)$\n",
    "    - 平方阶\n",
    "    - 冒泡排序，直接插入排序\n",
    "    - 较慢"
   ]
  },
  {
   "cell_type": "markdown",
   "metadata": {},
   "source": [
    "- $O(n^k)$\n",
    "    - $k$次方阶\n",
    "    - 很慢了"
   ]
  },
  {
   "cell_type": "markdown",
   "metadata": {},
   "source": [
    "- $O(2^n)$\n",
    "    - 指数阶\n",
    "    - 慢到上天"
   ]
  },
  {
   "cell_type": "markdown",
   "metadata": {},
   "source": [
    "### 最坏时间复杂度\n",
    "（复制粘贴）\n",
    "最坏时间复杂度指：运行时间最长的算法的时间复杂度，也就是算法的上界，一般没有特指我们讨论的时间复杂度就是指最坏时间复杂度，不管这个问题有多少种思路解决，它的算法运行时间不会超过这个时间上限。\n",
    "\n",
    "即，一个问题最慢的解法所需的时间复杂度\n",
    "\n",
    "### 最好时间复杂度\n",
    "一个问题最快，最好的解法所需的时间复杂度\n",
    "\n",
    "## 空间复杂度\n",
    "空间复杂度是一个算法运行所需空间的大小。需要使用空间的部分包括但不限于变量、输入数据、缓存等。\n",
    "\n",
    "程序使用空间分为两种（复制粘贴）：\n",
    "\n",
    "1. 固定部分。这部分空间的大小与输入/输出的数据的个数多少、数值无关。主要包括指令空间（即代码空间）、数据空间（常量、简单变量）等所占的空间。这部分属于静态空间。\n",
    "\n",
    "2. 可变空间，这部分空间的主要包括动态分配的空间，以及递归栈所需的空间等。这部分的空间大小与算法有关。\n",
    "\n",
    "一个算法所需的存储空间用f(n)表示。\n",
    "\n",
    "`S(n)=O(f(n))`\n",
    "\n",
    "其中n为问题的规模，S(n)表示空间复杂度。\n",
    "\n",
    "\n",
    "# Python字符串交换大小写\n",
    "\n",
    "一种没有效率的方法是"
   ]
  },
  {
   "cell_type": "code",
   "execution_count": 8,
   "metadata": {},
   "outputs": [
    {
     "name": "stdout",
     "output_type": "stream",
     "text": [
      "Hi!\n",
      "hI!\n"
     ]
    }
   ],
   "source": [
    "s = input()\n",
    "output = ''\n",
    "for l in s:\n",
    "    if l.isupper():\n",
    "        output += l.lower()\n",
    "    elif l.islower():\n",
    "        output += l.upper()\n",
    "    else:\n",
    "        output += l\n",
    "print(output)"
   ]
  },
  {
   "cell_type": "markdown",
   "metadata": {},
   "source": [
    "但实际上，Python内部已经自带了一个函数：`string.swapcase()`："
   ]
  },
  {
   "cell_type": "code",
   "execution_count": 10,
   "metadata": {},
   "outputs": [
    {
     "name": "stdout",
     "output_type": "stream",
     "text": [
      "Hi!\n",
      "hI!\n"
     ]
    }
   ],
   "source": [
    "print(input().swapcase())"
   ]
  },
  {
   "cell_type": "markdown",
   "metadata": {},
   "source": [
    "这在做相关的题时非常有用。"
   ]
  }
 ],
 "metadata": {
  "kernelspec": {
   "display_name": "Python [default]",
   "language": "python",
   "name": "python2"
  },
  "language_info": {
   "codemirror_mode": {
    "name": "ipython",
    "version": 2
   },
   "file_extension": ".py",
   "mimetype": "text/x-python",
   "name": "python",
   "nbconvert_exporter": "python",
   "pygments_lexer": "ipython2",
   "version": "2.7.13"
  }
 },
 "nbformat": 4,
 "nbformat_minor": 2
}
