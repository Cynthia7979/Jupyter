{
 "cells": [
  {
   "cell_type": "code",
   "execution_count": 8,
   "metadata": {},
   "outputs": [],
   "source": [
    "from sympy import *\n",
    "x, y, z = symbols('x, y, z')\n",
    "a, b, c = symbols('a, b, c')\n",
    "expr1 = 1/x+1\n",
    "expr2 = Integral(sqrt(1/x), x)"
   ]
  },
  {
   "cell_type": "markdown",
   "metadata": {},
   "source": [
    "# Basic Operations\n",
    "1. Conversions"
   ]
  },
  {
   "cell_type": "code",
   "execution_count": 9,
   "metadata": {},
   "outputs": [
    {
     "name": "stdout",
     "output_type": "stream",
     "text": [
      "1 + 1/x\n",
      "1 + 1/x\n",
      "-----------\n",
      "lambda x,a: (1 + 1/x)\n",
      "-----------\n",
      "<function _lambdifygenerated at 0x000002B57CCB21F8>\n",
      "\\int \\sqrt{\\frac{1}{x}}\\, dx\n",
      "<apply>\n",
      "\t<int/>\n",
      "\t<bvar>\n",
      "\t\t<ci>x</ci>\n",
      "\t</bvar>\n",
      "\t<apply>\n",
      "\t\t<root/>\n",
      "\t\t<apply>\n",
      "\t\t\t<power/>\n",
      "\t\t\t<ci>x</ci>\n",
      "\t\t\t<cn>-1</cn>\n",
      "\t\t</apply>\n",
      "\t</apply>\n",
      "</apply>\n",
      "\n",
      "digraph{\n",
      "\n",
      "# Graph style\n",
      "\"ordering\"=\"out\"\n",
      "\"rankdir\"=\"TD\"\n",
      "\n",
      "#########\n",
      "# Nodes #\n",
      "#########\n",
      "\n",
      "\"Integral(Pow(Pow(Symbol('x'), Integer(-1)), Rational(1, 2)), Tuple(Symbol('x')))_()\" [\"color\"=\"black\", \"label\"=\"Integral\", \"shape\"=\"ellipse\"];\n",
      "\"Pow(Pow(Symbol('x'), Integer(-1)), Rational(1, 2))_(0,)\" [\"color\"=\"black\", \"label\"=\"Pow\", \"shape\"=\"ellipse\"];\n",
      "\"Pow(Symbol('x'), Integer(-1))_(0, 0)\" [\"color\"=\"black\", \"label\"=\"Pow\", \"shape\"=\"ellipse\"];\n",
      "\"Symbol('x')_(0, 0, 0)\" [\"color\"=\"black\", \"label\"=\"x\", \"shape\"=\"ellipse\"];\n",
      "\"Integer(-1)_(0, 0, 1)\" [\"color\"=\"black\", \"label\"=\"-1\", \"shape\"=\"ellipse\"];\n",
      "\"Rational(1, 2)_(0, 1)\" [\"color\"=\"black\", \"label\"=\"1/2\", \"shape\"=\"ellipse\"];\n",
      "\"Tuple(Symbol('x'))_(1,)\" [\"color\"=\"blue\", \"label\"=\"Tuple\", \"shape\"=\"ellipse\"];\n",
      "\"Symbol('x')_(1, 0)\" [\"color\"=\"black\", \"label\"=\"x\", \"shape\"=\"ellipse\"];\n",
      "\n",
      "#########\n",
      "# Edges #\n",
      "#########\n",
      "\n",
      "\"Integral(Pow(Pow(Symbol('x'), Integer(-1)), Rational(1, 2)), Tuple(Symbol('x')))_()\" -> \"Pow(Pow(Symbol('x'), Integer(-1)), Rational(1, 2))_(0,)\";\n",
      "\"Integral(Pow(Pow(Symbol('x'), Integer(-1)), Rational(1, 2)), Tuple(Symbol('x')))_()\" -> \"Tuple(Symbol('x'))_(1,)\";\n",
      "\"Pow(Pow(Symbol('x'), Integer(-1)), Rational(1, 2))_(0,)\" -> \"Pow(Symbol('x'), Integer(-1))_(0, 0)\";\n",
      "\"Pow(Pow(Symbol('x'), Integer(-1)), Rational(1, 2))_(0,)\" -> \"Rational(1, 2)_(0, 1)\";\n",
      "\"Pow(Symbol('x'), Integer(-1))_(0, 0)\" -> \"Symbol('x')_(0, 0, 0)\";\n",
      "\"Pow(Symbol('x'), Integer(-1))_(0, 0)\" -> \"Integer(-1)_(0, 0, 1)\";\n",
      "\"Tuple(Symbol('x'))_(1,)\" -> \"Symbol('x')_(1, 0)\";\n",
      "}\n"
     ]
    }
   ],
   "source": [
    "from sympy.utilities.lambdify import lambdastr\n",
    "from sympy.printing.mathml import print_mathml\n",
    "from sympy.printing.dot import dotprint\n",
    "# str\n",
    "print(sympify(str(expr1)) )  # str -> SymPy\n",
    "print(str(expr1))  # SymPy -> str\n",
    "print('-----------')\n",
    "# Lambda\n",
    "print(lambdastr((x, a), expr1))  # SymPy -> Evaluatable lambda str\n",
    "# print(eval(lf)(1,2))  # Evaluatable lambda str -> lambda function\n",
    "print('-----------')\n",
    "# Other Modules\n",
    "print(lambdify((x, a), expr1, 'math'))  # SymPy -> Other Modules ('math', 'scipy', 'numpy')\n",
    "print(latex(expr2))  # SymPy -> LATEX\n",
    "print_mathml(expr2)  # SymPy -> MathML\n",
    "print(dotprint(expr2))  # SymPy -> Graphviz"
   ]
  },
  {
   "cell_type": "markdown",
   "metadata": {},
   "source": [
    "2. Substitution"
   ]
  },
  {
   "cell_type": "code",
   "execution_count": 5,
   "metadata": {},
   "outputs": [
    {
     "name": "stdout",
     "output_type": "stream",
     "text": [
      "y**2 - 1\n",
      "3\n",
      "25.2144000000000\n"
     ]
    }
   ],
   "source": [
    "\n",
    "print(expr1.subs(x, y))\n",
    "print(expr1.subs(x, 2))\n",
    "print(expr1.evalf(subs={x:5.12}))"
   ]
  },
  {
   "cell_type": "markdown",
   "metadata": {},
   "source": [
    "3. Printing"
   ]
  },
  {
   "cell_type": "code",
   "execution_count": 12,
   "metadata": {},
   "outputs": [
    {
     "name": "stdout",
     "output_type": "stream",
     "text": [
      "⌠           \n",
      "⎮     ___   \n",
      "⎮    ╱ 1    \n",
      "⎮   ╱  ─  dx\n",
      "⎮ ╲╱   x    \n",
      "⌡           \n",
      "  /          \n",
      " |           \n",
      " |     ___   \n",
      " |    / 1    \n",
      " |   /  -  dx\n",
      " | \\/   x    \n",
      " |           \n",
      "/            \n",
      "Integral(sqrt(1/x), x)\n"
     ]
    },
    {
     "data": {
      "text/plain": [
       "'Integral(sqrt(1/x), x)'"
      ]
     },
     "execution_count": 12,
     "metadata": {},
     "output_type": "execute_result"
    }
   ],
   "source": [
    "\n",
    "# Pretty-printing\n",
    "init_printing()\n",
    "pprint(expr)  # Automatically select the best\n",
    "pprint(expr, use_unicode=False)  # Use ASCII\n",
    "\n",
    "# Get a raw str\n",
    "print(expr)\n",
    "str(expr)\n",
    "\n",
    "# Other usable"
   ]
  }
 ],
 "metadata": {
  "kernelspec": {
   "display_name": "tools_programs",
   "language": "python",
   "name": "tools_programs"
  },
  "language_info": {
   "codemirror_mode": {
    "name": "ipython",
    "version": 3
   },
   "file_extension": ".py",
   "mimetype": "text/x-python",
   "name": "python",
   "nbconvert_exporter": "python",
   "pygments_lexer": "ipython3",
   "version": "3.7.4"
  }
 },
 "nbformat": 4,
 "nbformat_minor": 2
}
