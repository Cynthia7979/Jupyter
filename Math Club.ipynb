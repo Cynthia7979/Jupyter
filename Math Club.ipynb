{
 "cells": [
  {
   "cell_type": "markdown",
   "metadata": {},
   "source": [
    "# First Meeting\n",
    "**Contest to Participate:**\n",
    "* AMC\n",
    "* ARML\n",
    "\n",
    "### 韦达定理：\n",
    "\n",
    "In $y = ax^2+bx+c$:\n",
    "$$x_1 * x_2 = \\frac{c}{a}$$\n",
    "$$x_1 + x_2 = -\\frac{b}{a}$$\n",
    "\n",
    "Therefore, in $y = ax^2+bx+a$, \n",
    "$x_1 * x_2 = \\frac{a}{a}= 1$\n",
    "\n",
    "They are *reciprocals*."
   ]
  },
  {
   "cell_type": "markdown",
   "metadata": {},
   "source": [
    "# Sequences\n",
    "### 等差数列 Arithmetic\n",
    "$$a_n = a+(n-1)d$$\n",
    "\n",
    "$$a_n = \\frac{a_{n-1} + a_{n+1}} {2}$$\n",
    "\n",
    "### 等比数列 Geometric\n",
    "$$a_n^2=a_{n-1}*a_{n+1}$$\n",
    "\n",
    "$$S_n = \\frac{a(1-r^n)} {1-r}$$\n",
    "\n",
    "$$n=\\infty, S=\\frac{a}{1-r}$$\n",
    "\n",
    "### Examples\n",
    "By the end of **First Quarter**, Team _R_ and Team *W* tied. \n",
    "\n",
    "In the 4 quarters:\n",
    "* Team _R_ Scored a *geometric* sequence of points\n",
    "* Team _W_ Scored an *arithmetic* sequence of points\n",
    "\n",
    "Team _R_ won by **1 point** at the end of the match. The total score $<$ 100\n",
    "\n",
    "What is the total number of points scored by the two teams?\n",
    "\n",
    "$$R = a+an+an^2+an^3 = a(1+n+n^2+n^3)$$\n",
    "\n",
    "$$W = a+a+m+a+2m+a+3m = 4a+6m$$\n",
    "\n",
    "$$\\therefore  a(1+n+n^2+n^3) = 4a+6m+1$$\n",
    "\n",
    "$$\\because a(1+n+n^2+n+3) > 100,$$\n",
    "\n",
    "$$n=4, a(1+n+n^2+n^3) = 1+4+16+64 = 85$$\n",
    "\n",
    "$$n=5, a(1+n+n^2+n^3) > 125$$\n",
    "\n",
    "$$\\therefore n \\leq 4$$\n",
    "\n",
    "$$(Unfinished)$$"
   ]
  },
  {
   "cell_type": "markdown",
   "metadata": {},
   "source": [
    "##### 三角函数复习\n",
    "### 正弦定理\n",
    "$$\\frac{a}{\\sin{A}} = \\frac{b}{\\sin{B}} = \\frac{c}{\\sin{C}}$$\n",
    "\n",
    "（记得复习正余弦定理）"
   ]
  }
 ],
 "metadata": {
  "kernelspec": {
   "display_name": "Python 3",
   "language": "python",
   "name": "python3"
  },
  "language_info": {
   "codemirror_mode": {
    "name": "ipython",
    "version": 3
   },
   "file_extension": ".py",
   "mimetype": "text/x-python",
   "name": "python",
   "nbconvert_exporter": "python",
   "pygments_lexer": "ipython3",
   "version": "3.7.4"
  }
 },
 "nbformat": 4,
 "nbformat_minor": 2
}
