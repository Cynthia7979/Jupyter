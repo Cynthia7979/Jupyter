{
 "cells": [
  {
   "cell_type": "markdown",
   "id": "32bb576b",
   "metadata": {},
   "source": [
    "# CS 2050 Homework 1\n",
    "*Original work by Yirou (Cynthia) Wang*  \n",
    "*Typeset in Jupyter Notebook*\n",
    "\n",
    "**Note:** Without further clarification, all calculations of the same precedence are evaluated from left to right. This is to reduce the use of unecessary parentheses and keep the procedure clean."
   ]
  },
  {
   "cell_type": "markdown",
   "id": "df766a61",
   "metadata": {},
   "source": [
    "## Rewrite in the form \"if ..., then ...\"\n",
    "1. If you study for the exams, you will do well in discrete math.\n",
    "    * `p`: Do well in discrete math; `q`: Study for the exams\n",
    "    * Original statement is $\\neg{q} \\Rightarrow p$\n",
    "2. If you can go out to eat, then you remembered to bring money.\n",
    "    * `p`: Can go out to eat; `q`: Remember to bring money\n",
    "    * Original statement is $p \\Rightarrow q$\n",
    "3. If you did well on exams, then you passed the course.\n",
    "    * `p`: Do well on exams; `q`: Pass the course\n",
    "    * Original statement is $p \\Rightarrow q$"
   ]
  },
  {
   "cell_type": "markdown",
   "id": "984318f3",
   "metadata": {},
   "source": [
    "## Evaluate propositions\n",
    "1. True\n",
    "    * $F \\Rightarrow F \\equiv T$\n",
    "2. True\n",
    "    * $T \\Rightarrow T \\equiv T$\n",
    "3. False\n",
    "    * $T \\Rightarrow F \\equiv F$\n",
    "4. False\n",
    "    * $T \\Rightarrow F \\equiv F$"
   ]
  },
  {
   "cell_type": "markdown",
   "id": "91e9c45b",
   "metadata": {},
   "source": [
    "## Talk English\n",
    "1. If you are taking Discrete Math and it is snowing, then you are a student.\n",
    "2. It is not snowing, or snowing implies that you are a student.\n",
    "3. You are a student if and only if you are taking Discrete Math while it is snowing."
   ]
  },
  {
   "cell_type": "markdown",
   "id": "fa2208c4",
   "metadata": {},
   "source": [
    "## *lah*\n",
    "1. \"You are late for class only when you do not set an alarm or did not do your homework.\"\n",
    "    * $l \\Rightarrow \\neg{a} \\lor \\neg{h}$\n",
    "    * $a \\land h \\land l$\n",
    "        * Original $\\equiv \\neg{l} \\lor (\\neg{a} \\lor \\neg{h})$,\n",
    "        * $\\equiv \\neg{a} \\lor \\neg{h} \\lor \\neg{l}$ when evaluating from left to right,\n",
    "        * $\\equiv \\neg{(a \\land h \\land l)}$\n",
    "    * You set an alarm, did your homework, and was late for class.\n",
    "2. \"You are late for class unless you set your alarm.\"\n",
    "    * $\\neg{a} \\Rightarrow l$\n",
    "    * $\\neg{a} \\land \\neg{l}$\n",
    "        * Original $\\equiv a \\lor l$\n",
    "        * $\\neg{(a \\lor l)} \\equiv \\neg{a} \\land \\neg{l}$\n",
    "    * You did not set your alarm and was not late for class."
   ]
  },
  {
   "cell_type": "markdown",
   "id": "1081147d",
   "metadata": {},
   "source": [
    "## \"I go to bed whenever I finish my school work.\"\n",
    "* Aka, \"If I finish my school work, I go to bed.\" If the person finishes their school work, then they must go to bed. However if they went to bed, they might not have finished their school work.\n",
    "* `p`: I finish my school work; `q`: I go to bed.\n",
    "    * Original: $p \\Rightarrow q$\n",
    "* **Converse:** I finish my school work whenever I go to bed.\n",
    "    * $q \\Rightarrow p$\n",
    "* **Inverse:** Me not finishing my school work is a sufficient condition for me not to go to bed.\n",
    "    * $\\neg{p} \\Rightarrow \\neg{q}$\n",
    "* **Contrapositive:** I did not finish my school work when I do not go to bed.\n",
    "    * $\\neg{q} \\Rightarrow \\neg{p}$"
   ]
  },
  {
   "cell_type": "markdown",
   "id": "7ae87f57",
   "metadata": {},
   "source": [
    "## Truth tables\n",
    "Logical symbols are substituted with ASCII characters because Markdown does not support LATEX table headings.\n",
    "\n",
    "1. $\\neg{p} \\Rightarrow \\neg{q}$\n",
    "\n",
    "| p | q | !p | !q | !p => !q |\n",
    "|:-:|:-:|:-:|:-:|:-:|\n",
    "| T | T | F | F | T |\n",
    "| T | F | F | T | T |\n",
    "| F | T | T | F | F |\n",
    "| F | F | T | T | T |\n",
    "\n",
    "2. $(\\neg{p} \\land q) \\Rightarrow \\neg{r}$\n",
    "\n",
    "| p | q | r | !p | !r | !p && q | (!p && q) => !r |\n",
    "|:-:|:-:|:-:|:-:|:-:|:-:|:-:|\n",
    "| T | T | T | F | F | F | T |\n",
    "| T | T | F | F | T | F | T |\n",
    "| T | F | T | F | F | F | T |\n",
    "| T | F | F | F | T | F | T |\n",
    "| F | T | T | T | F | T | F |\n",
    "| F | T | F | T | T | T | T |\n",
    "| F | F | T | T | F | F | T |\n",
    "| F | F | F | T | T | F | T |\n",
    "\n",
    "3. $(p \\Rightarrow \\neg{q}) \\Leftrightarrow \\neg{(p \\lor q)}$\n",
    "\n",
    "| p | q | !q | p => !q | p OR q | !(p OR q) | (p => !q) <=> !(p OR q) |\n",
    "|:-:|:-:|:-:|:-:|:-:|:-:|:-:|\n",
    "| T | T | F | F | T | F | T |\n",
    "| T | F | T | T | T | F | F |\n",
    "| F | T | F | T | T | F | F |\n",
    "| F | F | T | T | F | T | T |"
   ]
  },
  {
   "cell_type": "markdown",
   "id": "488a595f",
   "metadata": {},
   "source": [
    "## Simplification\n",
    "* Original: $q \\Rightarrow (p \\lor q)$ ; Answer: $T$\n",
    "    1. $q \\Rightarrow (p \\lor q) \\equiv \\neg{q} \\lor (p \\lor q)$\n",
    "        * *Conditional-disjunction equivalence (abbrev. CDE).*\n",
    "    2. $\\neg{q} \\lor (p \\lor q) \\equiv p \\lor q \\lor \\neg{q}$\n",
    "        * *Commutative law. (May also be interpreted as associative law).*\n",
    "    3. $p \\lor q \\lor \\neg{q} \\equiv q \\lor \\neg{q} \\lor p$\n",
    "        * *Commutative law. (May also be interpreted as associative law).*\n",
    "    4. $q \\lor \\neg{q} \\lor p \\equiv T \\lor p$\n",
    "        * *Negation law.*\n",
    "    5. $T \\lor p \\equiv T$\n",
    "        * *Domination law.*\n",
    "* Original: $(p \\Rightarrow q) \\land (p \\Rightarrow \\neg{q})$ ; Answer: $\\neg{p}$\n",
    "    1. $(p \\Rightarrow q) \\land (p \\Rightarrow \\neg{q}) \\equiv (\\neg{p} \\lor q) \\land (p \\Rightarrow \\neg{q})$\n",
    "        * *CDE.*\n",
    "    2. $(\\neg{p} \\lor q) \\land (p \\Rightarrow \\neg{q}) \\equiv (\\neg{p} \\lor q) \\land (\\neg{p} \\lor \\neg{q})$\n",
    "        * *CDE.*\n",
    "    3. $(\\neg{p} \\lor q) \\land (\\neg{p} \\lor \\neg{q}) \\equiv \\neg{p} \\lor (q \\land \\neg{q})$\n",
    "        * *Distributive law.*\n",
    "    4. $\\neg{p} \\lor (q \\land \\neg{q}) \\equiv \\neg{p} \\lor F$\n",
    "        * *Negation law.*\n",
    "    5. $\\neg{p} \\lor F \\equiv \\neg{p}$\n",
    "        * *Identity law.*"
   ]
  },
  {
   "cell_type": "markdown",
   "id": "c5490eca",
   "metadata": {},
   "source": [
    "## Prove $(p \\land q) \\Rightarrow q \\equiv (p \\land \\neg{q}) \\Rightarrow \\neg{q}$\n",
    "* Truth table\n",
    "    1. For $(p \\land q) \\Rightarrow q$:\n",
    "| p | q | p AND q | (p AND q) => q |\n",
    "|:-:|:-:|:-:|:-:|\n",
    "| T | T | T | T |\n",
    "| T | F | F | T |\n",
    "| F | T | F | T |\n",
    "| F | F | F | T |\n",
    "    2. For $(p \\land \\neg{q}) \\Rightarrow \\neg{q}$:\n",
    "| p | q | !q | p AND !q | (p AND !q) => !q |\n",
    "|:-:|:-:|:-:|:-:|:-:|\n",
    "| T | T | F | F | T |\n",
    "| T | F | T | T | T |\n",
    "| F | T | F | F | T |\n",
    "| F | F | T | F | T |\n",
    "    3. **Both are tautologies, thus the equivalency is valid.**\n",
    "\n",
    "\n",
    "* Logical equivalences\n",
    "    1. $(p \\land q) \\Rightarrow q \\equiv \\neg{(p \\land q)} \\lor q$\n",
    "        * *CDE.*\n",
    "    2. $\\neg{(p \\land q)} \\lor q \\equiv \\neg{p} \\lor \\neg{q} \\lor q$\n",
    "        * *DeMorgan.*\n",
    "    3. $\\neg{p} \\lor \\neg{q} \\lor q \\equiv \\neg{p} \\lor q \\lor \\neg{q}$\n",
    "        * *Commutative law.*\n",
    "    4. $\\neg{p} \\lor q \\lor \\neg{q} \\equiv \\neg{(p \\land \\neg{q})} \\lor \\neg{q}$\n",
    "        * *DeMorgan.*\n",
    "    5. $\\neg{(p \\land \\neg{q})} \\lor \\neg{q} \\equiv (p \\land \\neg{q}) \\Rightarrow \\neg{q}$\n",
    "        * *CDE.*"
   ]
  },
  {
   "cell_type": "markdown",
   "id": "6cf93392",
   "metadata": {},
   "source": [
    "# Vikings and Saxons\n",
    "* Definitions\n",
    "    * `p`: *Person A* is a Viking\n",
    "    * `q`: *Person B* is a Viking\n",
    "    * `r`: *Person C* is a Viking\n",
    "* Truth table\n",
    "| p | q | r | p <=> (p OR !q) | q <=> (r => !p) | r <=> (!r OR (!p => q)) |\n",
    "|:-:|:-:|:-:|:-:|:-:|:-:|\n",
    "| T | T | T | T | F | T |\n",
    "| T | T | F | T | T | F |\n",
    "| T | F | T | T | T | T |\n",
    "| T | F | F | T | F | F |\n",
    "| F | T | T | T | T | T |\n",
    "| F | T | F | T | T | F |\n",
    "| F | F | T | F | F | F |\n",
    "| F | F | F | F | F | F |\n",
    "    * In conclusion, there are two possibilities. Either:\n",
    "        * A is a Viking, B is a Saxon, and C is a Viking (row 3), or\n",
    "        * A is a Saxon, B is a Viking, and C is a Viking (row 5) (but not both)"
   ]
  }
 ],
 "metadata": {
  "kernelspec": {
   "display_name": "Python 3 (ipykernel)",
   "language": "python",
   "name": "python3"
  },
  "language_info": {
   "codemirror_mode": {
    "name": "ipython",
    "version": 3
   },
   "file_extension": ".py",
   "mimetype": "text/x-python",
   "name": "python",
   "nbconvert_exporter": "python",
   "pygments_lexer": "ipython3",
   "version": "3.9.12"
  },
  "latex_envs": {
   "LaTeX_envs_menu_present": true,
   "autoclose": false,
   "autocomplete": true,
   "bibliofile": "biblio.bib",
   "cite_by": "apalike",
   "current_citInitial": 1,
   "eqLabelWithNumbers": true,
   "eqNumInitial": 1,
   "hotkeys": {
    "equation": "Ctrl-E",
    "itemize": "Ctrl-I"
   },
   "labels_anchors": false,
   "latex_user_defs": false,
   "report_style_numbering": false,
   "user_envs_cfg": false
  }
 },
 "nbformat": 4,
 "nbformat_minor": 5
}
