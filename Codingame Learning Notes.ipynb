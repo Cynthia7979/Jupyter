{
 "cells": [
  {
   "cell_type": "markdown",
   "metadata": {},
   "source": [
    "# Clash of Code\n",
    "\n",
    "## A contribution by Niako\n",
    "Approved by dwarfie , Boulet andbereal\n",
    "\n",
    "### Goal\n",
    "A few birds of three different colors – Azure, Black and Carmine – sit in line on a wire.\n",
    "\n",
    "Every time the clock tower bell rings, and as long as there are at least two birds, the first two birds in the line fly away, not to return, attracting however the attention of new birds.\n",
    "\n",
    "If the first bird was...\n",
    "- ...Azure, then a Black bird followed by a Carmine one land at the end of the line;\n",
    "- ...Black, then a single Azure bird lands at the end of the line;\n",
    "- ...Carmine, then three Azure birds land at the end of the line; \n",
    "independently of the color X of the second bird to fly away.\n",
    "\n",
    "    AX(...)  -->  (...)BC\n",
    "\n",
    "    BX(...)  -->  (...)A\n",
    "\n",
    "    CX(...)  -->  (...)AAA\n",
    "\n",
    "Emilia is fond of Azure birds. She takes a photograph each time there are only Azure birds on the wire.\n",
    "\n",
    "Starting with a line of N Azure birds, and until there are less than two birds, how many birds are there on each of her successive photographs?\n",
    "\n",
    "### Input\n",
    "One single integer N corresponding to the initial number of Azure birds on the wire.\n",
    "\n",
    "### Output\n",
    "\n",
    "One line per photograph, containing a single integer indicating the number of birds on Emilia's photograph.\n",
    "\n",
    "### Constraints\n",
    "1 < N < 3000\n",
    "\n",
    "NB: In the given scenarios, Emilia always takes less than 150 photographs.\n",
    "\n",
    "### Example\n",
    "\n",
    "**Input**\n",
    "```\n",
    "4\n",
    "```\n",
    "    \n",
    "**Output**\n",
    "```\n",
    "4\n",
    "2\n",
    "1\n",
    "```\n",
    "\n",
    "### My Code"
   ]
  },
  {
   "cell_type": "code",
   "execution_count": 1,
   "metadata": {},
   "outputs": [
    {
     "name": "stdout",
     "output_type": "stream",
     "text": [
      "20\n",
      "20\n",
      "10\n",
      "5\n",
      "8\n",
      "4\n",
      "2\n",
      "1\n"
     ]
    }
   ],
   "source": [
    "import sys\n",
    "import math\n",
    "\n",
    "# Auto-generated code below aims at helping you parse\n",
    "# the standard input according to the problem statement.\n",
    "\n",
    "n = int(input())\n",
    "birds = ['A']*n\n",
    "print(n)\n",
    "\n",
    "while len(birds) >= 2:\n",
    "    first = birds.pop(0)\n",
    "    birds.pop(0)\n",
    "    if first == 'A':\n",
    "        birds.extend(['B', 'C'])\n",
    "    elif first == 'B':\n",
    "        birds.extend(['A'])\n",
    "    elif first == 'C':\n",
    "        birds.extend(['A', 'A', 'A'])\n",
    "    if (not ('B' in birds)) and (not ('C' in birds)):\n",
    "        print(len(birds))\n",
    "\n",
    "# Write an action using print\n",
    "# To debug: print(\"Debug messages...\", file=sys.stderr)"
   ]
  },
  {
   "cell_type": "markdown",
   "metadata": {},
   "source": [
    "_**Mode:** Fastest_\n",
    "\n",
    "_**Ranking:** 1/6_\n",
    "\n",
    "_**Score:** 77%_\n",
    "\n",
    "One test not satisfied (Time Out)\n",
    "\n",
    "这真的是无解……除非找出什么数学上的shortcut否则哪怕传个`50000`都能卡死\n",
    "\n",
    "### Improved Code\n",
    "N/A"
   ]
  },
  {
   "cell_type": "markdown",
   "metadata": {},
   "source": [
    "----\n",
    "\n",
    "## A contribution by zest\n",
    "Approved by SidBit , programjames andtimber\n",
    "\n",
    "### Goal\n",
    "There is a sequence `a`. The 1st input specifies `a1`, and the 2nd input specifies `a2`. Given an operator (the 3rd input), compute `k+2`th term in `a`, where `a_n` = `a_{n-2}` `operator` `a_{n-1}` (i.e. apply operator k times in the sequence). `k` is given as input 4.\n",
    "\n",
    "### Input\n",
    "Line 1: `a1`, the first term in the sequence\n",
    "\n",
    "Line 2: `a2`, the second term in the sequence\n",
    "\n",
    "Line 3: operator. One of (+, -, \\*, /), or a bad operator (see below).\n",
    "\n",
    "Line 4: `k`. How many times to apply operator\n",
    "\n",
    "### Output\n",
    "You will need to output the `k+2`th number of the sequence rounded to the nearest whole number. If the operator is something other than (+,-,*,/) output ERROR\n",
    "\n",
    "### Constraints\n",
    "    -100 <= a1 <= 100\n",
    "    -100 <= a2 <= 100\n",
    "    1<= k <= 100\n",
    "\n",
    "### Example\n",
    "\n",
    "**Input**\n",
    "```\n",
    "1\n",
    "3\n",
    "+\n",
    "10\n",
    "```\n",
    "\n",
    "**Output**\n",
    "```\n",
    "322\n",
    "```\n",
    "\n",
    "### My Code"
   ]
  },
  {
   "cell_type": "code",
   "execution_count": 3,
   "metadata": {
    "collapsed": true
   },
   "outputs": [
    {
     "name": "stdout",
     "output_type": "stream",
     "text": [
      "3\n",
      "2\n",
      "+\n",
      "2\n",
      "4\n",
      "2\n"
     ]
    },
    {
     "ename": "TypeError",
     "evalue": "unsupported operand type(s) for +: 'int' and 'str'",
     "output_type": "error",
     "traceback": [
      "\u001b[1;31m---------------------------------------------------------------------------\u001b[0m",
      "\u001b[1;31mTypeError\u001b[0m                                 Traceback (most recent call last)",
      "\u001b[1;32m<ipython-input-3-db50a8de6cfe>\u001b[0m in \u001b[0;36m<module>\u001b[1;34m\u001b[0m\n\u001b[0;32m      5\u001b[0m     \u001b[1;32mif\u001b[0m \u001b[0mn\u001b[0m\u001b[1;33m<=\u001b[0m\u001b[1;36m3\u001b[0m\u001b[1;33m:\u001b[0m\u001b[1;32mreturn\u001b[0m \u001b[0mf\u001b[0m\u001b[1;33m(\u001b[0m\u001b[0ma\u001b[0m\u001b[1;33m,\u001b[0m\u001b[0mb\u001b[0m\u001b[1;33m)\u001b[0m\u001b[1;33m\u001b[0m\u001b[0m\n\u001b[0;32m      6\u001b[0m     \u001b[1;32melse\u001b[0m\u001b[1;33m:\u001b[0m\u001b[1;32mreturn\u001b[0m \u001b[0mf\u001b[0m\u001b[1;33m(\u001b[0m\u001b[0mp\u001b[0m\u001b[1;33m(\u001b[0m\u001b[0mn\u001b[0m\u001b[1;33m-\u001b[0m\u001b[1;36m2\u001b[0m\u001b[1;33m)\u001b[0m\u001b[1;33m,\u001b[0m\u001b[0mp\u001b[0m\u001b[1;33m(\u001b[0m\u001b[0mn\u001b[0m\u001b[1;33m-\u001b[0m\u001b[1;36m1\u001b[0m\u001b[1;33m)\u001b[0m\u001b[1;33m)\u001b[0m\u001b[1;33m\u001b[0m\u001b[0m\n\u001b[1;32m----> 7\u001b[1;33m \u001b[1;32mif\u001b[0m \u001b[0mo\u001b[0m \u001b[1;32min\u001b[0m \u001b[1;33m(\u001b[0m\u001b[1;34m'+'\u001b[0m\u001b[1;33m,\u001b[0m\u001b[1;34m'-'\u001b[0m\u001b[1;33m,\u001b[0m\u001b[1;34m'*'\u001b[0m\u001b[1;33m,\u001b[0m\u001b[1;34m'/'\u001b[0m\u001b[1;33m)\u001b[0m\u001b[1;33m:\u001b[0m\u001b[0mprint\u001b[0m\u001b[1;33m(\u001b[0m\u001b[0mp\u001b[0m\u001b[1;33m(\u001b[0m\u001b[0mk\u001b[0m\u001b[1;33m+\u001b[0m\u001b[1;36m2\u001b[0m\u001b[1;33m)\u001b[0m\u001b[1;33m)\u001b[0m\u001b[1;33m\u001b[0m\u001b[0m\n\u001b[0m\u001b[0;32m      8\u001b[0m \u001b[1;32melse\u001b[0m\u001b[1;33m:\u001b[0m\u001b[0mprint\u001b[0m\u001b[1;33m(\u001b[0m\u001b[1;34m'ERROR'\u001b[0m\u001b[1;33m)\u001b[0m\u001b[1;33m\u001b[0m\u001b[0m\n",
      "\u001b[1;32m<ipython-input-3-db50a8de6cfe>\u001b[0m in \u001b[0;36mp\u001b[1;34m(n)\u001b[0m\n\u001b[0;32m      4\u001b[0m     \u001b[0mprint\u001b[0m\u001b[1;33m(\u001b[0m\u001b[0mn\u001b[0m\u001b[1;33m)\u001b[0m\u001b[1;33m\u001b[0m\u001b[0m\n\u001b[0;32m      5\u001b[0m     \u001b[1;32mif\u001b[0m \u001b[0mn\u001b[0m\u001b[1;33m<=\u001b[0m\u001b[1;36m3\u001b[0m\u001b[1;33m:\u001b[0m\u001b[1;32mreturn\u001b[0m \u001b[0mf\u001b[0m\u001b[1;33m(\u001b[0m\u001b[0ma\u001b[0m\u001b[1;33m,\u001b[0m\u001b[0mb\u001b[0m\u001b[1;33m)\u001b[0m\u001b[1;33m\u001b[0m\u001b[0m\n\u001b[1;32m----> 6\u001b[1;33m     \u001b[1;32melse\u001b[0m\u001b[1;33m:\u001b[0m\u001b[1;32mreturn\u001b[0m \u001b[0mf\u001b[0m\u001b[1;33m(\u001b[0m\u001b[0mp\u001b[0m\u001b[1;33m(\u001b[0m\u001b[0mn\u001b[0m\u001b[1;33m-\u001b[0m\u001b[1;36m2\u001b[0m\u001b[1;33m)\u001b[0m\u001b[1;33m,\u001b[0m\u001b[0mp\u001b[0m\u001b[1;33m(\u001b[0m\u001b[0mn\u001b[0m\u001b[1;33m-\u001b[0m\u001b[1;36m1\u001b[0m\u001b[1;33m)\u001b[0m\u001b[1;33m)\u001b[0m\u001b[1;33m\u001b[0m\u001b[0m\n\u001b[0m\u001b[0;32m      7\u001b[0m \u001b[1;32mif\u001b[0m \u001b[0mo\u001b[0m \u001b[1;32min\u001b[0m \u001b[1;33m(\u001b[0m\u001b[1;34m'+'\u001b[0m\u001b[1;33m,\u001b[0m\u001b[1;34m'-'\u001b[0m\u001b[1;33m,\u001b[0m\u001b[1;34m'*'\u001b[0m\u001b[1;33m,\u001b[0m\u001b[1;34m'/'\u001b[0m\u001b[1;33m)\u001b[0m\u001b[1;33m:\u001b[0m\u001b[0mprint\u001b[0m\u001b[1;33m(\u001b[0m\u001b[0mp\u001b[0m\u001b[1;33m(\u001b[0m\u001b[0mk\u001b[0m\u001b[1;33m+\u001b[0m\u001b[1;36m2\u001b[0m\u001b[1;33m)\u001b[0m\u001b[1;33m)\u001b[0m\u001b[1;33m\u001b[0m\u001b[0m\n\u001b[0;32m      8\u001b[0m \u001b[1;32melse\u001b[0m\u001b[1;33m:\u001b[0m\u001b[0mprint\u001b[0m\u001b[1;33m(\u001b[0m\u001b[1;34m'ERROR'\u001b[0m\u001b[1;33m)\u001b[0m\u001b[1;33m\u001b[0m\u001b[0m\n",
      "\u001b[1;32m<ipython-input-3-db50a8de6cfe>\u001b[0m in \u001b[0;36mp\u001b[1;34m(n)\u001b[0m\n\u001b[0;32m      3\u001b[0m \u001b[1;32mdef\u001b[0m \u001b[0mp\u001b[0m\u001b[1;33m(\u001b[0m\u001b[0mn\u001b[0m\u001b[1;33m)\u001b[0m\u001b[1;33m:\u001b[0m\u001b[1;33m\u001b[0m\u001b[0m\n\u001b[0;32m      4\u001b[0m     \u001b[0mprint\u001b[0m\u001b[1;33m(\u001b[0m\u001b[0mn\u001b[0m\u001b[1;33m)\u001b[0m\u001b[1;33m\u001b[0m\u001b[0m\n\u001b[1;32m----> 5\u001b[1;33m     \u001b[1;32mif\u001b[0m \u001b[0mn\u001b[0m\u001b[1;33m<=\u001b[0m\u001b[1;36m3\u001b[0m\u001b[1;33m:\u001b[0m\u001b[1;32mreturn\u001b[0m \u001b[0mf\u001b[0m\u001b[1;33m(\u001b[0m\u001b[0ma\u001b[0m\u001b[1;33m,\u001b[0m\u001b[0mb\u001b[0m\u001b[1;33m)\u001b[0m\u001b[1;33m\u001b[0m\u001b[0m\n\u001b[0m\u001b[0;32m      6\u001b[0m     \u001b[1;32melse\u001b[0m\u001b[1;33m:\u001b[0m\u001b[1;32mreturn\u001b[0m \u001b[0mf\u001b[0m\u001b[1;33m(\u001b[0m\u001b[0mp\u001b[0m\u001b[1;33m(\u001b[0m\u001b[0mn\u001b[0m\u001b[1;33m-\u001b[0m\u001b[1;36m2\u001b[0m\u001b[1;33m)\u001b[0m\u001b[1;33m,\u001b[0m\u001b[0mp\u001b[0m\u001b[1;33m(\u001b[0m\u001b[0mn\u001b[0m\u001b[1;33m-\u001b[0m\u001b[1;36m1\u001b[0m\u001b[1;33m)\u001b[0m\u001b[1;33m)\u001b[0m\u001b[1;33m\u001b[0m\u001b[0m\n\u001b[0;32m      7\u001b[0m \u001b[1;32mif\u001b[0m \u001b[0mo\u001b[0m \u001b[1;32min\u001b[0m \u001b[1;33m(\u001b[0m\u001b[1;34m'+'\u001b[0m\u001b[1;33m,\u001b[0m\u001b[1;34m'-'\u001b[0m\u001b[1;33m,\u001b[0m\u001b[1;34m'*'\u001b[0m\u001b[1;33m,\u001b[0m\u001b[1;34m'/'\u001b[0m\u001b[1;33m)\u001b[0m\u001b[1;33m:\u001b[0m\u001b[0mprint\u001b[0m\u001b[1;33m(\u001b[0m\u001b[0mp\u001b[0m\u001b[1;33m(\u001b[0m\u001b[0mk\u001b[0m\u001b[1;33m+\u001b[0m\u001b[1;36m2\u001b[0m\u001b[1;33m)\u001b[0m\u001b[1;33m)\u001b[0m\u001b[1;33m\u001b[0m\u001b[0m\n",
      "\u001b[1;32m<ipython-input-3-db50a8de6cfe>\u001b[0m in \u001b[0;36m<lambda>\u001b[1;34m(l, s)\u001b[0m\n\u001b[0;32m      1\u001b[0m \u001b[0ma\u001b[0m\u001b[1;33m,\u001b[0m\u001b[0mb\u001b[0m\u001b[1;33m,\u001b[0m\u001b[0mo\u001b[0m\u001b[1;33m,\u001b[0m\u001b[0mk\u001b[0m\u001b[1;33m=\u001b[0m\u001b[0mint\u001b[0m\u001b[1;33m(\u001b[0m\u001b[0minput\u001b[0m\u001b[1;33m(\u001b[0m\u001b[1;33m)\u001b[0m\u001b[1;33m)\u001b[0m\u001b[1;33m,\u001b[0m\u001b[0mint\u001b[0m\u001b[1;33m(\u001b[0m\u001b[0minput\u001b[0m\u001b[1;33m(\u001b[0m\u001b[1;33m)\u001b[0m\u001b[1;33m)\u001b[0m\u001b[1;33m,\u001b[0m\u001b[0minput\u001b[0m\u001b[1;33m(\u001b[0m\u001b[1;33m)\u001b[0m\u001b[1;33m,\u001b[0m\u001b[0mint\u001b[0m\u001b[1;33m(\u001b[0m\u001b[0minput\u001b[0m\u001b[1;33m(\u001b[0m\u001b[1;33m)\u001b[0m\u001b[1;33m)\u001b[0m\u001b[1;33m\u001b[0m\u001b[0m\n\u001b[1;32m----> 2\u001b[1;33m \u001b[0mf\u001b[0m\u001b[1;33m=\u001b[0m\u001b[1;32mlambda\u001b[0m \u001b[0ml\u001b[0m\u001b[1;33m,\u001b[0m\u001b[0ms\u001b[0m\u001b[1;33m:\u001b[0m\u001b[0meval\u001b[0m\u001b[1;33m(\u001b[0m\u001b[0ml\u001b[0m\u001b[1;33m+\u001b[0m\u001b[0mo\u001b[0m\u001b[1;33m+\u001b[0m\u001b[0ms\u001b[0m\u001b[1;33m)\u001b[0m\u001b[1;33m\u001b[0m\u001b[0m\n\u001b[0m\u001b[0;32m      3\u001b[0m \u001b[1;32mdef\u001b[0m \u001b[0mp\u001b[0m\u001b[1;33m(\u001b[0m\u001b[0mn\u001b[0m\u001b[1;33m)\u001b[0m\u001b[1;33m:\u001b[0m\u001b[1;33m\u001b[0m\u001b[0m\n\u001b[0;32m      4\u001b[0m     \u001b[0mprint\u001b[0m\u001b[1;33m(\u001b[0m\u001b[0mn\u001b[0m\u001b[1;33m)\u001b[0m\u001b[1;33m\u001b[0m\u001b[0m\n\u001b[0;32m      5\u001b[0m     \u001b[1;32mif\u001b[0m \u001b[0mn\u001b[0m\u001b[1;33m<=\u001b[0m\u001b[1;36m3\u001b[0m\u001b[1;33m:\u001b[0m\u001b[1;32mreturn\u001b[0m \u001b[0mf\u001b[0m\u001b[1;33m(\u001b[0m\u001b[0ma\u001b[0m\u001b[1;33m,\u001b[0m\u001b[0mb\u001b[0m\u001b[1;33m)\u001b[0m\u001b[1;33m\u001b[0m\u001b[0m\n",
      "\u001b[1;31mTypeError\u001b[0m: unsupported operand type(s) for +: 'int' and 'str'"
     ]
    }
   ],
   "source": [
    "a,b,o,k=int(input()),int(input()),input(),int(input())\n",
    "f=lambda l,s:eval(l+o+s)\n",
    "def p(n):\n",
    "    print(n)\n",
    "    if n<=3:return f(a,b)\n",
    "    else:return f(p(n-2),p(n-1))\n",
    "if o in ('+','-','*','/'):print(p(k+2))\n",
    "else:print('ERROR')"
   ]
  },
  {
   "cell_type": "markdown",
   "metadata": {},
   "source": [
    "_**Mode:** Shortest_\n",
    "\n",
    "_**Ranking:** 3/4_\n",
    "\n",
    "_**Score:** 16%_\n",
    "\n",
    "时间不够，没写完\n",
    "\n",
    "### Improved Code\n",
    "_By Netherar_"
   ]
  },
  {
   "cell_type": "code",
   "execution_count": 5,
   "metadata": {
    "scrolled": true
   },
   "outputs": [
    {
     "name": "stdout",
     "output_type": "stream",
     "text": [
      "3\n",
      "2\n",
      "+\n",
      "2\n",
      "7\n"
     ]
    }
   ],
   "source": [
    "a=[input(),input()]\n",
    "o=input()\n",
    "k=int(input())\n",
    "if o in\"*/-+\":\n",
    "    for i in range(k):\n",
    "        a.append(eval(\"\"+str(a[-2:-1][0])+o+str(a[-1:][0])))\n",
    "    print(int(a[-1:][0]))\n",
    "else:print(\"ERROR\")"
   ]
  },
  {
   "cell_type": "markdown",
   "metadata": {},
   "source": [
    "----\n",
    "\n",
    "## Exchanging Currency\n",
    "（非原题）\n",
    "\n",
    "You have three kinds of coins: `gold`, `silver`, and `brass`.\n",
    "\n",
    "1`G` = 100`S`\n",
    "\n",
    "1`S` = 100 `B`\n",
    "\n",
    "Given the number of `G`, `S`, and `B`, calculate the number of coins you have respectively after exchanging.\n",
    "\n",
    "### My Code"
   ]
  },
  {
   "cell_type": "code",
   "execution_count": 6,
   "metadata": {},
   "outputs": [
    {
     "name": "stdout",
     "output_type": "stream",
     "text": [
      "5\n",
      "1\n",
      "2457\n",
      "5G 25S 57B\n"
     ]
    }
   ],
   "source": [
    "import sys\n",
    "import math\n",
    "\n",
    "# Auto-generated code below aims at helping you parse\n",
    "# the standard input according to the problem statement.\n",
    "\n",
    "g = int(input())\n",
    "s = int(input())\n",
    "b = int(input())\n",
    "\n",
    "while b>100:\n",
    "    b-=100\n",
    "    s+=1\n",
    "while s>100:\n",
    "    s-=100\n",
    "    g+=1\n",
    "\n",
    "# Write an action using print\n",
    "# To debug: print(\"Debug messages...\", file=sys.stderr)\n",
    "\n",
    "print(f\"{g}G {s}S {b}B\")"
   ]
  },
  {
   "cell_type": "markdown",
   "metadata": {},
   "source": [
    "Poor Implementation...\n",
    "\n",
    "_**Mode:** Fastest_\n",
    "\n",
    "_**Ranking:** 3/4_\n",
    "\n",
    "_**Score:** 100%_\n",
    "\n",
    "### Improved Code\n",
    "*By megahallon (Ruby)*"
   ]
  },
  {
   "cell_type": "code",
   "execution_count": 7,
   "metadata": {
    "collapsed": true
   },
   "outputs": [
    {
     "ename": "SyntaxError",
     "evalue": "invalid syntax (<ipython-input-7-dbf51388f4b6>, line 15)",
     "output_type": "error",
     "traceback": [
      "\u001b[1;36m  File \u001b[1;32m\"<ipython-input-7-dbf51388f4b6>\"\u001b[1;36m, line \u001b[1;32m15\u001b[0m\n\u001b[1;33m    puts \"#{g}G #{s}S #{b}B\"\u001b[0m\n\u001b[1;37m                           ^\u001b[0m\n\u001b[1;31mSyntaxError\u001b[0m\u001b[1;31m:\u001b[0m invalid syntax\n"
     ]
    }
   ],
   "source": [
    "# Auto-generated code below aims at helping you parse\n",
    "# the standard input according to the problem statement.\n",
    "\n",
    "g = gets.to_i\n",
    "s = gets.to_i\n",
    "b = gets.to_i\n",
    "\n",
    "bb = b / 100\n",
    "s += bb\n",
    "b = b % 100\n",
    "ss = s / 100\n",
    "g += ss\n",
    "s = s % 100\n",
    "\n",
    "puts \"#{g}G #{s}S #{b}B\""
   ]
  },
  {
   "cell_type": "markdown",
   "metadata": {},
   "source": [
    "**笔记：**\n",
    "交换货币的算法（以元，角，分为例）：\n",
    "1. 将角加上分/100的结果（整数）\n",
    "2. 分变成分/100取余\n",
    "3. 将元加上角/100的结果（整数）\n",
    "4. 角变成角/100取余\n",
    "\n",
    "----\n",
    "\n",
    "## Counting 1s in Binary Numbers\n",
    "（非原题again）\n",
    "\n",
    "如果一个数字的二进制有奇数个1，那么它就被叫做……忘了叫啥\n",
    "\n",
    "给定一个数字，要求如果是这种数，就输出`true`，反之输出`false`。\n",
    "\n",
    "### My Code\n",
    "其实本来用的for循环，结果之后为了缩减代码就换成了这个东西，导致只得了66分……"
   ]
  },
  {
   "cell_type": "code",
   "execution_count": 3,
   "metadata": {},
   "outputs": [
    {
     "name": "stdout",
     "output_type": "stream",
     "text": [
      "6932\n",
      "true\n"
     ]
    }
   ],
   "source": [
    "print(str(len(bin(int(input()))[2:].strip('0'))%2!=0).lower())"
   ]
  },
  {
   "cell_type": "markdown",
   "metadata": {},
   "source": [
    "_**Mode:** Shortest_\n",
    "\n",
    "_**Ranking:** 5/5_\n",
    "\n",
    "_**Score:** 66%_\n",
    "\n",
    "### Improved Code\n",
    "_By rangita01_"
   ]
  },
  {
   "cell_type": "code",
   "execution_count": 4,
   "metadata": {},
   "outputs": [
    {
     "name": "stdout",
     "output_type": "stream",
     "text": [
      "6932\n",
      "false\n"
     ]
    }
   ],
   "source": [
    "print(\"true\"if bin(int(input())).count('1')%2 else\"false\")"
   ]
  },
  {
   "cell_type": "markdown",
   "metadata": {},
   "source": [
    "**笔记：**\n",
    "1. 找数量不要用`strip()`！世界上有一个叫`count()`的东西。\n",
    "2. `a if (condition) else b`真的很好用\n",
    "3. `bin`只涉及查数字的时候不用`[2:]`"
   ]
  },
  {
   "cell_type": "markdown",
   "metadata": {},
   "source": [
    "----\n",
    "\n",
    "## Decrypting\n",
    "\n",
    "（还是非原题）\n",
    "\n",
    "敌方使用了以下加密方式：\n",
    "\n",
    "对于加密信息中的每个字母`l`，使用一个`整数`来表示它。该`整数`表示该字母离字母`z`有多远。\n",
    "\n",
    "即：\n",
    "\n",
    "| 原字母 | 密文 |\n",
    "|---|---|\n",
    "| z | 0 |\n",
    "| y | 3 |\n",
    "| a | 25 |\n",
    "\n",
    "### My Code"
   ]
  },
  {
   "cell_type": "code",
   "execution_count": 6,
   "metadata": {
    "scrolled": true
   },
   "outputs": [
    {
     "name": "stdout",
     "output_type": "stream",
     "text": [
      "4\n",
      "25\n",
      "20\n",
      "13\n",
      "1\n",
      "afmy\n"
     ]
    }
   ],
   "source": [
    "import string\n",
    "\n",
    "# Auto-generated code below aims at helping you parse\n",
    "# the standard input according to the problem statement.\n",
    "\n",
    "n = int(input())\n",
    "s = ''\n",
    "for i in range(n):\n",
    "    e = int(input())\n",
    "    if e == -1: s += ' '\n",
    "    else:\n",
    "        s += string.ascii_lowercase[26-e-1]\n",
    "\n",
    "# Write an action using print\n",
    "# To debug: print(\"Debug messages...\", file=sys.stderr)\n",
    "\n",
    "print(s)"
   ]
  },
  {
   "cell_type": "markdown",
   "metadata": {},
   "source": [
    "_**Mode:** Fastest_\n",
    "\n",
    "_**Ranking:** 3/8_\n",
    "\n",
    "_**Score:** 100%_\n",
    "\n",
    "### Improved Code\n",
    "*From Zwloki (Javascript)*"
   ]
  },
  {
   "cell_type": "code",
   "execution_count": null,
   "metadata": {},
   "outputs": [],
   "source": [
    "x=[...'abcdefghijklmnopqrstuvwxyz'].reverse();\n",
    "o=''\n",
    "const N = parseInt(readline());\n",
    "for (let i = 0; i < N; i++) {\n",
    "    const e = parseInt(readline());\n",
    "    if (e<0) {\n",
    "        o+=' '\n",
    "    } else {\n",
    "        o+=x[e]\n",
    "    }\n",
    "}\n",
    "\n",
    "// Write an action using console.log()\n",
    "// To debug: console.error('Debug messages...');\n",
    "\n",
    "console.log(o);"
   ]
  },
  {
   "cell_type": "markdown",
   "metadata": {},
   "source": [
    "**笔记：**\n",
    "* `reverse()`掉字母表比`26-e-1`的密文好\n",
    "\n",
    "### Improved Code\n",
    "*From Philipp~ (Javascript)*"
   ]
  },
  {
   "cell_type": "code",
   "execution_count": null,
   "metadata": {},
   "outputs": [],
   "source": [
    "/**\n",
    " * Auto-generated code below aims at helping you parse\n",
    " * the standard input according to the problem statement.\n",
    " **/\n",
    "\n",
    "const N = parseInt(readline());\n",
    "let str = '';\n",
    "for (let i = 0; i < N; i++) {\n",
    "    const E = parseInt(readline());\n",
    "    \n",
    "    if (E == -1) {\n",
    "        str += ' ';\n",
    "        continue;\n",
    "    }\n",
    "    \n",
    "    str += String.fromCharCode('z'.charCodeAt(0)- E);\n",
    "    \n",
    "}\n",
    "print(str);"
   ]
  },
  {
   "cell_type": "markdown",
   "metadata": {},
   "source": [
    "**笔记：**\n",
    "* JS好像很适合写字符串类的题\n",
    "* TODO 需要学习js的`String.fromCharCode()`\n",
    "\n",
    "----\n",
    "\n",
    "## A contribution by BetaCorn\n",
    "Approved by BenjaminUrquhart , Defelo andddls\n",
    "\n",
    "### Goal\n",
    "Let N be an integer.\n",
    "\n",
    "It is said to be palindromic if it is the same reading backward or forward. For instance, `121` is palindromic in the usual base `10`.\n",
    "\n",
    "Note that a number could be palindromic in a base `b` and not in a base `b'`.\n",
    "\n",
    "Given an integer `N` (in the usual decimal system) and a base `b`, you have to say if `N` is palindromic in base `b`.\n",
    "\n",
    "### Input\n",
    "\n",
    "**Line 1:** An integer `N` in decimal system.\n",
    "\n",
    "**Line 2:** A base `b`.\n",
    "\n",
    "### Output\n",
    "\n",
    "**Line 1:** `True` if `N` is palindromic in base `b`, `False` otherwise.\n",
    "\n",
    "### Constraints\n",
    "1 ≤ N ≤ 10^20\n",
    "1 ≤ b ≤ 100\n",
    "\n",
    "### Example\n",
    "**Input**\n",
    "\n",
    "    8\n",
    "    3\n",
    "**Output**\n",
    "\n",
    "    True"
   ]
  },
  {
   "cell_type": "code",
   "execution_count": 7,
   "metadata": {},
   "outputs": [
    {
     "ename": "SyntaxError",
     "evalue": "invalid syntax (<ipython-input-7-56801834a511>, line 20)",
     "output_type": "error",
     "traceback": [
      "\u001b[1;36m  File \u001b[1;32m\"<ipython-input-7-56801834a511>\"\u001b[1;36m, line \u001b[1;32m20\u001b[0m\n\u001b[1;33m    print(''.join([str(x) for x in d.values())]==''.join([str(x) for x in list(d.values()).reverse()]))\u001b[0m\n\u001b[1;37m                                             ^\u001b[0m\n\u001b[1;31mSyntaxError\u001b[0m\u001b[1;31m:\u001b[0m invalid syntax\n"
     ]
    }
   ],
   "source": [
    "import sys\n",
    "import math\n",
    "\n",
    "# Auto-generated code below aims at helping you parse\n",
    "# the standard input according to the problem statement.\n",
    "\n",
    "n = int(input())\n",
    "b = int(input())\n",
    "d = {'0':0}\n",
    "c = '0'\n",
    "\n",
    "while n>0:\n",
    " d[c]+=1\n",
    " n-=1\n",
    " if d[c]==b:\n",
    "  d[c]=0\n",
    "  c=str(int(c)+1)\n",
    "  d[c]=1\n",
    "\n",
    "print(''.join([str(x) for x in d.values())]==''.join([str(x) for x in list(d.values()).reverse()]))"
   ]
  },
  {
   "cell_type": "markdown",
   "metadata": {},
   "source": [
    "_**Mode:** Shortest_\n",
    "\n",
    "_**Ranking:** 5/5_\n",
    "\n",
    "_**Score:** 0%_\n",
    "\n",
    "没时间了，还想着要写短，所以就没写完……一开始以为是有内置的算法的，结果没有。\n",
    "\n",
    "### Improved Code\n"
   ]
  },
  {
   "cell_type": "code",
   "execution_count": 2,
   "metadata": {
    "scrolled": false
   },
   "outputs": [
    {
     "name": "stdout",
     "output_type": "stream",
     "text": [
      "9\n",
      "2\n",
      "True\n"
     ]
    }
   ],
   "source": [
    "n=int(input())\n",
    "b=int(input())\n",
    "d=[0]*1000\n",
    "while n>0:\n",
    " n-=1\n",
    " d[0]+=1\n",
    " for i,e in enumerate(d):\n",
    "  if e==b:d[i]=0;d[i+1]+=1\n",
    "d.reverse()\n",
    "a=str(int(''.join([str(x) for x in d])))\n",
    "print(a==a[::-1])"
   ]
  },
  {
   "cell_type": "markdown",
   "metadata": {},
   "source": [
    "这段代码是我自己写的，写完才发现之前代码整体的概念都乱掉了：\n",
    "\n",
    "* 应该用链表而不是字典\n",
    "* 进完一位后应回到个位\n",
    "\n",
    "我还是去上小学吧（趴"
   ]
  },
  {
   "cell_type": "markdown",
   "metadata": {},
   "source": [
    "## Calvin and Santa Claus\n",
    "（仍然非原题，一年以后我又回来了，现在是2020/3/3，最后检查2019/6/11）\n",
    "\n",
    "圣诞老人没有钱了，只能给`g`个孩子送礼物。他有一个仪器，能够给任何孩子计算一个表示他们一年表现的值。假设除了Calvin一共有`n`个孩子，每个孩子的值为`mi`且Calvin的值为`m`，请输出Calvin今年能不能拿到礼物。\n",
    "\n",
    "### Input\n",
    "**Line 1:** `n g`\n",
    "\n",
    "**Line 2:** `m`\n",
    "\n",
    "**Line 3 ~ Line3+N:** `mi`~`mi_n`\n",
    "\n",
    "### Output\n",
    "0 or 1\n",
    "\n",
    "### My Code\n"
   ]
  },
  {
   "cell_type": "code",
   "execution_count": 9,
   "metadata": {},
   "outputs": [
    {
     "name": "stdout",
     "output_type": "stream",
     "text": [
      "5 2\n",
      "3\n",
      "6\n",
      "2\n",
      "4\n",
      "5\n",
      "1\n",
      "0\n"
     ]
    }
   ],
   "source": [
    "n,g=[int(i) for i in input().split()]\n",
    "m=int(input())\n",
    "k=0\n",
    "o=1\n",
    "for i in range(n):\n",
    " if int(input())>m:k+=1\n",
    "if k>=g:o=0\n",
    "print(o)"
   ]
  },
  {
   "cell_type": "markdown",
   "metadata": {},
   "source": [
    "_**Mode:** Shortest_\n",
    "\n",
    "_**Ranking:** 2/4_\n",
    "\n",
    "_**Score:** 100%_\n",
    "\n",
    "~~似乎多行输入在这不好使~~当我没说\n",
    "\n",
    "### Improved Code\n",
    "*By Ep599*"
   ]
  },
  {
   "cell_type": "code",
   "execution_count": 10,
   "metadata": {},
   "outputs": [
    {
     "name": "stdout",
     "output_type": "stream",
     "text": [
      "5 2\n",
      "3\n",
      "6\n",
      "2\n",
      "4\n",
      "5\n",
      "1\n",
      "0\n"
     ]
    }
   ],
   "source": [
    "n,g=[int(i) for i in input().split()]\n",
    "m=int(input())\n",
    "print(int(sum(m<int(input()) for i in range(n))<g))"
   ]
  },
  {
   "cell_type": "markdown",
   "metadata": {},
   "source": [
    "## A contribution by Bob\n",
    "Given a series of letters, your program must find the first one that is not correctly placed regarding the alphabetical order.\n",
    "### Input\n",
    "A series of letters, uppercase.\n",
    "### Output\n",
    "The first letter that does not respect the alphabetical order.\n",
    "### Constraints\n",
    "There are always at least two letters and less than 26.\n",
    "\n",
    "The series may start and end anywhere in the alphabet.\n",
    "\n",
    "Some letters may be entirely missing, but the remaining ones will be in order - except one. There are no duplicate letters.\n",
    "\n",
    "There is always one and only one incorrectly placed letter.\n",
    "### Example\n",
    "**Input**\n",
    "\n",
    "ABCDFEGH\n",
    "\n",
    "**Output**\n",
    "\n",
    "E\n",
    "### My Code\n",
    ":FACEPALM:"
   ]
  },
  {
   "cell_type": "code",
   "execution_count": 11,
   "metadata": {},
   "outputs": [
    {
     "name": "stdout",
     "output_type": "stream",
     "text": [
      "ABDC\n",
      "1 0\n"
     ]
    },
    {
     "ename": "IndexError",
     "evalue": "string index out of range",
     "output_type": "error",
     "traceback": [
      "\u001b[1;31m---------------------------------------------------------------------------\u001b[0m",
      "\u001b[1;31mIndexError\u001b[0m                                Traceback (most recent call last)",
      "\u001b[1;32m<ipython-input-11-6ddd6d0971ff>\u001b[0m in \u001b[0;36m<module>\u001b[1;34m\u001b[0m\n\u001b[0;32m     20\u001b[0m                 \u001b[1;32mif\u001b[0m \u001b[0mc\u001b[0m \u001b[1;33m<=\u001b[0m \u001b[1;36m24\u001b[0m\u001b[1;33m:\u001b[0m\u001b[1;33m\u001b[0m\u001b[1;33m\u001b[0m\u001b[0m\n\u001b[0;32m     21\u001b[0m                     \u001b[0mprint\u001b[0m\u001b[1;33m(\u001b[0m\u001b[0mc\u001b[0m\u001b[1;33m,\u001b[0m\u001b[0mi\u001b[0m\u001b[1;33m)\u001b[0m\u001b[1;33m\u001b[0m\u001b[1;33m\u001b[0m\u001b[0m\n\u001b[1;32m---> 22\u001b[1;33m                     \u001b[1;32mif\u001b[0m \u001b[0mA\u001b[0m\u001b[1;33m[\u001b[0m\u001b[0mc\u001b[0m\u001b[1;33m+\u001b[0m\u001b[1;36m1\u001b[0m\u001b[1;33m]\u001b[0m\u001b[1;33m==\u001b[0m\u001b[0ml\u001b[0m\u001b[1;33m[\u001b[0m\u001b[0mi\u001b[0m\u001b[1;33m+\u001b[0m\u001b[1;36m1\u001b[0m\u001b[1;33m]\u001b[0m\u001b[1;33m:\u001b[0m\u001b[1;33m\u001b[0m\u001b[1;33m\u001b[0m\u001b[0m\n\u001b[0m\u001b[0;32m     23\u001b[0m                         \u001b[0merr\u001b[0m\u001b[1;33m=\u001b[0m\u001b[0mi\u001b[0m\u001b[1;33m\u001b[0m\u001b[1;33m\u001b[0m\u001b[0m\n\u001b[0;32m     24\u001b[0m                         \u001b[1;32mbreak\u001b[0m\u001b[1;33m\u001b[0m\u001b[1;33m\u001b[0m\u001b[0m\n",
      "\u001b[1;31mIndexError\u001b[0m: string index out of range"
     ]
    }
   ],
   "source": [
    "import sys\n",
    "import math\n",
    "\n",
    "# Auto-generated code below aims at helping you parse\n",
    "# the standard input according to the problem statement.\n",
    "\n",
    "w = input()\n",
    "A = tuple(\"ABCDEFGHIJKLMNOPQRSTUVWXYZ\")\n",
    "err = -1\n",
    "\n",
    "# Write an action using print\n",
    "# To debug: print(\"Debug messages...\", file=sys.stderr)\n",
    "i = A.index(w[0])\n",
    "for l in w:\n",
    "    if A[i]==l[i]:continue\n",
    "    else:\n",
    "        c=i\n",
    "        while c<=25:\n",
    "            if A[c]==l[i]:\n",
    "                if c <= 24:\n",
    "                    print(c,i)\n",
    "                    if A[c+1]==l[i+1]:\n",
    "                        err=i\n",
    "                        break\n",
    "                    else:\n",
    "                        err=i+1\n",
    "                        break\n",
    "            else:\n",
    "                c+=1\n",
    "        err=i\n",
    "        break\n",
    "        # c=i\n",
    "        # while c<=26:\n",
    "        #     if A[i]==l[c]:\n",
    "        #         if A[i+1]==l[]\n",
    "    i += 1\n",
    "    \n",
    "print(w[err])"
   ]
  },
  {
   "cell_type": "markdown",
   "metadata": {},
   "source": [
    "_**Mode:** Fastest_\n",
    "\n",
    "_**Ranking:** 5/5_\n",
    "\n",
    "_**Score:** 0%_\n",
    "\n",
    "### Improved Code\n",
    "*By Jezza*"
   ]
  },
  {
   "cell_type": "code",
   "execution_count": 12,
   "metadata": {},
   "outputs": [
    {
     "name": "stdout",
     "output_type": "stream",
     "text": [
      "ABDC\n",
      "C\n"
     ]
    }
   ],
   "source": [
    "import sys\n",
    "import math\n",
    "\n",
    "w = input()\n",
    "\n",
    "for i in range(len(w)):\n",
    "        \n",
    "    if ord(w[i]) > ord(w[i+1]):\n",
    "        print(w[i+1])\n",
    "        break"
   ]
  },
  {
   "cell_type": "markdown",
   "metadata": {},
   "source": [
    "### Improved Code\n",
    "*By JP7*"
   ]
  },
  {
   "cell_type": "code",
   "execution_count": 13,
   "metadata": {},
   "outputs": [
    {
     "name": "stdout",
     "output_type": "stream",
     "text": [
      "ABDC\n",
      "C\n"
     ]
    }
   ],
   "source": [
    "w = input()\n",
    "p='a'\n",
    "for x in w:\n",
    "   if ord(x.lower())<ord(p.lower()):\n",
    "       print(x)\n",
    "       break\n",
    "   p=x"
   ]
  },
  {
   "cell_type": "markdown",
   "metadata": {},
   "source": [
    "我的思路：将字符串与字母表比对\n",
    "\n",
    "正确思路：比较每两个字符的顺序。因为字母“可跳过”且错误只有一个，所以“错误”即代表两个连续字母的调换。\n",
    "\n",
    "**笔记：**\n",
    "* 用`ord()`比较字母的先后顺序"
   ]
  },
  {
   "cell_type": "markdown",
   "metadata": {},
   "source": [
    "## Multiplying\n",
    "给定整数`n`，求得`1*n+2*n+...+n*n`的值\n",
    "\n",
    "### My Code\n"
   ]
  },
  {
   "cell_type": "code",
   "execution_count": 1,
   "metadata": {},
   "outputs": [
    {
     "name": "stdout",
     "output_type": "stream",
     "text": [
      "1000\n",
      "500500000\n"
     ]
    }
   ],
   "source": [
    "n=int(input())\n",
    "print(sum([x*n for x in range(n+1)]))"
   ]
  },
  {
   "cell_type": "markdown",
   "metadata": {},
   "source": [
    "_**Mode:** Shortest_\n",
    "\n",
    "_**Ranking:** 3/6_\n",
    "\n",
    "_**Score:** 100%_\n",
    "\n",
    "### Improved Code\n",
    "*By JaysonGalante*"
   ]
  },
  {
   "cell_type": "code",
   "execution_count": 3,
   "metadata": {},
   "outputs": [
    {
     "name": "stdout",
     "output_type": "stream",
     "text": [
      "1000\n",
      "500500000\n"
     ]
    }
   ],
   "source": [
    "n=int(input())\n",
    "print((n*n*(n+1))//2)"
   ]
  },
  {
   "cell_type": "markdown",
   "metadata": {},
   "source": [
    "**笔记：**\n",
    "* 这种计算的捷径：$$\\frac{n^3+n^2}{2}$$"
   ]
  },
  {
   "cell_type": "markdown",
   "metadata": {},
   "source": [
    "## A contribution by algmyr\n",
    " Approved by IcedCapp,Visualandfield3\n",
    "### Goal\n",
    "In the spirit of particles and anti-particles, let's define characters and anti-characters as lower case and upper case characters respectively. As we all know particles meeting anti-particles annihilates each other and produce energy. In a string, an anti-character annihilates a character if they are adjacent and in the process release 1 unit of energy.\n",
    "\n",
    "baACCcB → b(aA)C(Cc)B → bCB + 2 energy units\n",
    "\n",
    "Given a string of characters, annihilate characters until a stable string is reached and record the energy released. A stable string is a string where no annihilation can occur.\n",
    "\n",
    "### Input\n",
    "One line: \n",
    "\n",
    "string consisting of only upper and lowercase letters between a-z.\n",
    "### Output\n",
    "On two separate lines:\n",
    "\n",
    "the remaining string after annilhilation  \n",
    "units of energy released\n",
    "### Constraints\n",
    "string length is less than or equal to `255`\n",
    "### Example\n",
    "**Input**\n",
    "\n",
    "    aAaAa\n",
    "**Output**\n",
    "\n",
    "    a\n",
    "    2\n",
    "### My Code\n"
   ]
  },
  {
   "cell_type": "code",
   "execution_count": 4,
   "metadata": {},
   "outputs": [
    {
     "name": "stdout",
     "output_type": "stream",
     "text": [
      "aAaAbcDDd\n",
      "bcDD\n",
      "3\n"
     ]
    },
    {
     "name": "stderr",
     "output_type": "stream",
     "text": [
      "a D\n",
      "a D\n",
      "b D\n",
      "D D\n",
      "Last letter ready for annihilation False\n"
     ]
    }
   ],
   "source": [
    "import sys\n",
    "import math\n",
    "import string\n",
    "\n",
    "# Auto-generated code below aims at helping you parse\n",
    "# the standard input according to the problem statement.\n",
    "\n",
    "initial = input()\n",
    "e = 0\n",
    "final = ''\n",
    "lasttwoannied = False\n",
    "for l in range(0, len(initial)-1, 2):\n",
    "    print(initial[l], initial[-3], file=sys.stderr)\n",
    "    if initial[l].isupper():\n",
    "        if initial[l+1].islower() and initial[l+1].upper() == initial[l]:\n",
    "            e += 1\n",
    "            if initial[l] == initial[-3]:\n",
    "                print(\"Last sencond letter annihilated\", file=sys.stderr)\n",
    "                lasttwoannied = True\n",
    "        else:  \n",
    "            final += initial[l]+initial[l+1]\n",
    "    else:\n",
    "        if initial[l+1].isupper() and initial[l+1].lower() == initial[l]:\n",
    "            e += 1\n",
    "            if initial[l] == initial[-3]:\n",
    "                print(\"Last sencond letter annihilated\", file=sys.stderr)\n",
    "                lasttwoannied = True\n",
    "        else:\n",
    "            final += initial[l]+initial[l+1]\n",
    "if len(initial) % 2 == 1:\n",
    "    last = initial[-1]\n",
    "    lasttwo = initial[-2]\n",
    "    if last.isupper():\n",
    "        if lasttwo.islower() and lasttwo.upper() == last and (not lasttwoannied):\n",
    "            print(\"Last letter ready for annihilation\", file=sys.stderr)\n",
    "            e += 1\n",
    "        else:\n",
    "            final += last\n",
    "    else:\n",
    "        if lasttwo.isupper() and lasttwo.lower() == last and (not lasttwoannied):\n",
    "            print(\"Last letter ready for annihilation\", lasttwoannied, file=sys.stderr)\n",
    "            e += 1\n",
    "        else:\n",
    "            final += last\n",
    "\n",
    "# Write an action using print\n",
    "# To debug: print(\"Debug messages...\", file=sys.stderr)\n",
    "\n",
    "print(final)\n",
    "print(e)"
   ]
  },
  {
   "cell_type": "markdown",
   "metadata": {},
   "source": [
    "_**Mode:** Fastest_\n",
    "\n",
    "_**Ranking:** 3/4_\n",
    "\n",
    "_**Score:** 33%_\n",
    "\n",
    "Works for \"The Most Time\", but fails sometimes, like in this case: `aAaAbcDDd`\n",
    "\n",
    "Actually, the whole logic is a mess.\n",
    "\n",
    "### Improved Code\n",
    "*By Danyosate*"
   ]
  },
  {
   "cell_type": "code",
   "execution_count": 6,
   "metadata": {},
   "outputs": [
    {
     "name": "stdout",
     "output_type": "stream",
     "text": [
      "aAaAbcDDd\n",
      "bcD\n",
      "3\n"
     ]
    }
   ],
   "source": [
    "import sys\n",
    "import math\n",
    "\n",
    "# Auto-generated code below aims at helping you parse\n",
    "# the standard input according to the problem statement.\n",
    "\n",
    "s = input()\n",
    "# print(s)\n",
    "e = 0\n",
    "for i in range(100):\n",
    "    for i in range(26):\n",
    "        c = chr(65+i)\n",
    "        e += s.count(c+c.lower())\n",
    "        s = s.replace(c+c.lower(), '')\n",
    "        e += s.count(c.lower()+c)\n",
    "        s = s.replace(c.lower()+c, '')\n",
    "    # print(s.count(c+c.lower()), s.count(c.lower()+c))\n",
    "\n",
    "print(s)\n",
    "print(e)"
   ]
  },
  {
   "cell_type": "markdown",
   "metadata": {},
   "source": [
    "Yeah... Why go through every letter? Just count 'n replace them! :facepalm:\n",
    "\n",
    "However I don't really understand why he must use a nested `for` loop."
   ]
  }
 ],
 "metadata": {
  "kernelspec": {
   "display_name": "Python 3",
   "language": "python",
   "name": "python3"
  },
  "language_info": {
   "codemirror_mode": {
    "name": "ipython",
    "version": 3
   },
   "file_extension": ".py",
   "mimetype": "text/x-python",
   "name": "python",
   "nbconvert_exporter": "python",
   "pygments_lexer": "ipython3",
   "version": "3.7.4"
  }
 },
 "nbformat": 4,
 "nbformat_minor": 2
}
