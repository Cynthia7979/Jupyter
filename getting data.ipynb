{
 "cells": [
  {
   "cell_type": "markdown",
   "metadata": {},
   "source": [
    "libs:\n",
    "requests\n",
    "bs4\n"
   ]
  },
  {
   "cell_type": "code",
   "execution_count": 4,
   "metadata": {
    "collapsed": true
   },
   "outputs": [],
   "source": [
    "import requests\n",
    "from bs4 import BeautifulSoup\n",
    "import re"
   ]
  },
  {
   "cell_type": "code",
   "execution_count": 6,
   "metadata": {},
   "outputs": [
    {
     "data": {
      "text/plain": [
       "'<span class=\"allstar40 main-title-rating\" title=\"推荐\"/>'"
      ]
     },
     "execution_count": 6,
     "metadata": {},
     "output_type": "execute_result"
    }
   ],
   "source": [
    "url='https://movie.douban.com/subject/27605698/reviews?start='\n",
    "page0=url+str(0)\n",
    "content0=requests.get(page0) #response obj\n",
    "content0.content #web source\n",
    "content0.text #source in better text format\n",
    "soup=BeautifulSoup(content0.text,'xml')\n",
    "star_list0=soup.findAll('span',class_=re.compile('allstar+')) #<label>,[attribute] ;re.compile\n",
    "str(star_list0[0])"
   ]
  }
 ],
 "metadata": {
  "kernelspec": {
   "display_name": "Python 3",
   "language": "python",
   "name": "python3"
  },
  "language_info": {
   "codemirror_mode": {
    "name": "ipython",
    "version": 3
   },
   "file_extension": ".py",
   "mimetype": "text/x-python",
   "name": "python",
   "nbconvert_exporter": "python",
   "pygments_lexer": "ipython3",
   "version": "3.6.3"
  }
 },
 "nbformat": 4,
 "nbformat_minor": 2
}
