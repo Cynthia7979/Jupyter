{
 "cells": [
  {
   "cell_type": "code",
   "execution_count": 1,
   "metadata": {},
   "outputs": [
    {
     "name": "stderr",
     "output_type": "stream",
     "text": [
      "Using TensorFlow backend.\n"
     ]
    }
   ],
   "source": [
    "from collections.abc import Collection\n",
    "from collections import Counter #for counting occurence of strings in text\n",
    "import matplotlib.pyplot as plt\n",
    "import numpy as np\n",
    "from wordcloud import WordCloud #wordcloud generator\n",
    "from sklearn.preprocessing import OneHotEncoder\n",
    "import tensorflow\n",
    "import keras"
   ]
  },
  {
   "cell_type": "markdown",
   "metadata": {},
   "source": [
    "# English Text"
   ]
  },
  {
   "cell_type": "code",
   "execution_count": null,
   "metadata": {
    "collapsed": true
   },
   "outputs": [],
   "source": [
    "hi='hello'\n",
    "print(hi.upper())  #UPPERCASE\n",
    "print(hi[-2])      #The second letter from the end #indexerr0r!!(\n",
    "print(hi[0:3])     #for unknown reasons [0:3] means [0],[1],[2], excluding [3]"
   ]
  },
  {
   "cell_type": "code",
   "execution_count": null,
   "metadata": {
    "collapsed": true
   },
   "outputs": [],
   "source": [
    "text='This is a test text.'\n",
    "for c in text:\n",
    "    if c != ' ':\n",
    "        print(c,end='') #override the default end='\\n' to avoid new line\n",
    "    else:\n",
    "        print()"
   ]
  },
  {
   "cell_type": "code",
   "execution_count": null,
   "metadata": {
    "collapsed": true
   },
   "outputs": [],
   "source": [
    "print(text.split(' '))                 #split by the arg which is discarded in the result\n",
    "print(text.replace('text','sentence')) #replace the first with the second"
   ]
  },
  {
   "cell_type": "code",
   "execution_count": null,
   "metadata": {
    "collapsed": true
   },
   "outputs": [],
   "source": [
    "punc=['.',',',':',';','\"','\\'']\n",
    "for c in text:\n",
    "    if c in punc:\n",
    "        text=text.replace(c,' ')\n",
    "\n",
    "for c in text.split(' '):\n",
    "    if c != '':\n",
    "        print(c)"
   ]
  },
  {
   "cell_type": "code",
   "execution_count": null,
   "metadata": {
    "collapsed": true
   },
   "outputs": [],
   "source": [
    "raw_article=\"\"\"BEIJING - Xi Jinping, general secretary of the Communist Party of China (CPC) Central Committee and Chinese president, and his wife Peng Liyuan on Sunday met with Ri Su-yong, a senior official from the Democratic People's Republic of Korea (DPRK), and watched a performance by DPRK artists.\n",
    "\n",
    "Ri, a member of the Political Bureau of the Workers' Party of Korea (WPK) Central Committee, vice-chairman of the WPK Central Committee and director of the party's International Department, is leading an art troupe to visit China.\n",
    "\n",
    "This visit, as an important cultural exchange activity for implementing the consensus reached by the two sides, as well as a significant event in celebration of the 70th anniversary of the establishment of China-DPRK diplomatic relationship, will be a great success to cement friendship between the two peoples, Xi said.\n",
    "\n",
    "Ri extended to Xi and his wife Peng Liyuan warm greetings and good wishes from Kim Jong-un, chairman of the WPK and chairman of the State Affairs Commission of the DPRK, and his wife Ri Sol-ju.\n",
    "\n",
    "Xi asked Ri to convey the cordial greetings and good wishes to Kim and his wife.\n",
    "\n",
    "Xi said he and Kim had reached important consensus on the development of China-DPRK party-to-party and state-to-state relations in the new era during their four meetings since 2018.\n",
    "\n",
    "China stands ready to work with the DPRK to implement the important consensus reached by the two sides, so as to better benefit the two peoples and contribute to world peace, stability, development and prosperity, Xi said.\n",
    "\n",
    "Art and cultural exchange is an important, unique and traditional component in bilateral ties, Xi said, calling for joint efforts in implementing the consensus on strengthening art and cultural exchanges and cooperation, so as to consolidate the foundation of good will of the people, carry forward traditional friendship, and promote the development of respective socialist cultures.\n",
    "\n",
    "Ri expressed gratitude to Xi and his wife for watching the performance.\n",
    "\n",
    "This visit and art performance represented Kim's deep feelings to Xi and the DPRK people's profound friendship with the Chinese people, Ri said.\n",
    "\n",
    "The DPRK side will earnestly implement the important consensus reached by Kim and Xi, strengthen friendly cooperation and contribute to writing a new chapter in DPRK-China friendship, Ri added.\n",
    "\n",
    "The performance featured famous and popular songs in both the DPRK and China.\n",
    "\n",
    "The visit of the DPRK art troupe is at the invitation of the International Department of the CPC Central Committee.'\"\"\""
   ]
  },
  {
   "cell_type": "code",
   "execution_count": null,
   "metadata": {
    "collapsed": true
   },
   "outputs": [],
   "source": [
    "legal_char='qwertyuiopasdfghjklzxcvbnm1234567890-_\\''\n",
    "article=raw_article.lower()\n",
    "word_list=[]\n",
    "word=''\n",
    "for c in article:\n",
    "    if c in legal_char:\n",
    "        word=word+c\n",
    "    elif word!='':\n",
    "        word_list.append(word)\n",
    "        word=''\n",
    "\n",
    "if word!='':\n",
    "    word_list.append(word)\n",
    "    word=''\n",
    "\n",
    "print(word_list)"
   ]
  },
  {
   "cell_type": "code",
   "execution_count": null,
   "metadata": {
    "collapsed": true
   },
   "outputs": [],
   "source": [
    "occur_the,occur_a=0,0\n",
    "for word in word_list:\n",
    "    if word ==\"the\":\n",
    "        occur_the+=1\n",
    "    elif word ==\"a\":\n",
    "        occur_a+=1\n",
    "\n",
    "freq_the=occur_the/len(word_list)\n",
    "freq_a=occur_a/len(word_list)\n",
    "print('the:',freq_the,' a:',freq_a)"
   ]
  },
  {
   "cell_type": "code",
   "execution_count": null,
   "metadata": {
    "collapsed": true
   },
   "outputs": [],
   "source": [
    "letters='abcdefghijklmnopqrstuvwxyz'\n",
    "length=len(article)\n",
    "counter=0\n",
    "occur=[]\n",
    "i=0\n",
    "for c in letters:\n",
    "    i+=1\n",
    "    for d in article:\n",
    "        if c==d:\n",
    "            counter+=1\n",
    "    occur.append(counter)\n",
    "    plt.plot([i,i],[0,counter],'-',linewidth=10)\n",
    "    counter=0\n",
    "\n",
    "plt.show()"
   ]
  },
  {
   "cell_type": "code",
   "execution_count": null,
   "metadata": {
    "collapsed": true
   },
   "outputs": [],
   "source": [
    "word_set=set(word_list) #turns the list into a set\n",
    "dic=Counter(word_list)\n",
    "sorted_list=dic.most_common()\n",
    "print(sorted_list)"
   ]
  },
  {
   "cell_type": "code",
   "execution_count": null,
   "metadata": {
    "collapsed": true
   },
   "outputs": [],
   "source": [
    "def print_first_n(data,n):\n",
    "    for i in range(n):\n",
    "        print(data[i][0],':',data[i][1])\n",
    "        \n",
    "print_first_n(sorted_list,3)"
   ]
  },
  {
   "cell_type": "code",
   "execution_count": null,
   "metadata": {
    "collapsed": true
   },
   "outputs": [],
   "source": [
    "token=[]\n",
    "occurence=[]\n",
    "for i in range(20):\n",
    "    token.append(sorted_list[i][0])\n",
    "    occurence.append(sorted_list[i][1])\n",
    "plt.bar(token,occurence)\n",
    "plt.xticks(size=20,rotation=30)\n",
    "plt.show()"
   ]
  },
  {
   "cell_type": "code",
   "execution_count": null,
   "metadata": {
    "collapsed": true
   },
   "outputs": [],
   "source": [
    "wcmodel=WordCloud(background_color=\"black\",font_path='C:\\Windows\\Fonts\\Georgia\\georgiab.ttf',height=900,width=900).generate(raw_article)\n",
    "plt.imshow(wcmodel)\n",
    "plt.axis('off')   #no axis\n",
    "plt.show()"
   ]
  },
  {
   "cell_type": "markdown",
   "metadata": {},
   "source": [
    "# Chinese"
   ]
  },
  {
   "cell_type": "code",
   "execution_count": 2,
   "metadata": {
    "collapsed": true
   },
   "outputs": [],
   "source": [
    "#read file\n",
    "poetry=open('D:/poetry.txt','r',encoding='utf-8')\n",
    "poem=poetry.readlines()  #read all lines as a list; you can read 1 line with readline()\n",
    "poetry.close()"
   ]
  },
  {
   "cell_type": "code",
   "execution_count": 3,
   "metadata": {},
   "outputs": [
    {
     "name": "stdout",
     "output_type": "stream",
     "text": [
      "2586053\n"
     ]
    }
   ],
   "source": [
    "#preprocession\n",
    "\n",
    "#dealing with puctuations\n",
    "punc=[',', '.' ,'_', ')', '(', '。', '，', ',', '》', '《', '\\n','“','”']\n",
    "for i in range(len(poem)):\n",
    "    for sym in punc:\n",
    "        poem[i]=poem[i].replace(sym,' ')\n",
    "\n",
    "#spliting title and body\n",
    "titles=[]\n",
    "content=[]\n",
    "for i in range(len(poem)):\n",
    "    temp=poem[i].split(':')\n",
    "    if len(temp)<2:\n",
    "        titles.append('UNTITLED')\n",
    "        content.append(temp[0])\n",
    "    else:\n",
    "        titles.append(temp[0])\n",
    "        content.append(temp[1])\n",
    "\n",
    "#del punctuation\n",
    "for i in range(len(content)):\n",
    "    content[i]=content[i].replace(' ', '')\n",
    "\n",
    "#put all characters into a list\n",
    "char=[]\n",
    "for i in range(len(content)):\n",
    "    for c in range(len(content[i])):\n",
    "        char.append(content[i][c])\n",
    "print(len(char))"
   ]
  },
  {
   "cell_type": "code",
   "execution_count": 4,
   "metadata": {},
   "outputs": [
    {
     "name": "stdout",
     "output_type": "stream",
     "text": [
      "7549\n"
     ]
    },
    {
     "data": {
      "image/png": "[encoded data removed]",
      "text/plain": [
       "<matplotlib.figure.Figure at 0xc092400>"
      ]
     },
     "metadata": {},
     "output_type": "display_data"
    }
   ],
   "source": [
    "char_count=Counter(char)\n",
    "sorted_char=char_count.most_common()\n",
    "print(len(sorted_char))\n",
    "most_used=sorted_char[0:1000]\n",
    "for i in range(1000):\n",
    "    plt.plot([i,i],[0,most_used[i][1]],'-',linewidth=1)\n",
    "plt.show()"
   ]
  },
  {
   "cell_type": "code",
   "execution_count": 11,
   "metadata": {},
   "outputs": [
    {
     "data": {
      "image/png": "[encoded data removed]",
      "text/plain": [
       "<matplotlib.figure.Figure at 0x1ad9cb38>"
      ]
     },
     "metadata": {},
     "output_type": "display_data"
    }
   ],
   "source": [
    "plt.rcParams['font.sans-serif']=['SimHei'] #chinese font\n",
    "plt.rcParams['axes.unicode_minus']=False\n",
    "char_freq=[]\n",
    "char_sorted=[]\n",
    "for i in range(20):\n",
    "    char_sorted.append(sorted_char[i][0])\n",
    "    char_freq.append(sorted_char[i][1])\n",
    "plt.bar(char_sorted,char_freq)\n",
    "plt.show()"
   ]
  },
  {
   "cell_type": "code",
   "execution_count": null,
   "metadata": {
    "collapsed": true
   },
   "outputs": [],
   "source": [
    "chinese_text=''\n",
    "for i in char:\n",
    "    chinese_text+=i\n",
    "wcmodel2=WordCloud(background_color=\"black\",font_path='C:\\Windows\\Fonts\\微软雅黑\\msyh.ttf').generate(chinese_text)\n",
    "plt.imshow(wcmodel2)\n",
    "plt.axis('off') \n",
    "plt.show()"
   ]
  },
  {
   "cell_type": "code",
   "execution_count": null,
   "metadata": {
    "collapsed": true,
    "scrolled": true
   },
   "outputs": [],
   "source": [
    "frqc={}\n",
    "for i in sorted_char:\n",
    "    frqc[i[0]]=i[1]\n",
    "wcmodel3=WordCloud(background_color=\"black\",font_path='C:\\Windows\\Fonts\\微软雅黑\\msyh.ttf',height=1080,width=1920).generate_from_frequencies(frqc)\n",
    "plt.figure(figsize=(100,100))\n",
    "plt.imshow(wcmodel3) \n",
    "plt.axis('off') \n",
    "plt.show()"
   ]
  },
  {
   "cell_type": "code",
   "execution_count": null,
   "metadata": {
    "collapsed": true
   },
   "outputs": [],
   "source": [
    "#from scipy.misc import imread \n",
    "#img=imread('<filepath>')\n",
    "#model=WordCloud(mask=img).generate(text)"
   ]
  },
  {
   "cell_type": "markdown",
   "metadata": {},
   "source": [
    "# word embedding: turn words into vectors"
   ]
  },
  {
   "cell_type": "markdown",
   "metadata": {},
   "source": [
    "## word2vec\n",
    "## one-hot\n",
    "## Glove"
   ]
  },
  {
   "cell_type": "code",
   "execution_count": 12,
   "metadata": {
    "collapsed": true
   },
   "outputs": [],
   "source": [
    "def one_hot_encoder(data,n=2000):\n",
    "    vector_dict={}\n",
    "    for i in range(n-1):\n",
    "        vec=np.zeros(shape=[n])\n",
    "        vec[i]=1.0\n",
    "        vector_dict[data[i][0]]=vec\n",
    "    for i in range(n-1,len(data)):\n",
    "        vec=np.zeros(shape=[n])\n",
    "        vec[n-1]=1.0\n",
    "        vector_dict[data[i][0]]=vec\n",
    "    return vector_dict"
   ]
  },
  {
   "cell_type": "code",
   "execution_count": 14,
   "metadata": {
    "collapsed": true
   },
   "outputs": [],
   "source": [
    "n=2000\n",
    "vector_dict=one_hot_encoder(sorted_char)\n",
    "\n",
    "prev=[]\n",
    "latt=[]\n",
    "for poem in content:\n",
    "    length=len(poem)\n",
    "    for i in range(length-1):\n",
    "        if (poem[i] in vector_dict.keys()) and (poem[i+1] in vector_dict.keys()):\n",
    "            prev.append(poem[i])\n",
    "            latt.append(vector_dict[poem[i+1]])\n",
    "            \n"
   ]
  },
  {
   "cell_type": "code",
   "execution_count": null,
   "metadata": {
    "collapsed": true
   },
   "outputs": [],
   "source": [
    "def predict(char_vect,vec_size=2000,it=20):\n",
    "    if char not in vector_dict:\n",
    "        print('char not in dict')\n",
    "        return\n",
    "    else:\n",
    "        freq_vec=np.zeros(shape=[vec_size])\n",
    "        vec_in=vector_dict[char]\n",
    "        for i in range(len(prev)):\n",
    "            if (prev[i]== vec_in).all():  #.all() returns true iff all dimensions are true, .any() is OR\n",
    "                freq_vec=freq_vec+np.array(latt[i])\n",
    "        max_index=[0]\n",
    "        max_freq=0\n",
    "        for i in range(len(freq_vec)):\n",
    "            if freq_vec[i]>max_freq:\n",
    "                max_freq=freq_vec[i]\n",
    "                max_index=[i]\n",
    "            elif freq_vec[i]==max_freq:\n",
    "                max_index.append(i)\n",
    "        idx=max_index[0]\n",
    "        if it==0:\n",
    "            return max_index\n",
    "        predict(,vec_size,it-1)\n",
    "        \n",
    "predict('不',vec_size=2000)"
   ]
  },
  {
   "cell_type": "markdown",
   "metadata": {},
   "source": [
    "pred_dict={}\n",
    "\n",
    "for w in vector_dict.keys():\n",
    "    for i in range(len(prev)):\n",
    "        arr=np.zeros(shape=[2000])\n",
    "        if (prev[i]==vector_dict[w]).all():\n",
    "            arr=arr+latt[i]\n",
    "    index=np.argmax(arr)\n",
    "    pred_dict[w]=sorted_char[index][0]"
   ]
  },
  {
   "cell_type": "code",
   "execution_count": 81,
   "metadata": {
    "collapsed": true
   },
   "outputs": [],
   "source": [
    "pred_dict={}\n",
    "for k in range(5000):\n",
    "    w=sorted_char[k][0]\n",
    "    arr=np.zeros(shape=[2000])\n",
    "    for i in range(len(prev)):\n",
    "        if prev[i]==w:\n",
    "            arr=arr+latt[i]\n",
    "    index=np.argsort(arr[:-1])[-5:]\n",
    "    pred_dict[w] = []\n",
    "    for i in range(5):\n",
    "        pred_dict[w].append(sorted_char[ index[i]][0])"
   ]
  },
  {
   "cell_type": "code",
   "execution_count": 116,
   "metadata": {},
   "outputs": [
    {
     "data": {
      "text/plain": [
       "['如', '得', '可', '见', '知']"
      ]
     },
     "execution_count": 116,
     "metadata": {},
     "output_type": "execute_result"
    }
   ],
   "source": [
    "pred_dict['不']"
   ]
  },
  {
   "cell_type": "code",
   "execution_count": null,
   "metadata": {
    "collapsed": true
   },
   "outputs": [],
   "source": [
    "def pred(char,dic,predict_dic,it=20):\n",
    "    if char not in dic.keys():\n",
    "        print('char not in dic')\n",
    "        return\n",
    "    if it>0:\n",
    "        rand=np.random.randint(0,4)\n",
    "        temp_char=dic[predict_dic[char]]\n",
    "        print(temp_char,end='')\n",
    "        return pred(temp_char,dic,predict_dic,it=it-1)\n",
    "    \n",
    "    return\n"
   ]
  },
  {
   "cell_type": "code",
   "execution_count": 111,
   "metadata": {
    "collapsed": true
   },
   "outputs": [],
   "source": [
    "def next_char(char):\n",
    "    rand=np.random.randint(0,4)\n",
    "    temp=pred_dict[char]\n",
    "    result=temp[rand]\n",
    "    return result"
   ]
  },
  {
   "cell_type": "code",
   "execution_count": 119,
   "metadata": {
    "collapsed": true
   },
   "outputs": [],
   "source": [
    "def write(begin='人',n=4,l=5):\n",
    "    output=''\n",
    "    last_char=begin\n",
    "    for z in range(n):\n",
    "        for k in range(l):\n",
    "            output+=(last_char)\n",
    "            last_char=next_char(last_char)\n",
    "        if z %2==0:\n",
    "            output+=('，')\n",
    "        else:\n",
    "            output+=('。')\n",
    "    print(output)\n",
    "    return"
   ]
  },
  {
   "cell_type": "code",
   "execution_count": 171,
   "metadata": {},
   "outputs": [
    {
     "name": "stdout",
     "output_type": "stream",
     "text": [
      "天上有余霞，明朝天涯望。月夜月中无，事何时来时。\n"
     ]
    }
   ],
   "source": [
    "write(begin='天')"
   ]
  },
  {
   "cell_type": "code",
   "execution_count": 7,
   "metadata": {},
   "outputs": [],
   "source": [
    "word2idx={}\n",
    "for i in range(1999):\n",
    "    word2idx[sorted_char[i][0]]=i+1\n",
    "word2idx['UNK']=2000\n",
    "\n",
    "idx2word={}\n",
    "for i in range(1999):\n",
    "    idx2word[1+i]=sorted_char[i][0]\n",
    "idx2word[2000]='UNK'"
   ]
  },
  {
   "cell_type": "code",
   "execution_count": 8,
   "metadata": {
    "collapsed": true
   },
   "outputs": [],
   "source": [
    "feature=[]\n",
    "label=[]\n",
    "for poem in content:\n",
    "    for i in range(len(poem)-4):\n",
    "        ftr=[]\n",
    "        for j in range(5):\n",
    "            if poem[i+j] in word2idx.keys():\n",
    "                if j==2:\n",
    "                    label.append(word2idx[poem[i+j]])\n",
    "                else:\n",
    "                    ftr.append(word2idx[poem[i+j]])\n",
    "            elif j==2:\n",
    "                label.append(2000)\n",
    "            else:\n",
    "                ftr.append(2000)\n",
    "        feature.append(ftr)"
   ]
  },
  {
   "cell_type": "code",
   "execution_count": 11,
   "metadata": {},
   "outputs": [
    {
     "data": {
      "text/plain": [
       "342"
      ]
     },
     "execution_count": 11,
     "metadata": {},
     "output_type": "execute_result"
    }
   ],
   "source": [
    "label[0]"
   ]
  }
 ],
 "metadata": {
  "kernelspec": {
   "display_name": "Python 3",
   "language": "python",
   "name": "python3"
  },
  "language_info": {
   "codemirror_mode": {
    "name": "ipython",
    "version": 3
   },
   "file_extension": ".py",
   "mimetype": "text/x-python",
   "name": "python",
   "nbconvert_exporter": "python",
   "pygments_lexer": "ipython3",
   "version": "3.6.3"
  }
 },
 "nbformat": 4,
 "nbformat_minor": 2
}
